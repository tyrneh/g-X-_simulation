{
 "cells": [
  {
   "cell_type": "markdown",
   "id": "4815e124",
   "metadata": {},
   "source": [
    "# Assumptions:"
   ]
  },
  {
   "cell_type": "code",
   "execution_count": 1,
   "id": "c677462b",
   "metadata": {},
   "outputs": [],
   "source": [
    "# set probabilities:\n",
    "BELOW_RATE_OF_RETURN_g1 = -0.4661\n",
    "BELOW_RATE_OF_RETURN_g2 = -0.4661\n",
    "BELOW_RATE_OF_RETURN_g3 = -0.3634\n",
    "BELOW_RATE_OF_RETURN_g4 = -0.3634\n",
    "BELOW_RATE_OF_RETURN_g5 = -0.3634\n",
    "BELOW_RATE_OF_RETURN_g6 = -0.3211\n",
    "\n",
    "#treat these as NEG_OPER_PROFIT_gX\n",
    "FOURTY_PERCENT_g1 = -0.8010\n",
    "FOURTY_PERCENT_g2 = -0.8010\n",
    "FOURTY_PERCENT_g3 = -0.7755\n",
    "FOURTY_PERCENT_g4 = -0.7755\n",
    "FOURTY_PERCENT_g5 = -0.7755\n",
    "FOURTY_PERCENT_g6 = -0.7469\n",
    "\n",
    "#rerun model 20 times, incrementing neg_oper_profit by -5% each time\n",
    "NEG_OPER_PROFIT = -0.85\n",
    "\n",
    "\n",
    "# set the number of samples you want to generate\n",
    "NUM_SAMPLES = 10000\n"
   ]
  },
  {
   "cell_type": "markdown",
   "id": "587e1083",
   "metadata": {},
   "source": [
    "# Start model"
   ]
  },
  {
   "cell_type": "code",
   "execution_count": 2,
   "id": "4454da3c",
   "metadata": {},
   "outputs": [],
   "source": [
    "import numpy as np\n",
    "# from scipy.linalg import eigh, cholesky\n",
    "# from scipy.stats import norm\n",
    "# from scipy.spatial import distance\n",
    "import seaborn as sns \n",
    "\n",
    "import pandas as pd\n",
    "import matplotlib.pyplot as plt\n",
    "\n",
    "from pylab import plot, show, axis, subplot, xlabel, ylabel, grid\n",
    "\n",
    "from IPython.core.interactiveshell import InteractiveShell\n",
    "InteractiveShell.ast_node_interactivity = \"all\""
   ]
  },
  {
   "cell_type": "markdown",
   "id": "2b42f104",
   "metadata": {},
   "source": [
    "# ---- First, we want to generate simulations from the 6 underlying RV, $ x_i $,  for i = 1,...,6, where $x_i$ are NORMALLY DISTRIBUTED with known mean and variance and are correlated with each other ----"
   ]
  },
  {
   "cell_type": "code",
   "execution_count": 3,
   "id": "c3be2a60",
   "metadata": {},
   "outputs": [
    {
     "data": {
      "text/html": [
       "<div>\n",
       "<style scoped>\n",
       "    .dataframe tbody tr th:only-of-type {\n",
       "        vertical-align: middle;\n",
       "    }\n",
       "\n",
       "    .dataframe tbody tr th {\n",
       "        vertical-align: top;\n",
       "    }\n",
       "\n",
       "    .dataframe thead th {\n",
       "        text-align: right;\n",
       "    }\n",
       "</style>\n",
       "<table border=\"1\" class=\"dataframe\">\n",
       "  <thead>\n",
       "    <tr style=\"text-align: right;\">\n",
       "      <th></th>\n",
       "      <th>Industrial feedstock: Ammonia</th>\n",
       "      <th>Industrial feedstock: Refining &amp; other</th>\n",
       "      <th>Industrial heat</th>\n",
       "      <th>Power</th>\n",
       "      <th>Transport: HGV road &amp; rail</th>\n",
       "      <th>Transport: Marine</th>\n",
       "    </tr>\n",
       "  </thead>\n",
       "  <tbody>\n",
       "    <tr>\n",
       "      <th>Industrial feedstock: Ammonia</th>\n",
       "      <td>0.054319</td>\n",
       "      <td>0.014208</td>\n",
       "      <td>-0.014652</td>\n",
       "      <td>0.004455</td>\n",
       "      <td>-0.012164</td>\n",
       "      <td>-0.008068</td>\n",
       "    </tr>\n",
       "    <tr>\n",
       "      <th>Industrial feedstock: Refining &amp; other</th>\n",
       "      <td>0.014208</td>\n",
       "      <td>0.041056</td>\n",
       "      <td>-0.004413</td>\n",
       "      <td>0.005135</td>\n",
       "      <td>-0.010829</td>\n",
       "      <td>-0.006443</td>\n",
       "    </tr>\n",
       "    <tr>\n",
       "      <th>Industrial heat</th>\n",
       "      <td>-0.014652</td>\n",
       "      <td>-0.004413</td>\n",
       "      <td>0.045463</td>\n",
       "      <td>0.015136</td>\n",
       "      <td>0.038358</td>\n",
       "      <td>0.011271</td>\n",
       "    </tr>\n",
       "    <tr>\n",
       "      <th>Power</th>\n",
       "      <td>0.004455</td>\n",
       "      <td>0.005135</td>\n",
       "      <td>0.015136</td>\n",
       "      <td>0.027171</td>\n",
       "      <td>0.009948</td>\n",
       "      <td>0.003242</td>\n",
       "    </tr>\n",
       "    <tr>\n",
       "      <th>Transport: HGV road &amp; rail</th>\n",
       "      <td>-0.012164</td>\n",
       "      <td>-0.010829</td>\n",
       "      <td>0.038358</td>\n",
       "      <td>0.009948</td>\n",
       "      <td>0.030230</td>\n",
       "      <td>0.008189</td>\n",
       "    </tr>\n",
       "    <tr>\n",
       "      <th>Transport: Marine</th>\n",
       "      <td>-0.008068</td>\n",
       "      <td>-0.006443</td>\n",
       "      <td>0.011271</td>\n",
       "      <td>0.003242</td>\n",
       "      <td>0.008189</td>\n",
       "      <td>0.021163</td>\n",
       "    </tr>\n",
       "  </tbody>\n",
       "</table>\n",
       "</div>"
      ],
      "text/plain": [
       "                                        Industrial feedstock: Ammonia  \\\n",
       "Industrial feedstock: Ammonia                                0.054319   \n",
       "Industrial feedstock: Refining & other                       0.014208   \n",
       "Industrial heat                                             -0.014652   \n",
       "Power                                                        0.004455   \n",
       "Transport: HGV road & rail                                  -0.012164   \n",
       "Transport: Marine                                           -0.008068   \n",
       "\n",
       "                                        Industrial feedstock: Refining & other  \\\n",
       "Industrial feedstock: Ammonia                                         0.014208   \n",
       "Industrial feedstock: Refining & other                                0.041056   \n",
       "Industrial heat                                                      -0.004413   \n",
       "Power                                                                 0.005135   \n",
       "Transport: HGV road & rail                                           -0.010829   \n",
       "Transport: Marine                                                    -0.006443   \n",
       "\n",
       "                                        Industrial heat     Power  \\\n",
       "Industrial feedstock: Ammonia                 -0.014652  0.004455   \n",
       "Industrial feedstock: Refining & other        -0.004413  0.005135   \n",
       "Industrial heat                                0.045463  0.015136   \n",
       "Power                                          0.015136  0.027171   \n",
       "Transport: HGV road & rail                     0.038358  0.009948   \n",
       "Transport: Marine                              0.011271  0.003242   \n",
       "\n",
       "                                        Transport: HGV road & rail  \\\n",
       "Industrial feedstock: Ammonia                            -0.012164   \n",
       "Industrial feedstock: Refining & other                   -0.010829   \n",
       "Industrial heat                                           0.038358   \n",
       "Power                                                     0.009948   \n",
       "Transport: HGV road & rail                                0.030230   \n",
       "Transport: Marine                                         0.008189   \n",
       "\n",
       "                                        Transport: Marine  \n",
       "Industrial feedstock: Ammonia                   -0.008068  \n",
       "Industrial feedstock: Refining & other          -0.006443  \n",
       "Industrial heat                                  0.011271  \n",
       "Power                                            0.003242  \n",
       "Transport: HGV road & rail                       0.008189  \n",
       "Transport: Marine                                0.021163  "
      ]
     },
     "execution_count": 3,
     "metadata": {},
     "output_type": "execute_result"
    },
    {
     "data": {
      "text/plain": [
       "array([[ 0.05431874,  0.01420841, -0.01465216,  0.00445543, -0.01216418,\n",
       "        -0.0080684 ],\n",
       "       [ 0.01420841,  0.04105613, -0.00441315,  0.0051354 , -0.01082936,\n",
       "        -0.0064431 ],\n",
       "       [-0.01465216, -0.00441315,  0.04546345,  0.01513586,  0.03835776,\n",
       "         0.01127145],\n",
       "       [ 0.00445543,  0.0051354 ,  0.01513586,  0.02717133,  0.00994801,\n",
       "         0.00324229],\n",
       "       [-0.01216418, -0.01082936,  0.03835776,  0.00994801,  0.03023001,\n",
       "         0.00818946],\n",
       "       [-0.0080684 , -0.0064431 ,  0.01127145,  0.00324229,  0.00818946,\n",
       "         0.02116256]])"
      ]
     },
     "execution_count": 3,
     "metadata": {},
     "output_type": "execute_result"
    }
   ],
   "source": [
    "# read in covariance matrix as a dataframe\n",
    "df_cov = pd.read_excel(\"Variance Matrices.xlsx\", sheet_name = \"cov\", index_col = 0)\n",
    "df_cov\n",
    "\n",
    "# convert cov dataframe to an array \n",
    "cov_array = np.array(df_cov)\n",
    "cov_array"
   ]
  },
  {
   "cell_type": "code",
   "execution_count": 4,
   "id": "5ee880f1",
   "metadata": {},
   "outputs": [
    {
     "name": "stderr",
     "output_type": "stream",
     "text": [
      "<ipython-input-4-e3ebb5cbf039>:2: RuntimeWarning: covariance is not positive-semidefinite.\n",
      "  simulations = np.random.multivariate_normal(mean=np.zeros(6), cov=cov_array, size=NUM_SAMPLES)\n"
     ]
    },
    {
     "data": {
      "text/html": [
       "<div>\n",
       "<style scoped>\n",
       "    .dataframe tbody tr th:only-of-type {\n",
       "        vertical-align: middle;\n",
       "    }\n",
       "\n",
       "    .dataframe tbody tr th {\n",
       "        vertical-align: top;\n",
       "    }\n",
       "\n",
       "    .dataframe thead th {\n",
       "        text-align: right;\n",
       "    }\n",
       "</style>\n",
       "<table border=\"1\" class=\"dataframe\">\n",
       "  <thead>\n",
       "    <tr style=\"text-align: right;\">\n",
       "      <th></th>\n",
       "      <th>x1</th>\n",
       "      <th>x2</th>\n",
       "      <th>x3</th>\n",
       "      <th>x4</th>\n",
       "      <th>x5</th>\n",
       "      <th>x6</th>\n",
       "    </tr>\n",
       "  </thead>\n",
       "  <tbody>\n",
       "    <tr>\n",
       "      <th>0</th>\n",
       "      <td>0.369001</td>\n",
       "      <td>0.166816</td>\n",
       "      <td>0.117329</td>\n",
       "      <td>0.122954</td>\n",
       "      <td>0.030373</td>\n",
       "      <td>-0.049348</td>\n",
       "    </tr>\n",
       "    <tr>\n",
       "      <th>1</th>\n",
       "      <td>-0.432259</td>\n",
       "      <td>-0.050726</td>\n",
       "      <td>0.114307</td>\n",
       "      <td>-0.044920</td>\n",
       "      <td>0.135253</td>\n",
       "      <td>-0.118010</td>\n",
       "    </tr>\n",
       "    <tr>\n",
       "      <th>2</th>\n",
       "      <td>0.166565</td>\n",
       "      <td>0.138417</td>\n",
       "      <td>0.171066</td>\n",
       "      <td>0.219982</td>\n",
       "      <td>0.038857</td>\n",
       "      <td>0.101793</td>\n",
       "    </tr>\n",
       "    <tr>\n",
       "      <th>3</th>\n",
       "      <td>0.324958</td>\n",
       "      <td>0.202978</td>\n",
       "      <td>-0.183704</td>\n",
       "      <td>-0.006686</td>\n",
       "      <td>-0.233050</td>\n",
       "      <td>0.055588</td>\n",
       "    </tr>\n",
       "    <tr>\n",
       "      <th>4</th>\n",
       "      <td>-0.410322</td>\n",
       "      <td>-0.407276</td>\n",
       "      <td>-0.048122</td>\n",
       "      <td>-0.326714</td>\n",
       "      <td>0.149544</td>\n",
       "      <td>0.262961</td>\n",
       "    </tr>\n",
       "    <tr>\n",
       "      <th>...</th>\n",
       "      <td>...</td>\n",
       "      <td>...</td>\n",
       "      <td>...</td>\n",
       "      <td>...</td>\n",
       "      <td>...</td>\n",
       "      <td>...</td>\n",
       "    </tr>\n",
       "    <tr>\n",
       "      <th>9995</th>\n",
       "      <td>0.270803</td>\n",
       "      <td>0.424424</td>\n",
       "      <td>0.070244</td>\n",
       "      <td>0.298211</td>\n",
       "      <td>0.026736</td>\n",
       "      <td>-0.002715</td>\n",
       "    </tr>\n",
       "    <tr>\n",
       "      <th>9996</th>\n",
       "      <td>0.126286</td>\n",
       "      <td>0.054029</td>\n",
       "      <td>-0.429209</td>\n",
       "      <td>-0.048662</td>\n",
       "      <td>-0.318987</td>\n",
       "      <td>-0.120491</td>\n",
       "    </tr>\n",
       "    <tr>\n",
       "      <th>9997</th>\n",
       "      <td>-0.164307</td>\n",
       "      <td>0.047720</td>\n",
       "      <td>-0.043943</td>\n",
       "      <td>-0.023848</td>\n",
       "      <td>-0.114536</td>\n",
       "      <td>0.002336</td>\n",
       "    </tr>\n",
       "    <tr>\n",
       "      <th>9998</th>\n",
       "      <td>0.179217</td>\n",
       "      <td>0.159745</td>\n",
       "      <td>0.115760</td>\n",
       "      <td>0.056960</td>\n",
       "      <td>0.009299</td>\n",
       "      <td>-0.066739</td>\n",
       "    </tr>\n",
       "    <tr>\n",
       "      <th>9999</th>\n",
       "      <td>0.111700</td>\n",
       "      <td>0.011679</td>\n",
       "      <td>-0.096644</td>\n",
       "      <td>0.015735</td>\n",
       "      <td>-0.104015</td>\n",
       "      <td>-0.392090</td>\n",
       "    </tr>\n",
       "  </tbody>\n",
       "</table>\n",
       "<p>10000 rows × 6 columns</p>\n",
       "</div>"
      ],
      "text/plain": [
       "            x1        x2        x3        x4        x5        x6\n",
       "0     0.369001  0.166816  0.117329  0.122954  0.030373 -0.049348\n",
       "1    -0.432259 -0.050726  0.114307 -0.044920  0.135253 -0.118010\n",
       "2     0.166565  0.138417  0.171066  0.219982  0.038857  0.101793\n",
       "3     0.324958  0.202978 -0.183704 -0.006686 -0.233050  0.055588\n",
       "4    -0.410322 -0.407276 -0.048122 -0.326714  0.149544  0.262961\n",
       "...        ...       ...       ...       ...       ...       ...\n",
       "9995  0.270803  0.424424  0.070244  0.298211  0.026736 -0.002715\n",
       "9996  0.126286  0.054029 -0.429209 -0.048662 -0.318987 -0.120491\n",
       "9997 -0.164307  0.047720 -0.043943 -0.023848 -0.114536  0.002336\n",
       "9998  0.179217  0.159745  0.115760  0.056960  0.009299 -0.066739\n",
       "9999  0.111700  0.011679 -0.096644  0.015735 -0.104015 -0.392090\n",
       "\n",
       "[10000 rows x 6 columns]"
      ]
     },
     "execution_count": 4,
     "metadata": {},
     "output_type": "execute_result"
    }
   ],
   "source": [
    "# generate random samples using mean = 0 and cov matrix\n",
    "simulations = np.random.multivariate_normal(mean=np.zeros(6), cov=cov_array, size=NUM_SAMPLES)\n",
    "\n",
    "df_simulations = pd.DataFrame(simulations)\n",
    "df_simulations.rename(columns = {0:'x1',1:'x2',2:'x3',3:'x4',4:'x5',5:'x6'}, inplace=True)\n",
    "df_simulations"
   ]
  },
  {
   "cell_type": "markdown",
   "id": "69584736",
   "metadata": {},
   "source": [
    "#### We have generated simulations of our 6 underlying RVs.\n",
    "#### Let's sanity check that the simulated observations make sense compared to the actual observations"
   ]
  },
  {
   "cell_type": "code",
   "execution_count": 5,
   "id": "566610f5",
   "metadata": {
    "scrolled": true
   },
   "outputs": [
    {
     "data": {
      "text/plain": [
       "array([[0.  , 0.05, 0.11, 0.07, 0.1 , 0.08],\n",
       "       [0.05, 0.  , 0.09, 0.05, 0.08, 0.06],\n",
       "       [0.11, 0.09, 0.  , 0.05, 0.01, 0.05],\n",
       "       [0.07, 0.05, 0.05, 0.  , 0.04, 0.04],\n",
       "       [0.1 , 0.08, 0.01, 0.04, 0.  , 0.04],\n",
       "       [0.08, 0.06, 0.05, 0.03, 0.04, 0.  ]])"
      ]
     },
     "execution_count": 5,
     "metadata": {},
     "output_type": "execute_result"
    }
   ],
   "source": [
    "### sanity check: compute cov matrix from simulation. ###\n",
    "\n",
    "# Measure the euclidean distance between simulated cov matrix and empirical cov matrix\n",
    "# https://medium.com/swlh/euclidean-distance-matrix-4c3e1378d87f\n",
    "\n",
    "# if Euclidean distance is sufficiently far from 0, then your simulations messed up somewhere\n",
    "\n",
    "def EDM(A,B):\n",
    "    p1 = np.sum(A**2, axis=1)[:, np.newaxis]\n",
    "    p2 = np.sum(B**2, axis=1)\n",
    "    p3 = -2 * np.dot(A,B.T)\n",
    "    return np.round(np.sqrt(p1+p2+p3),2)\n",
    "\n",
    "# create covariance array from simulations\n",
    "simulations_cov_array = np.array(df_simulations.cov())\n",
    "\n",
    "# calculate euclidean distance\n",
    "EDM(simulations_cov_array,cov_array) # distance seems sufficiently close to 0"
   ]
  },
  {
   "cell_type": "code",
   "execution_count": 6,
   "id": "824468bb",
   "metadata": {},
   "outputs": [
    {
     "data": {
      "text/html": [
       "<div>\n",
       "<style scoped>\n",
       "    .dataframe tbody tr th:only-of-type {\n",
       "        vertical-align: middle;\n",
       "    }\n",
       "\n",
       "    .dataframe tbody tr th {\n",
       "        vertical-align: top;\n",
       "    }\n",
       "\n",
       "    .dataframe thead th {\n",
       "        text-align: right;\n",
       "    }\n",
       "</style>\n",
       "<table border=\"1\" class=\"dataframe\">\n",
       "  <thead>\n",
       "    <tr style=\"text-align: right;\">\n",
       "      <th></th>\n",
       "      <th>x1</th>\n",
       "      <th>x2</th>\n",
       "      <th>x3</th>\n",
       "      <th>x4</th>\n",
       "      <th>x5</th>\n",
       "      <th>x6</th>\n",
       "    </tr>\n",
       "  </thead>\n",
       "  <tbody>\n",
       "    <tr>\n",
       "      <th>x1</th>\n",
       "      <td>0.056176</td>\n",
       "      <td>0.014138</td>\n",
       "      <td>-0.015118</td>\n",
       "      <td>0.004816</td>\n",
       "      <td>-0.012406</td>\n",
       "      <td>-0.008715</td>\n",
       "    </tr>\n",
       "    <tr>\n",
       "      <th>x2</th>\n",
       "      <td>0.014138</td>\n",
       "      <td>0.039738</td>\n",
       "      <td>-0.004139</td>\n",
       "      <td>0.005655</td>\n",
       "      <td>-0.009510</td>\n",
       "      <td>-0.005920</td>\n",
       "    </tr>\n",
       "    <tr>\n",
       "      <th>x3</th>\n",
       "      <td>-0.015118</td>\n",
       "      <td>-0.004139</td>\n",
       "      <td>0.047550</td>\n",
       "      <td>0.014964</td>\n",
       "      <td>0.036217</td>\n",
       "      <td>0.011381</td>\n",
       "    </tr>\n",
       "    <tr>\n",
       "      <th>x4</th>\n",
       "      <td>0.004816</td>\n",
       "      <td>0.005655</td>\n",
       "      <td>0.014964</td>\n",
       "      <td>0.027278</td>\n",
       "      <td>0.009901</td>\n",
       "      <td>0.003275</td>\n",
       "    </tr>\n",
       "    <tr>\n",
       "      <th>x5</th>\n",
       "      <td>-0.012406</td>\n",
       "      <td>-0.009510</td>\n",
       "      <td>0.036217</td>\n",
       "      <td>0.009901</td>\n",
       "      <td>0.032408</td>\n",
       "      <td>0.008498</td>\n",
       "    </tr>\n",
       "    <tr>\n",
       "      <th>x6</th>\n",
       "      <td>-0.008715</td>\n",
       "      <td>-0.005920</td>\n",
       "      <td>0.011381</td>\n",
       "      <td>0.003275</td>\n",
       "      <td>0.008498</td>\n",
       "      <td>0.021597</td>\n",
       "    </tr>\n",
       "  </tbody>\n",
       "</table>\n",
       "</div>"
      ],
      "text/plain": [
       "          x1        x2        x3        x4        x5        x6\n",
       "x1  0.056176  0.014138 -0.015118  0.004816 -0.012406 -0.008715\n",
       "x2  0.014138  0.039738 -0.004139  0.005655 -0.009510 -0.005920\n",
       "x3 -0.015118 -0.004139  0.047550  0.014964  0.036217  0.011381\n",
       "x4  0.004816  0.005655  0.014964  0.027278  0.009901  0.003275\n",
       "x5 -0.012406 -0.009510  0.036217  0.009901  0.032408  0.008498\n",
       "x6 -0.008715 -0.005920  0.011381  0.003275  0.008498  0.021597"
      ]
     },
     "execution_count": 6,
     "metadata": {},
     "output_type": "execute_result"
    }
   ],
   "source": [
    "# can manually check if cov matrix of simulations looks like cov matrix of data\n",
    "df_simulations.cov()"
   ]
  },
  {
   "cell_type": "code",
   "execution_count": 7,
   "id": "f886f6c5",
   "metadata": {},
   "outputs": [
    {
     "data": {
      "text/plain": [
       "Text(0.5, 0.98, 'Plotting some x_i correlations')"
      ]
     },
     "execution_count": 7,
     "metadata": {},
     "output_type": "execute_result"
    },
    {
     "data": {
      "text/plain": [
       "<matplotlib.collections.PathCollection at 0x286ff370a30>"
      ]
     },
     "execution_count": 7,
     "metadata": {},
     "output_type": "execute_result"
    },
    {
     "data": {
      "text/plain": [
       "Text(0.5, 1.0, 'x1 and x2 scatter')"
      ]
     },
     "execution_count": 7,
     "metadata": {},
     "output_type": "execute_result"
    },
    {
     "data": {
      "text/plain": [
       "<matplotlib.collections.PathCollection at 0x286ff370ee0>"
      ]
     },
     "execution_count": 7,
     "metadata": {},
     "output_type": "execute_result"
    },
    {
     "data": {
      "text/plain": [
       "Text(0.5, 1.0, 'x1 and x3 scatter')"
      ]
     },
     "execution_count": 7,
     "metadata": {},
     "output_type": "execute_result"
    },
    {
     "data": {
      "text/plain": [
       "<matplotlib.collections.PathCollection at 0x286ff370eb0>"
      ]
     },
     "execution_count": 7,
     "metadata": {},
     "output_type": "execute_result"
    },
    {
     "data": {
      "text/plain": [
       "Text(0.5, 1.0, 'x1 and x4 scatter')"
      ]
     },
     "execution_count": 7,
     "metadata": {},
     "output_type": "execute_result"
    },
    {
     "data": {
      "text/plain": [
       "<matplotlib.collections.PathCollection at 0x286ff370940>"
      ]
     },
     "execution_count": 7,
     "metadata": {},
     "output_type": "execute_result"
    },
    {
     "data": {
      "text/plain": [
       "Text(0.5, 1.0, 'x3 and x5 scatter')"
      ]
     },
     "execution_count": 7,
     "metadata": {},
     "output_type": "execute_result"
    },
    {
     "data": {
      "image/png": "[encoded data removed]",
      "text/plain": [
       "<Figure size 432x288 with 4 Axes>"
      ]
     },
     "metadata": {
      "needs_background": "light"
     },
     "output_type": "display_data"
    }
   ],
   "source": [
    "# some more sanity checks - let's plot some variables\n",
    "fig, axs = plt.subplots(2,2)\n",
    "fig.suptitle('Plotting some x_i correlations')\n",
    "\n",
    "#x1 and x2 are indeed positively correlated\n",
    "axs[0,0].scatter(df_simulations['x1'], df_simulations['x2'])\n",
    "axs[0,0].set_title('x1 and x2 scatter')\n",
    "\n",
    "# x1 and x3 are indeed negatively correlated\n",
    "axs[0,1].scatter(df_simulations['x1'], df_simulations['x3'])\n",
    "axs[0,1].set_title('x1 and x3 scatter')\n",
    "\n",
    "# x1 and x4 are indeed weakly correlated\n",
    "axs[1,0].scatter(df_simulations['x1'], df_simulations['x4'])\n",
    "axs[1,0].set_title('x1 and x4 scatter')\n",
    "\n",
    "# x3 and x5 are indeed strongly correlated\n",
    "axs[1,1].scatter(df_simulations['x3'], df_simulations['x5'])\n",
    "axs[1,1].set_title('x3 and x5 scatter')"
   ]
  },
  {
   "cell_type": "markdown",
   "id": "7b802509",
   "metadata": {},
   "source": [
    "## So we have created our simulations of $ x_i $ for i from 1 to 6. \n",
    "## Now we can generate subarchetype simulations: $ g_j(X) $ = weighted sum of $ x_i $, for j subarchetypes (j = 1,...,6)"
   ]
  },
  {
   "cell_type": "code",
   "execution_count": 8,
   "id": "6166e032",
   "metadata": {
    "scrolled": false
   },
   "outputs": [
    {
     "data": {
      "text/html": [
       "<div>\n",
       "<style scoped>\n",
       "    .dataframe tbody tr th:only-of-type {\n",
       "        vertical-align: middle;\n",
       "    }\n",
       "\n",
       "    .dataframe tbody tr th {\n",
       "        vertical-align: top;\n",
       "    }\n",
       "\n",
       "    .dataframe thead th {\n",
       "        text-align: right;\n",
       "    }\n",
       "</style>\n",
       "<table border=\"1\" class=\"dataframe\">\n",
       "  <thead>\n",
       "    <tr style=\"text-align: right;\">\n",
       "      <th></th>\n",
       "      <th>subarchetype1</th>\n",
       "      <th>subarchetype2</th>\n",
       "      <th>subarchetype3</th>\n",
       "      <th>subarchetype4</th>\n",
       "      <th>subarchetype5</th>\n",
       "      <th>subarchetype6</th>\n",
       "    </tr>\n",
       "  </thead>\n",
       "  <tbody>\n",
       "    <tr>\n",
       "      <th>Industrial feedstock: Ammonia</th>\n",
       "      <td>0.0</td>\n",
       "      <td>0.00</td>\n",
       "      <td>0.8</td>\n",
       "      <td>0.25</td>\n",
       "      <td>0.15</td>\n",
       "      <td>0.0</td>\n",
       "    </tr>\n",
       "    <tr>\n",
       "      <th>Industrial feedstock: Refining &amp; other</th>\n",
       "      <td>0.0</td>\n",
       "      <td>0.00</td>\n",
       "      <td>0.0</td>\n",
       "      <td>0.25</td>\n",
       "      <td>0.15</td>\n",
       "      <td>0.0</td>\n",
       "    </tr>\n",
       "    <tr>\n",
       "      <th>Industrial heat</th>\n",
       "      <td>0.0</td>\n",
       "      <td>0.25</td>\n",
       "      <td>0.1</td>\n",
       "      <td>0.25</td>\n",
       "      <td>0.15</td>\n",
       "      <td>0.1</td>\n",
       "    </tr>\n",
       "    <tr>\n",
       "      <th>Power</th>\n",
       "      <td>0.0</td>\n",
       "      <td>0.25</td>\n",
       "      <td>0.1</td>\n",
       "      <td>0.25</td>\n",
       "      <td>0.15</td>\n",
       "      <td>0.3</td>\n",
       "    </tr>\n",
       "    <tr>\n",
       "      <th>Transport: HGV road &amp; rail</th>\n",
       "      <td>0.8</td>\n",
       "      <td>0.40</td>\n",
       "      <td>0.0</td>\n",
       "      <td>0.00</td>\n",
       "      <td>0.30</td>\n",
       "      <td>0.4</td>\n",
       "    </tr>\n",
       "    <tr>\n",
       "      <th>Transport: Marine</th>\n",
       "      <td>0.2</td>\n",
       "      <td>0.10</td>\n",
       "      <td>0.0</td>\n",
       "      <td>0.00</td>\n",
       "      <td>0.10</td>\n",
       "      <td>0.2</td>\n",
       "    </tr>\n",
       "  </tbody>\n",
       "</table>\n",
       "</div>"
      ],
      "text/plain": [
       "                                        subarchetype1  subarchetype2  \\\n",
       "Industrial feedstock: Ammonia                     0.0           0.00   \n",
       "Industrial feedstock: Refining & other            0.0           0.00   \n",
       "Industrial heat                                   0.0           0.25   \n",
       "Power                                             0.0           0.25   \n",
       "Transport: HGV road & rail                        0.8           0.40   \n",
       "Transport: Marine                                 0.2           0.10   \n",
       "\n",
       "                                        subarchetype3  subarchetype4  \\\n",
       "Industrial feedstock: Ammonia                     0.8           0.25   \n",
       "Industrial feedstock: Refining & other            0.0           0.25   \n",
       "Industrial heat                                   0.1           0.25   \n",
       "Power                                             0.1           0.25   \n",
       "Transport: HGV road & rail                        0.0           0.00   \n",
       "Transport: Marine                                 0.0           0.00   \n",
       "\n",
       "                                        subarchetype5  subarchetype6  \n",
       "Industrial feedstock: Ammonia                    0.15            0.0  \n",
       "Industrial feedstock: Refining & other           0.15            0.0  \n",
       "Industrial heat                                  0.15            0.1  \n",
       "Power                                            0.15            0.3  \n",
       "Transport: HGV road & rail                       0.30            0.4  \n",
       "Transport: Marine                                0.10            0.2  "
      ]
     },
     "execution_count": 8,
     "metadata": {},
     "output_type": "execute_result"
    }
   ],
   "source": [
    "# import weights \n",
    "# read in weights matrix as a dataframe\n",
    "df_weights = pd.read_excel(\"Variance Matrices.xlsx\", sheet_name = \"weights_subarchetype\", index_col = 0)\n",
    "\n",
    "#replace NA with 0:\n",
    "df_weights.fillna(0, inplace=True)\n",
    "df_weights"
   ]
  },
  {
   "cell_type": "markdown",
   "id": "3e75f604",
   "metadata": {},
   "source": [
    "### 1) Simulate the first subarchetype: \"Medium grid-sourced electrolytic producer: Transport-focused\""
   ]
  },
  {
   "cell_type": "code",
   "execution_count": 9,
   "id": "f7c9202c",
   "metadata": {
    "scrolled": true
   },
   "outputs": [
    {
     "data": {
      "text/plain": [
       "0       0.014429\n",
       "1       0.084601\n",
       "2       0.051444\n",
       "3      -0.175323\n",
       "4       0.172228\n",
       "          ...   \n",
       "9995    0.020846\n",
       "9996   -0.279288\n",
       "9997   -0.091162\n",
       "9998   -0.005909\n",
       "9999   -0.161630\n",
       "Length: 10000, dtype: float64"
      ]
     },
     "execution_count": 9,
     "metadata": {},
     "output_type": "execute_result"
    }
   ],
   "source": [
    "# simulate g(X) for \"Medium grid-sourced electrolytic producer: Transport-focused\"\n",
    "\n",
    "g_subarchetype1_simulations = (\n",
    " df_weights[\"subarchetype1\"][0]*df_simulations['x1'] #weight of x1 * observations of x1\n",
    " +df_weights[\"subarchetype1\"][1]*df_simulations['x2'] #weight of x2 * observations of x2\n",
    " +df_weights[\"subarchetype1\"][2]*df_simulations['x3'] #weight of x3 * observations of x3\n",
    " +df_weights[\"subarchetype1\"][3]*df_simulations['x4'] #weight of x4 * observations of x4\n",
    " +df_weights[\"subarchetype1\"][4]*df_simulations['x5'] #weight of x5 * observations of x5\n",
    " +df_weights[\"subarchetype1\"][5]*df_simulations['x6'] #weight of x6 * observations of x6\n",
    ")\n",
    "\n",
    "g_subarchetype1_simulations"
   ]
  },
  {
   "cell_type": "code",
   "execution_count": 10,
   "id": "caa4a1d3",
   "metadata": {},
   "outputs": [
    {
     "data": {
      "text/plain": [
       "<AxesSubplot:>"
      ]
     },
     "execution_count": 10,
     "metadata": {},
     "output_type": "execute_result"
    },
    {
     "data": {
      "image/png": "[encoded data removed]",
      "text/plain": [
       "<Figure size 432x288 with 1 Axes>"
      ]
     },
     "metadata": {
      "needs_background": "light"
     },
     "output_type": "display_data"
    }
   ],
   "source": [
    "g_subarchetype1_simulations.hist()"
   ]
  },
  {
   "cell_type": "markdown",
   "id": "ef0a536b",
   "metadata": {},
   "source": [
    "#### Compute the left-sided probability of g distribution, for subarchetype 1"
   ]
  },
  {
   "cell_type": "code",
   "execution_count": 11,
   "id": "3bb96abd",
   "metadata": {},
   "outputs": [
    {
     "data": {
      "text/plain": [
       "<AxesSubplot:ylabel='Probability'>"
      ]
     },
     "execution_count": 11,
     "metadata": {},
     "output_type": "execute_result"
    },
    {
     "data": {
      "text/plain": [
       "Text(0.5, 1.0, 'Subarchetype 1 Simulated Distribution - Normal x_i assumption')"
      ]
     },
     "execution_count": 11,
     "metadata": {},
     "output_type": "execute_result"
    },
    {
     "data": {
      "image/png": "[encoded data removed]",
      "text/plain": [
       "<Figure size 432x288 with 1 Axes>"
      ]
     },
     "metadata": {
      "needs_background": "light"
     },
     "output_type": "display_data"
    }
   ],
   "source": [
    "# let's create the empirical distribution of g archetype 1 \n",
    "sns.histplot(data=g_subarchetype1_simulations, kde=True, stat='probability')\n",
    "plt.title(\"Subarchetype 1 Simulated Distribution - Normal x_i assumption\")\n",
    "\n",
    "\n",
    "plt.savefig('g_subarchetype1_distribution-NORMAL_UNDERLYING.png')"
   ]
  },
  {
   "cell_type": "code",
   "execution_count": 12,
   "id": "b3e4cc3a",
   "metadata": {
    "scrolled": true
   },
   "outputs": [
    {
     "data": {
      "text/plain": [
       "<AxesSubplot:ylabel='Probability'>"
      ]
     },
     "execution_count": 12,
     "metadata": {},
     "output_type": "execute_result"
    },
    {
     "data": {
      "image/png": "[encoded data removed]",
      "text/plain": [
       "<Figure size 432x288 with 1 Axes>"
      ]
     },
     "metadata": {
      "needs_background": "light"
     },
     "output_type": "display_data"
    }
   ],
   "source": [
    "# left sided area of PDF is equal to the cumulative probability \n",
    "# convert to CDF to extract the probability at any given demand value\n",
    "\n",
    "sns.histplot(data=g_subarchetype1_simulations, kde=True, stat='probability', cumulative = True)"
   ]
  },
  {
   "cell_type": "code",
   "execution_count": 13,
   "id": "cfacbbd4",
   "metadata": {},
   "outputs": [
    {
     "data": {
      "text/html": [
       "<div>\n",
       "<style scoped>\n",
       "    .dataframe tbody tr th:only-of-type {\n",
       "        vertical-align: middle;\n",
       "    }\n",
       "\n",
       "    .dataframe tbody tr th {\n",
       "        vertical-align: top;\n",
       "    }\n",
       "\n",
       "    .dataframe thead th {\n",
       "        text-align: right;\n",
       "    }\n",
       "</style>\n",
       "<table border=\"1\" class=\"dataframe\">\n",
       "  <thead>\n",
       "    <tr style=\"text-align: right;\">\n",
       "      <th></th>\n",
       "      <th>Left-Sided Demand Deviation</th>\n",
       "      <th>Probability</th>\n",
       "    </tr>\n",
       "  </thead>\n",
       "  <tbody>\n",
       "    <tr>\n",
       "      <th>0</th>\n",
       "      <td>-0.607589</td>\n",
       "      <td>0.000000</td>\n",
       "    </tr>\n",
       "    <tr>\n",
       "      <th>1</th>\n",
       "      <td>-0.601813</td>\n",
       "      <td>0.000017</td>\n",
       "    </tr>\n",
       "    <tr>\n",
       "      <th>2</th>\n",
       "      <td>-0.596037</td>\n",
       "      <td>0.000037</td>\n",
       "    </tr>\n",
       "    <tr>\n",
       "      <th>3</th>\n",
       "      <td>-0.590261</td>\n",
       "      <td>0.000062</td>\n",
       "    </tr>\n",
       "    <tr>\n",
       "      <th>4</th>\n",
       "      <td>-0.584484</td>\n",
       "      <td>0.000092</td>\n",
       "    </tr>\n",
       "    <tr>\n",
       "      <th>...</th>\n",
       "      <td>...</td>\n",
       "      <td>...</td>\n",
       "    </tr>\n",
       "    <tr>\n",
       "      <th>195</th>\n",
       "      <td>0.518744</td>\n",
       "      <td>0.999606</td>\n",
       "    </tr>\n",
       "    <tr>\n",
       "      <th>196</th>\n",
       "      <td>0.524520</td>\n",
       "      <td>0.999669</td>\n",
       "    </tr>\n",
       "    <tr>\n",
       "      <th>197</th>\n",
       "      <td>0.530296</td>\n",
       "      <td>0.999725</td>\n",
       "    </tr>\n",
       "    <tr>\n",
       "      <th>198</th>\n",
       "      <td>0.536072</td>\n",
       "      <td>0.999773</td>\n",
       "    </tr>\n",
       "    <tr>\n",
       "      <th>199</th>\n",
       "      <td>0.541848</td>\n",
       "      <td>0.999814</td>\n",
       "    </tr>\n",
       "  </tbody>\n",
       "</table>\n",
       "<p>200 rows × 2 columns</p>\n",
       "</div>"
      ],
      "text/plain": [
       "     Left-Sided Demand Deviation  Probability\n",
       "0                      -0.607589     0.000000\n",
       "1                      -0.601813     0.000017\n",
       "2                      -0.596037     0.000037\n",
       "3                      -0.590261     0.000062\n",
       "4                      -0.584484     0.000092\n",
       "..                           ...          ...\n",
       "195                     0.518744     0.999606\n",
       "196                     0.524520     0.999669\n",
       "197                     0.530296     0.999725\n",
       "198                     0.536072     0.999773\n",
       "199                     0.541848     0.999814\n",
       "\n",
       "[200 rows x 2 columns]"
      ]
     },
     "execution_count": 13,
     "metadata": {},
     "output_type": "execute_result"
    },
    {
     "data": {
      "image/png": "[encoded data removed]",
      "text/plain": [
       "<Figure size 432x288 with 1 Axes>"
      ]
     },
     "metadata": {
      "needs_background": "light"
     },
     "output_type": "display_data"
    }
   ],
   "source": [
    "# get data from CDF\n",
    "df_g_subarchetype1_probabilities = pd.DataFrame(\n",
    "    np.transpose(\n",
    "        sns.histplot(data=g_subarchetype1_simulations, kde=True, stat='probability', cumulative = True)\n",
    "             .get_lines()[0].get_data()\n",
    "            )\n",
    ")\n",
    "\n",
    "df_g_subarchetype1_probabilities.rename(columns={0:'Left-Sided Demand Deviation',1:'Probability'}, inplace=True)\n",
    "df_g_subarchetype1_probabilities"
   ]
  },
  {
   "cell_type": "code",
   "execution_count": 14,
   "id": "b3d1c111",
   "metadata": {},
   "outputs": [],
   "source": [
    "# create function to find the closest value to any specified probability\n",
    "\n",
    "def find_neighbours(value, df, colname):\n",
    "    exactmatch = df[df[colname] == value]\n",
    "    if not exactmatch.empty:\n",
    "        return exactmatch.index\n",
    "    else:\n",
    "        lowerneighbour_ind = df[df[colname] < value][colname].idxmax()\n",
    "        upperneighbour_ind = df[df[colname] > value][colname].idxmin()\n",
    "        return [lowerneighbour_ind, upperneighbour_ind] "
   ]
  },
  {
   "cell_type": "code",
   "execution_count": 15,
   "id": "af186fc6",
   "metadata": {},
   "outputs": [
    {
     "data": {
      "text/html": [
       "<div>\n",
       "<style scoped>\n",
       "    .dataframe tbody tr th:only-of-type {\n",
       "        vertical-align: middle;\n",
       "    }\n",
       "\n",
       "    .dataframe tbody tr th {\n",
       "        vertical-align: top;\n",
       "    }\n",
       "\n",
       "    .dataframe thead th {\n",
       "        text-align: right;\n",
       "    }\n",
       "</style>\n",
       "<table border=\"1\" class=\"dataframe\">\n",
       "  <thead>\n",
       "    <tr style=\"text-align: right;\">\n",
       "      <th></th>\n",
       "      <th>Subarchetype</th>\n",
       "      <th>Below Rate of Return</th>\n",
       "      <th>Negative Operating Profit</th>\n",
       "      <th>40%</th>\n",
       "    </tr>\n",
       "  </thead>\n",
       "  <tbody>\n",
       "    <tr>\n",
       "      <th>0</th>\n",
       "      <td>1: Medium grid-sourced electrolytic producer: ...</td>\n",
       "      <td>NaN</td>\n",
       "      <td>NaN</td>\n",
       "      <td>NaN</td>\n",
       "    </tr>\n",
       "    <tr>\n",
       "      <th>1</th>\n",
       "      <td>2: Medium grid-sourced electrolytic producer: ...</td>\n",
       "      <td>NaN</td>\n",
       "      <td>NaN</td>\n",
       "      <td>NaN</td>\n",
       "    </tr>\n",
       "    <tr>\n",
       "      <th>2</th>\n",
       "      <td>3: CCUS-enabled producer serving a large indus...</td>\n",
       "      <td>NaN</td>\n",
       "      <td>NaN</td>\n",
       "      <td>NaN</td>\n",
       "    </tr>\n",
       "    <tr>\n",
       "      <th>3</th>\n",
       "      <td>4: CCUS-enabled producer serving a large indus...</td>\n",
       "      <td>NaN</td>\n",
       "      <td>NaN</td>\n",
       "      <td>NaN</td>\n",
       "    </tr>\n",
       "    <tr>\n",
       "      <th>4</th>\n",
       "      <td>5: CCUS-enabled producer serving a large indus...</td>\n",
       "      <td>NaN</td>\n",
       "      <td>NaN</td>\n",
       "      <td>NaN</td>\n",
       "    </tr>\n",
       "    <tr>\n",
       "      <th>5</th>\n",
       "      <td>6: Small co-developed renewable electrolytic s...</td>\n",
       "      <td>NaN</td>\n",
       "      <td>NaN</td>\n",
       "      <td>NaN</td>\n",
       "    </tr>\n",
       "  </tbody>\n",
       "</table>\n",
       "</div>"
      ],
      "text/plain": [
       "                                        Subarchetype  Below Rate of Return  \\\n",
       "0  1: Medium grid-sourced electrolytic producer: ...                   NaN   \n",
       "1  2: Medium grid-sourced electrolytic producer: ...                   NaN   \n",
       "2  3: CCUS-enabled producer serving a large indus...                   NaN   \n",
       "3  4: CCUS-enabled producer serving a large indus...                   NaN   \n",
       "4  5: CCUS-enabled producer serving a large indus...                   NaN   \n",
       "5  6: Small co-developed renewable electrolytic s...                   NaN   \n",
       "\n",
       "   Negative Operating Profit  40%  \n",
       "0                        NaN  NaN  \n",
       "1                        NaN  NaN  \n",
       "2                        NaN  NaN  \n",
       "3                        NaN  NaN  \n",
       "4                        NaN  NaN  \n",
       "5                        NaN  NaN  "
      ]
     },
     "execution_count": 15,
     "metadata": {},
     "output_type": "execute_result"
    }
   ],
   "source": [
    "# create dataframe to store results\n",
    "df_subarchetype_results = pd.DataFrame(\n",
    "    {\n",
    "        \"Subarchetype\":[\n",
    "                        \"1: Medium grid-sourced electrolytic producer: Transport-focused\"\n",
    "                        ,\"2: Medium grid-sourced electrolytic producer: Variety of end-uses\"\n",
    "                        ,\"3: CCUS-enabled producer serving a large industrial cluster: Primary off-taker\"\n",
    "                        ,\"4: CCUS-enabled producer serving a large industrial cluster: Industry-specific mix\"\n",
    "                        ,\"5: CCUS-enabled producer serving a large industrial cluster: Many off-takers\"\n",
    "                        ,\"6: Small co-developed renewable electrolytic sites for assorted uses\"\n",
    "                        ],\n",
    "        \"Below Rate of Return\":np.nan,\n",
    "        \"Negative Operating Profit\":np.nan,\n",
    "        \"40%\":np.nan\n",
    "    }\n",
    ")\n",
    "\n",
    "df_subarchetype_results"
   ]
  },
  {
   "cell_type": "code",
   "execution_count": 16,
   "id": "8c27c0e4",
   "metadata": {},
   "outputs": [
    {
     "data": {
      "text/html": [
       "<div>\n",
       "<style scoped>\n",
       "    .dataframe tbody tr th:only-of-type {\n",
       "        vertical-align: middle;\n",
       "    }\n",
       "\n",
       "    .dataframe tbody tr th {\n",
       "        vertical-align: top;\n",
       "    }\n",
       "\n",
       "    .dataframe thead th {\n",
       "        text-align: right;\n",
       "    }\n",
       "</style>\n",
       "<table border=\"1\" class=\"dataframe\">\n",
       "  <thead>\n",
       "    <tr style=\"text-align: right;\">\n",
       "      <th></th>\n",
       "      <th>Subarchetype</th>\n",
       "      <th>Below Rate of Return</th>\n",
       "      <th>Negative Operating Profit</th>\n",
       "      <th>40%</th>\n",
       "    </tr>\n",
       "  </thead>\n",
       "  <tbody>\n",
       "    <tr>\n",
       "      <th>0</th>\n",
       "      <td>1: Medium grid-sourced electrolytic producer: ...</td>\n",
       "      <td>0.002402</td>\n",
       "      <td>0.0</td>\n",
       "      <td>0.0</td>\n",
       "    </tr>\n",
       "    <tr>\n",
       "      <th>1</th>\n",
       "      <td>2: Medium grid-sourced electrolytic producer: ...</td>\n",
       "      <td>NaN</td>\n",
       "      <td>NaN</td>\n",
       "      <td>NaN</td>\n",
       "    </tr>\n",
       "    <tr>\n",
       "      <th>2</th>\n",
       "      <td>3: CCUS-enabled producer serving a large indus...</td>\n",
       "      <td>NaN</td>\n",
       "      <td>NaN</td>\n",
       "      <td>NaN</td>\n",
       "    </tr>\n",
       "    <tr>\n",
       "      <th>3</th>\n",
       "      <td>4: CCUS-enabled producer serving a large indus...</td>\n",
       "      <td>NaN</td>\n",
       "      <td>NaN</td>\n",
       "      <td>NaN</td>\n",
       "    </tr>\n",
       "    <tr>\n",
       "      <th>4</th>\n",
       "      <td>5: CCUS-enabled producer serving a large indus...</td>\n",
       "      <td>NaN</td>\n",
       "      <td>NaN</td>\n",
       "      <td>NaN</td>\n",
       "    </tr>\n",
       "    <tr>\n",
       "      <th>5</th>\n",
       "      <td>6: Small co-developed renewable electrolytic s...</td>\n",
       "      <td>NaN</td>\n",
       "      <td>NaN</td>\n",
       "      <td>NaN</td>\n",
       "    </tr>\n",
       "  </tbody>\n",
       "</table>\n",
       "</div>"
      ],
      "text/plain": [
       "                                        Subarchetype  Below Rate of Return  \\\n",
       "0  1: Medium grid-sourced electrolytic producer: ...              0.002402   \n",
       "1  2: Medium grid-sourced electrolytic producer: ...                   NaN   \n",
       "2  3: CCUS-enabled producer serving a large indus...                   NaN   \n",
       "3  4: CCUS-enabled producer serving a large indus...                   NaN   \n",
       "4  5: CCUS-enabled producer serving a large indus...                   NaN   \n",
       "5  6: Small co-developed renewable electrolytic s...                   NaN   \n",
       "\n",
       "   Negative Operating Profit  40%  \n",
       "0                        0.0  0.0  \n",
       "1                        NaN  NaN  \n",
       "2                        NaN  NaN  \n",
       "3                        NaN  NaN  \n",
       "4                        NaN  NaN  \n",
       "5                        NaN  NaN  "
      ]
     },
     "execution_count": 16,
     "metadata": {},
     "output_type": "execute_result"
    }
   ],
   "source": [
    "# store results for subarchetype 1\n",
    "\n",
    "df_subarchetype_results.at[0,'Below Rate of Return']=df_g_subarchetype1_probabilities.loc[\n",
    "    find_neighbours(\n",
    "        BELOW_RATE_OF_RETURN_g1,df_g_subarchetype1_probabilities,'Left-Sided Demand Deviation')[1]\n",
    "][1]\n",
    "\n",
    "try: \n",
    "    df_subarchetype_results.at[0,'Negative Operating Profit']=df_g_subarchetype1_probabilities.loc[\n",
    "        find_neighbours(\n",
    "            NEG_OPER_PROFIT,df_g_subarchetype1_probabilities,'Left-Sided Demand Deviation')[1]\n",
    "    ][1]\n",
    "except ValueError:\n",
    "    df_subarchetype_results.at[0,'Negative Operating Profit']=0\n",
    "    \n",
    "try:    \n",
    "    df_subarchetype_results.at[0,'40%']=df_g_subarchetype1_probabilities.loc[\n",
    "        find_neighbours(\n",
    "            FOURTY_PERCENT_g1,df_g_subarchetype1_probabilities,'Left-Sided Demand Deviation')[1]\n",
    "    ][1]\n",
    "except ValueError:\n",
    "    df_subarchetype_results.at[0,'40%']=0\n",
    "    \n",
    "\n",
    "    \n",
    "df_subarchetype_results"
   ]
  },
  {
   "cell_type": "markdown",
   "id": "dd704550",
   "metadata": {},
   "source": [
    "### 2) Simulate the second subarchetype: \"Medium grid-sourced electrolytic producer: Variety of end-uses\""
   ]
  },
  {
   "cell_type": "code",
   "execution_count": 17,
   "id": "3bc9968e",
   "metadata": {},
   "outputs": [
    {
     "data": {
      "text/plain": [
       "0       0.067285\n",
       "1       0.059647\n",
       "2       0.123484\n",
       "3      -0.135259\n",
       "4      -0.007595\n",
       "          ...   \n",
       "9995    0.102537\n",
       "9996   -0.259112\n",
       "9997   -0.062529\n",
       "9998    0.040225\n",
       "9999   -0.101042\n",
       "Length: 10000, dtype: float64"
      ]
     },
     "execution_count": 17,
     "metadata": {},
     "output_type": "execute_result"
    }
   ],
   "source": [
    "# simulate g(X) for \"Medium grid-sourced electrolytic producer: Variety of end-uses\"\n",
    "g_subarchetype2_simulations = (\n",
    " df_weights[\"subarchetype2\"][0]*df_simulations['x1'] #weight of x1 * observations of x1\n",
    " +df_weights[\"subarchetype2\"][1]*df_simulations['x2'] #weight of x2 * observations of x2\n",
    " +df_weights[\"subarchetype2\"][2]*df_simulations['x3'] #weight of x3 * observations of x3\n",
    " +df_weights[\"subarchetype2\"][3]*df_simulations['x4'] #weight of x4 * observations of x4\n",
    " +df_weights[\"subarchetype2\"][4]*df_simulations['x5'] #weight of x5 * observations of x5\n",
    " +df_weights[\"subarchetype2\"][5]*df_simulations['x6'] #weight of x6 * observations of x6\n",
    ")\n",
    "\n",
    "g_subarchetype2_simulations"
   ]
  },
  {
   "cell_type": "code",
   "execution_count": 18,
   "id": "6baf60d0",
   "metadata": {
    "scrolled": true
   },
   "outputs": [
    {
     "data": {
      "text/plain": [
       "<AxesSubplot:>"
      ]
     },
     "execution_count": 18,
     "metadata": {},
     "output_type": "execute_result"
    },
    {
     "data": {
      "image/png": "[encoded data removed]",
      "text/plain": [
       "<Figure size 432x288 with 1 Axes>"
      ]
     },
     "metadata": {
      "needs_background": "light"
     },
     "output_type": "display_data"
    }
   ],
   "source": [
    "g_subarchetype2_simulations.hist()"
   ]
  },
  {
   "cell_type": "markdown",
   "id": "433adc6d",
   "metadata": {},
   "source": [
    "#### Compute the left-sided probability of g distribution, for subarchetype 2"
   ]
  },
  {
   "cell_type": "code",
   "execution_count": 19,
   "id": "a4944595",
   "metadata": {},
   "outputs": [
    {
     "data": {
      "text/plain": [
       "<AxesSubplot:ylabel='Probability'>"
      ]
     },
     "execution_count": 19,
     "metadata": {},
     "output_type": "execute_result"
    },
    {
     "data": {
      "text/plain": [
       "Text(0.5, 1.0, 'Subarchetype 2 Simulated Distribution - Normal x_i assumption')"
      ]
     },
     "execution_count": 19,
     "metadata": {},
     "output_type": "execute_result"
    },
    {
     "data": {
      "image/png": "[encoded data removed]",
      "text/plain": [
       "<Figure size 432x288 with 1 Axes>"
      ]
     },
     "metadata": {
      "needs_background": "light"
     },
     "output_type": "display_data"
    }
   ],
   "source": [
    "# let's create the empirical distribution of g archetype 2\n",
    "sns.histplot(data=g_subarchetype2_simulations, kde=True, stat='probability')\n",
    "plt.title(\"Subarchetype 2 Simulated Distribution - Normal x_i assumption\")\n",
    "\n",
    "\n",
    "plt.savefig('g_subarchetype2_distribution-NORMAL_UNDERLYING.png')"
   ]
  },
  {
   "cell_type": "code",
   "execution_count": 20,
   "id": "05744b6a",
   "metadata": {},
   "outputs": [
    {
     "data": {
      "text/html": [
       "<div>\n",
       "<style scoped>\n",
       "    .dataframe tbody tr th:only-of-type {\n",
       "        vertical-align: middle;\n",
       "    }\n",
       "\n",
       "    .dataframe tbody tr th {\n",
       "        vertical-align: top;\n",
       "    }\n",
       "\n",
       "    .dataframe thead th {\n",
       "        text-align: right;\n",
       "    }\n",
       "</style>\n",
       "<table border=\"1\" class=\"dataframe\">\n",
       "  <thead>\n",
       "    <tr style=\"text-align: right;\">\n",
       "      <th></th>\n",
       "      <th>Left-Sided Demand Deviation</th>\n",
       "      <th>Probability</th>\n",
       "    </tr>\n",
       "  </thead>\n",
       "  <tbody>\n",
       "    <tr>\n",
       "      <th>0</th>\n",
       "      <td>-0.545211</td>\n",
       "      <td>0.000000</td>\n",
       "    </tr>\n",
       "    <tr>\n",
       "      <th>1</th>\n",
       "      <td>-0.540018</td>\n",
       "      <td>0.000041</td>\n",
       "    </tr>\n",
       "    <tr>\n",
       "      <th>2</th>\n",
       "      <td>-0.534825</td>\n",
       "      <td>0.000091</td>\n",
       "    </tr>\n",
       "    <tr>\n",
       "      <th>3</th>\n",
       "      <td>-0.529633</td>\n",
       "      <td>0.000150</td>\n",
       "    </tr>\n",
       "    <tr>\n",
       "      <th>4</th>\n",
       "      <td>-0.524440</td>\n",
       "      <td>0.000217</td>\n",
       "    </tr>\n",
       "    <tr>\n",
       "      <th>...</th>\n",
       "      <td>...</td>\n",
       "      <td>...</td>\n",
       "    </tr>\n",
       "    <tr>\n",
       "      <th>195</th>\n",
       "      <td>0.467382</td>\n",
       "      <td>0.999449</td>\n",
       "    </tr>\n",
       "    <tr>\n",
       "      <th>196</th>\n",
       "      <td>0.472575</td>\n",
       "      <td>0.999531</td>\n",
       "    </tr>\n",
       "    <tr>\n",
       "      <th>197</th>\n",
       "      <td>0.477768</td>\n",
       "      <td>0.999602</td>\n",
       "    </tr>\n",
       "    <tr>\n",
       "      <th>198</th>\n",
       "      <td>0.482960</td>\n",
       "      <td>0.999663</td>\n",
       "    </tr>\n",
       "    <tr>\n",
       "      <th>199</th>\n",
       "      <td>0.488153</td>\n",
       "      <td>0.999714</td>\n",
       "    </tr>\n",
       "  </tbody>\n",
       "</table>\n",
       "<p>200 rows × 2 columns</p>\n",
       "</div>"
      ],
      "text/plain": [
       "     Left-Sided Demand Deviation  Probability\n",
       "0                      -0.545211     0.000000\n",
       "1                      -0.540018     0.000041\n",
       "2                      -0.534825     0.000091\n",
       "3                      -0.529633     0.000150\n",
       "4                      -0.524440     0.000217\n",
       "..                           ...          ...\n",
       "195                     0.467382     0.999449\n",
       "196                     0.472575     0.999531\n",
       "197                     0.477768     0.999602\n",
       "198                     0.482960     0.999663\n",
       "199                     0.488153     0.999714\n",
       "\n",
       "[200 rows x 2 columns]"
      ]
     },
     "execution_count": 20,
     "metadata": {},
     "output_type": "execute_result"
    },
    {
     "data": {
      "image/png": "[encoded data removed]",
      "text/plain": [
       "<Figure size 432x288 with 1 Axes>"
      ]
     },
     "metadata": {
      "needs_background": "light"
     },
     "output_type": "display_data"
    }
   ],
   "source": [
    "# get data from CDF\n",
    "df_g_subarchetype2_probabilities = pd.DataFrame(\n",
    "    np.transpose(\n",
    "        sns.histplot(data=g_subarchetype2_simulations, kde=True, stat='probability', cumulative = True)\n",
    "             .get_lines()[0].get_data()\n",
    "            )\n",
    ")\n",
    "\n",
    "df_g_subarchetype2_probabilities.rename(columns={0:'Left-Sided Demand Deviation',1:'Probability'}, inplace=True)\n",
    "df_g_subarchetype2_probabilities"
   ]
  },
  {
   "cell_type": "code",
   "execution_count": 21,
   "id": "a9b6ca8d",
   "metadata": {},
   "outputs": [
    {
     "data": {
      "text/html": [
       "<div>\n",
       "<style scoped>\n",
       "    .dataframe tbody tr th:only-of-type {\n",
       "        vertical-align: middle;\n",
       "    }\n",
       "\n",
       "    .dataframe tbody tr th {\n",
       "        vertical-align: top;\n",
       "    }\n",
       "\n",
       "    .dataframe thead th {\n",
       "        text-align: right;\n",
       "    }\n",
       "</style>\n",
       "<table border=\"1\" class=\"dataframe\">\n",
       "  <thead>\n",
       "    <tr style=\"text-align: right;\">\n",
       "      <th></th>\n",
       "      <th>Subarchetype</th>\n",
       "      <th>Below Rate of Return</th>\n",
       "      <th>Negative Operating Profit</th>\n",
       "      <th>40%</th>\n",
       "    </tr>\n",
       "  </thead>\n",
       "  <tbody>\n",
       "    <tr>\n",
       "      <th>0</th>\n",
       "      <td>1: Medium grid-sourced electrolytic producer: ...</td>\n",
       "      <td>0.002402</td>\n",
       "      <td>0.0</td>\n",
       "      <td>0.0</td>\n",
       "    </tr>\n",
       "    <tr>\n",
       "      <th>1</th>\n",
       "      <td>2: Medium grid-sourced electrolytic producer: ...</td>\n",
       "      <td>0.001834</td>\n",
       "      <td>0.0</td>\n",
       "      <td>0.0</td>\n",
       "    </tr>\n",
       "    <tr>\n",
       "      <th>2</th>\n",
       "      <td>3: CCUS-enabled producer serving a large indus...</td>\n",
       "      <td>NaN</td>\n",
       "      <td>NaN</td>\n",
       "      <td>NaN</td>\n",
       "    </tr>\n",
       "    <tr>\n",
       "      <th>3</th>\n",
       "      <td>4: CCUS-enabled producer serving a large indus...</td>\n",
       "      <td>NaN</td>\n",
       "      <td>NaN</td>\n",
       "      <td>NaN</td>\n",
       "    </tr>\n",
       "    <tr>\n",
       "      <th>4</th>\n",
       "      <td>5: CCUS-enabled producer serving a large indus...</td>\n",
       "      <td>NaN</td>\n",
       "      <td>NaN</td>\n",
       "      <td>NaN</td>\n",
       "    </tr>\n",
       "    <tr>\n",
       "      <th>5</th>\n",
       "      <td>6: Small co-developed renewable electrolytic s...</td>\n",
       "      <td>NaN</td>\n",
       "      <td>NaN</td>\n",
       "      <td>NaN</td>\n",
       "    </tr>\n",
       "  </tbody>\n",
       "</table>\n",
       "</div>"
      ],
      "text/plain": [
       "                                        Subarchetype  Below Rate of Return  \\\n",
       "0  1: Medium grid-sourced electrolytic producer: ...              0.002402   \n",
       "1  2: Medium grid-sourced electrolytic producer: ...              0.001834   \n",
       "2  3: CCUS-enabled producer serving a large indus...                   NaN   \n",
       "3  4: CCUS-enabled producer serving a large indus...                   NaN   \n",
       "4  5: CCUS-enabled producer serving a large indus...                   NaN   \n",
       "5  6: Small co-developed renewable electrolytic s...                   NaN   \n",
       "\n",
       "   Negative Operating Profit  40%  \n",
       "0                        0.0  0.0  \n",
       "1                        0.0  0.0  \n",
       "2                        NaN  NaN  \n",
       "3                        NaN  NaN  \n",
       "4                        NaN  NaN  \n",
       "5                        NaN  NaN  "
      ]
     },
     "execution_count": 21,
     "metadata": {},
     "output_type": "execute_result"
    }
   ],
   "source": [
    "# store results for subarchetype 2\n",
    "\n",
    "df_subarchetype_results.at[1,'Below Rate of Return']=df_g_subarchetype2_probabilities.loc[\n",
    "    find_neighbours(\n",
    "        BELOW_RATE_OF_RETURN_g2,df_g_subarchetype2_probabilities,'Left-Sided Demand Deviation')[1]\n",
    "][1]\n",
    "\n",
    "try:\n",
    "    df_subarchetype_results.at[1,'Negative Operating Profit']=df_g_subarchetype2_probabilities.loc[\n",
    "        find_neighbours(\n",
    "            NEG_OPER_PROFIT,df_g_subarchetype2_probabilities,'Left-Sided Demand Deviation')[1]\n",
    "    ][1]\n",
    "except ValueError:\n",
    "    df_subarchetype_results.at[1,'Negative Operating Profit']=0    \n",
    "    \n",
    "    \n",
    "try:\n",
    "    df_subarchetype_results.at[1,'40%']=df_g_subarchetype2_probabilities.loc[\n",
    "        find_neighbours(\n",
    "            FOURTY_PERCENT_g2,df_g_subarchetype2_probabilities,'Left-Sided Demand Deviation')[1]\n",
    "    ][1]\n",
    "except ValueError:\n",
    "    df_subarchetype_results.at[1,'40%']=0       \n",
    "\n",
    "\n",
    "df_subarchetype_results"
   ]
  },
  {
   "cell_type": "markdown",
   "id": "549459d2",
   "metadata": {},
   "source": [
    "### 3) Simulate the third subarchetype: \"CCUS-enabled producer serving a large industrial cluster: Primary off-taker\""
   ]
  },
  {
   "cell_type": "code",
   "execution_count": 22,
   "id": "2d641e85",
   "metadata": {},
   "outputs": [
    {
     "data": {
      "text/plain": [
       "0       0.319229\n",
       "1      -0.338869\n",
       "2       0.172357\n",
       "3       0.240927\n",
       "4      -0.365741\n",
       "          ...   \n",
       "9995    0.253488\n",
       "9996    0.053242\n",
       "9997   -0.138225\n",
       "9998    0.160645\n",
       "9999    0.081269\n",
       "Length: 10000, dtype: float64"
      ]
     },
     "execution_count": 22,
     "metadata": {},
     "output_type": "execute_result"
    },
    {
     "data": {
      "text/plain": [
       "<AxesSubplot:>"
      ]
     },
     "execution_count": 22,
     "metadata": {},
     "output_type": "execute_result"
    },
    {
     "data": {
      "image/png": "[encoded data removed]",
      "text/plain": [
       "<Figure size 432x288 with 1 Axes>"
      ]
     },
     "metadata": {
      "needs_background": "light"
     },
     "output_type": "display_data"
    }
   ],
   "source": [
    "# simulate g(X) for \"CCUS-enabled producer serving a large industrial cluster: Primary off-taker\"\n",
    "g_subarchetype3_simulations = (\n",
    " df_weights[\"subarchetype3\"][0]*df_simulations['x1'] #weight of x1 * observations of x1\n",
    " +df_weights[\"subarchetype3\"][1]*df_simulations['x2'] #weight of x2 * observations of x2\n",
    " +df_weights[\"subarchetype3\"][2]*df_simulations['x3'] #weight of x3 * observations of x3\n",
    " +df_weights[\"subarchetype3\"][3]*df_simulations['x4'] #weight of x4 * observations of x4\n",
    " +df_weights[\"subarchetype3\"][4]*df_simulations['x5'] #weight of x5 * observations of x5\n",
    " +df_weights[\"subarchetype3\"][5]*df_simulations['x6'] #weight of x6 * observations of x6\n",
    ")\n",
    "\n",
    "g_subarchetype3_simulations\n",
    "\n",
    "g_subarchetype3_simulations.hist()"
   ]
  },
  {
   "cell_type": "markdown",
   "id": "8dc3b3a4",
   "metadata": {},
   "source": [
    "#### Compute the left-sided probability of g distribution, for subarchetype 3"
   ]
  },
  {
   "cell_type": "code",
   "execution_count": 23,
   "id": "a1bff31f",
   "metadata": {},
   "outputs": [
    {
     "data": {
      "text/plain": [
       "<AxesSubplot:ylabel='Probability'>"
      ]
     },
     "execution_count": 23,
     "metadata": {},
     "output_type": "execute_result"
    },
    {
     "data": {
      "text/plain": [
       "Text(0.5, 1.0, 'Subarchetype 3 Simulated Distribution - Normal x_i assumption')"
      ]
     },
     "execution_count": 23,
     "metadata": {},
     "output_type": "execute_result"
    },
    {
     "data": {
      "image/png": "[encoded data removed]",
      "text/plain": [
       "<Figure size 432x288 with 1 Axes>"
      ]
     },
     "metadata": {
      "needs_background": "light"
     },
     "output_type": "display_data"
    }
   ],
   "source": [
    "# let's create the empirical distribution of g archetype 3\n",
    "sns.histplot(data=g_subarchetype3_simulations, kde=True, stat='probability')\n",
    "plt.title(\"Subarchetype 3 Simulated Distribution - Normal x_i assumption\")\n",
    "\n",
    "\n",
    "plt.savefig('g_subarchetype3_distribution-NORMAL_UNDERLYING.png')"
   ]
  },
  {
   "cell_type": "code",
   "execution_count": 24,
   "id": "30be50de",
   "metadata": {},
   "outputs": [
    {
     "data": {
      "text/html": [
       "<div>\n",
       "<style scoped>\n",
       "    .dataframe tbody tr th:only-of-type {\n",
       "        vertical-align: middle;\n",
       "    }\n",
       "\n",
       "    .dataframe tbody tr th {\n",
       "        vertical-align: top;\n",
       "    }\n",
       "\n",
       "    .dataframe thead th {\n",
       "        text-align: right;\n",
       "    }\n",
       "</style>\n",
       "<table border=\"1\" class=\"dataframe\">\n",
       "  <thead>\n",
       "    <tr style=\"text-align: right;\">\n",
       "      <th></th>\n",
       "      <th>Left-Sided Demand Deviation</th>\n",
       "      <th>Probability</th>\n",
       "    </tr>\n",
       "  </thead>\n",
       "  <tbody>\n",
       "    <tr>\n",
       "      <th>0</th>\n",
       "      <td>-0.741462</td>\n",
       "      <td>0.000000</td>\n",
       "    </tr>\n",
       "    <tr>\n",
       "      <th>1</th>\n",
       "      <td>-0.734021</td>\n",
       "      <td>0.000018</td>\n",
       "    </tr>\n",
       "    <tr>\n",
       "      <th>2</th>\n",
       "      <td>-0.726580</td>\n",
       "      <td>0.000037</td>\n",
       "    </tr>\n",
       "    <tr>\n",
       "      <th>3</th>\n",
       "      <td>-0.719140</td>\n",
       "      <td>0.000057</td>\n",
       "    </tr>\n",
       "    <tr>\n",
       "      <th>4</th>\n",
       "      <td>-0.711699</td>\n",
       "      <td>0.000078</td>\n",
       "    </tr>\n",
       "    <tr>\n",
       "      <th>...</th>\n",
       "      <td>...</td>\n",
       "      <td>...</td>\n",
       "    </tr>\n",
       "    <tr>\n",
       "      <th>195</th>\n",
       "      <td>0.709509</td>\n",
       "      <td>0.999845</td>\n",
       "    </tr>\n",
       "    <tr>\n",
       "      <th>196</th>\n",
       "      <td>0.716950</td>\n",
       "      <td>0.999853</td>\n",
       "    </tr>\n",
       "    <tr>\n",
       "      <th>197</th>\n",
       "      <td>0.724391</td>\n",
       "      <td>0.999863</td>\n",
       "    </tr>\n",
       "    <tr>\n",
       "      <th>198</th>\n",
       "      <td>0.731832</td>\n",
       "      <td>0.999872</td>\n",
       "    </tr>\n",
       "    <tr>\n",
       "      <th>199</th>\n",
       "      <td>0.739273</td>\n",
       "      <td>0.999883</td>\n",
       "    </tr>\n",
       "  </tbody>\n",
       "</table>\n",
       "<p>200 rows × 2 columns</p>\n",
       "</div>"
      ],
      "text/plain": [
       "     Left-Sided Demand Deviation  Probability\n",
       "0                      -0.741462     0.000000\n",
       "1                      -0.734021     0.000018\n",
       "2                      -0.726580     0.000037\n",
       "3                      -0.719140     0.000057\n",
       "4                      -0.711699     0.000078\n",
       "..                           ...          ...\n",
       "195                     0.709509     0.999845\n",
       "196                     0.716950     0.999853\n",
       "197                     0.724391     0.999863\n",
       "198                     0.731832     0.999872\n",
       "199                     0.739273     0.999883\n",
       "\n",
       "[200 rows x 2 columns]"
      ]
     },
     "execution_count": 24,
     "metadata": {},
     "output_type": "execute_result"
    },
    {
     "data": {
      "image/png": "[encoded data removed]",
      "text/plain": [
       "<Figure size 432x288 with 1 Axes>"
      ]
     },
     "metadata": {
      "needs_background": "light"
     },
     "output_type": "display_data"
    }
   ],
   "source": [
    "# get data from CDF\n",
    "df_g_subarchetype3_probabilities = pd.DataFrame(\n",
    "    np.transpose(\n",
    "        sns.histplot(data=g_subarchetype3_simulations, kde=True, stat='probability', cumulative = True)\n",
    "             .get_lines()[0].get_data()\n",
    "            )\n",
    ")\n",
    "\n",
    "df_g_subarchetype3_probabilities.rename(columns={0:'Left-Sided Demand Deviation',1:'Probability'}, inplace=True)\n",
    "df_g_subarchetype3_probabilities"
   ]
  },
  {
   "cell_type": "code",
   "execution_count": 25,
   "id": "c746bc6a",
   "metadata": {},
   "outputs": [
    {
     "data": {
      "text/html": [
       "<div>\n",
       "<style scoped>\n",
       "    .dataframe tbody tr th:only-of-type {\n",
       "        vertical-align: middle;\n",
       "    }\n",
       "\n",
       "    .dataframe tbody tr th {\n",
       "        vertical-align: top;\n",
       "    }\n",
       "\n",
       "    .dataframe thead th {\n",
       "        text-align: right;\n",
       "    }\n",
       "</style>\n",
       "<table border=\"1\" class=\"dataframe\">\n",
       "  <thead>\n",
       "    <tr style=\"text-align: right;\">\n",
       "      <th></th>\n",
       "      <th>Subarchetype</th>\n",
       "      <th>Below Rate of Return</th>\n",
       "      <th>Negative Operating Profit</th>\n",
       "      <th>40%</th>\n",
       "    </tr>\n",
       "  </thead>\n",
       "  <tbody>\n",
       "    <tr>\n",
       "      <th>0</th>\n",
       "      <td>1: Medium grid-sourced electrolytic producer: ...</td>\n",
       "      <td>0.002402</td>\n",
       "      <td>0.0</td>\n",
       "      <td>0.0</td>\n",
       "    </tr>\n",
       "    <tr>\n",
       "      <th>1</th>\n",
       "      <td>2: Medium grid-sourced electrolytic producer: ...</td>\n",
       "      <td>0.001834</td>\n",
       "      <td>0.0</td>\n",
       "      <td>0.0</td>\n",
       "    </tr>\n",
       "    <tr>\n",
       "      <th>2</th>\n",
       "      <td>3: CCUS-enabled producer serving a large indus...</td>\n",
       "      <td>0.028305</td>\n",
       "      <td>0.0</td>\n",
       "      <td>0.0</td>\n",
       "    </tr>\n",
       "    <tr>\n",
       "      <th>3</th>\n",
       "      <td>4: CCUS-enabled producer serving a large indus...</td>\n",
       "      <td>NaN</td>\n",
       "      <td>NaN</td>\n",
       "      <td>NaN</td>\n",
       "    </tr>\n",
       "    <tr>\n",
       "      <th>4</th>\n",
       "      <td>5: CCUS-enabled producer serving a large indus...</td>\n",
       "      <td>NaN</td>\n",
       "      <td>NaN</td>\n",
       "      <td>NaN</td>\n",
       "    </tr>\n",
       "    <tr>\n",
       "      <th>5</th>\n",
       "      <td>6: Small co-developed renewable electrolytic s...</td>\n",
       "      <td>NaN</td>\n",
       "      <td>NaN</td>\n",
       "      <td>NaN</td>\n",
       "    </tr>\n",
       "  </tbody>\n",
       "</table>\n",
       "</div>"
      ],
      "text/plain": [
       "                                        Subarchetype  Below Rate of Return  \\\n",
       "0  1: Medium grid-sourced electrolytic producer: ...              0.002402   \n",
       "1  2: Medium grid-sourced electrolytic producer: ...              0.001834   \n",
       "2  3: CCUS-enabled producer serving a large indus...              0.028305   \n",
       "3  4: CCUS-enabled producer serving a large indus...                   NaN   \n",
       "4  5: CCUS-enabled producer serving a large indus...                   NaN   \n",
       "5  6: Small co-developed renewable electrolytic s...                   NaN   \n",
       "\n",
       "   Negative Operating Profit  40%  \n",
       "0                        0.0  0.0  \n",
       "1                        0.0  0.0  \n",
       "2                        0.0  0.0  \n",
       "3                        NaN  NaN  \n",
       "4                        NaN  NaN  \n",
       "5                        NaN  NaN  "
      ]
     },
     "execution_count": 25,
     "metadata": {},
     "output_type": "execute_result"
    }
   ],
   "source": [
    "# store results for subarchetype 3\n",
    "\n",
    "df_subarchetype_results.at[2,'Below Rate of Return']=df_g_subarchetype3_probabilities.loc[\n",
    "    find_neighbours(\n",
    "        BELOW_RATE_OF_RETURN_g3,df_g_subarchetype3_probabilities,'Left-Sided Demand Deviation')[1]\n",
    "][1]\n",
    "\n",
    "try:\n",
    "    df_subarchetype_results.at[2,'Negative Operating Profit']=df_g_subarchetype3_probabilities.loc[\n",
    "        find_neighbours(\n",
    "            NEG_OPER_PROFIT,df_g_subarchetype3_probabilities,'Left-Sided Demand Deviation')[1]\n",
    "    ][1]\n",
    "except ValueError:\n",
    "    df_subarchetype_results.at[2,'Negative Operating Profit']=0     \n",
    "\n",
    "    \n",
    "try:\n",
    "    df_subarchetype_results.at[2,'40%']=df_g_subarchetype3_probabilities.loc[\n",
    "        find_neighbours(\n",
    "            FOURTY_PERCENT_g3,df_g_subarchetype3_probabilities,'Left-Sided Demand Deviation')[1]\n",
    "    ][1]\n",
    "except ValueError:\n",
    "    df_subarchetype_results.at[2,'40%']=0      \n",
    "    \n",
    "    \n",
    "\n",
    "df_subarchetype_results"
   ]
  },
  {
   "cell_type": "markdown",
   "id": "06ca1031",
   "metadata": {},
   "source": [
    "### 4) Simulate the fourth subarchetype: \"CCUS-enabled producer serving a large industrial cluster: Industry-specific mix\""
   ]
  },
  {
   "cell_type": "code",
   "execution_count": 26,
   "id": "8d703445",
   "metadata": {},
   "outputs": [
    {
     "data": {
      "text/plain": [
       "0       0.194025\n",
       "1      -0.103399\n",
       "2       0.174007\n",
       "3       0.084386\n",
       "4      -0.298109\n",
       "          ...   \n",
       "9995    0.265920\n",
       "9996   -0.074389\n",
       "9997   -0.046094\n",
       "9998    0.127920\n",
       "9999    0.010618\n",
       "Length: 10000, dtype: float64"
      ]
     },
     "execution_count": 26,
     "metadata": {},
     "output_type": "execute_result"
    },
    {
     "data": {
      "text/plain": [
       "<AxesSubplot:>"
      ]
     },
     "execution_count": 26,
     "metadata": {},
     "output_type": "execute_result"
    },
    {
     "data": {
      "image/png": "[encoded data removed]",
      "text/plain": [
       "<Figure size 432x288 with 1 Axes>"
      ]
     },
     "metadata": {
      "needs_background": "light"
     },
     "output_type": "display_data"
    }
   ],
   "source": [
    "# simulate g(X) for \"CCUS-enabled producer serving a large industrial cluster: Industry-specific mix\"\n",
    "g_subarchetype4_simulations = (\n",
    " df_weights[\"subarchetype4\"][0]*df_simulations['x1'] #weight of x1 * observations of x1\n",
    " +df_weights[\"subarchetype4\"][1]*df_simulations['x2'] #weight of x2 * observations of x2\n",
    " +df_weights[\"subarchetype4\"][2]*df_simulations['x3'] #weight of x3 * observations of x3\n",
    " +df_weights[\"subarchetype4\"][3]*df_simulations['x4'] #weight of x4 * observations of x4\n",
    " +df_weights[\"subarchetype4\"][4]*df_simulations['x5'] #weight of x5 * observations of x5\n",
    " +df_weights[\"subarchetype4\"][5]*df_simulations['x6'] #weight of x6 * observations of x6\n",
    ")\n",
    "\n",
    "g_subarchetype4_simulations\n",
    "\n",
    "g_subarchetype4_simulations.hist()"
   ]
  },
  {
   "cell_type": "markdown",
   "id": "e7ff14c0",
   "metadata": {},
   "source": [
    "#### Compute the left-sided probability of g distribution, for subarchetype 4"
   ]
  },
  {
   "cell_type": "code",
   "execution_count": 27,
   "id": "6017a837",
   "metadata": {},
   "outputs": [
    {
     "data": {
      "text/plain": [
       "<AxesSubplot:ylabel='Probability'>"
      ]
     },
     "execution_count": 27,
     "metadata": {},
     "output_type": "execute_result"
    },
    {
     "data": {
      "text/plain": [
       "Text(0.5, 1.0, 'Subarchetype 4 Simulated Distribution - Normal x_i assumption')"
      ]
     },
     "execution_count": 27,
     "metadata": {},
     "output_type": "execute_result"
    },
    {
     "data": {
      "image/png": "[encoded data removed]",
      "text/plain": [
       "<Figure size 432x288 with 1 Axes>"
      ]
     },
     "metadata": {
      "needs_background": "light"
     },
     "output_type": "display_data"
    }
   ],
   "source": [
    "# let's create the empirical distribution of g archetype 4\n",
    "sns.histplot(data=g_subarchetype4_simulations, kde=True, stat='probability')\n",
    "plt.title(\"Subarchetype 4 Simulated Distribution - Normal x_i assumption\")\n",
    "\n",
    "\n",
    "plt.savefig('g_subarchetype4_distribution-NORMAL_UNDERLYING.png')"
   ]
  },
  {
   "cell_type": "code",
   "execution_count": 28,
   "id": "4df15a1d",
   "metadata": {},
   "outputs": [
    {
     "data": {
      "text/html": [
       "<div>\n",
       "<style scoped>\n",
       "    .dataframe tbody tr th:only-of-type {\n",
       "        vertical-align: middle;\n",
       "    }\n",
       "\n",
       "    .dataframe tbody tr th {\n",
       "        vertical-align: top;\n",
       "    }\n",
       "\n",
       "    .dataframe thead th {\n",
       "        text-align: right;\n",
       "    }\n",
       "</style>\n",
       "<table border=\"1\" class=\"dataframe\">\n",
       "  <thead>\n",
       "    <tr style=\"text-align: right;\">\n",
       "      <th></th>\n",
       "      <th>Left-Sided Demand Deviation</th>\n",
       "      <th>Probability</th>\n",
       "    </tr>\n",
       "  </thead>\n",
       "  <tbody>\n",
       "    <tr>\n",
       "      <th>0</th>\n",
       "      <td>-0.405756</td>\n",
       "      <td>0.000000</td>\n",
       "    </tr>\n",
       "    <tr>\n",
       "      <th>1</th>\n",
       "      <td>-0.401563</td>\n",
       "      <td>0.000019</td>\n",
       "    </tr>\n",
       "    <tr>\n",
       "      <th>2</th>\n",
       "      <td>-0.397370</td>\n",
       "      <td>0.000043</td>\n",
       "    </tr>\n",
       "    <tr>\n",
       "      <th>3</th>\n",
       "      <td>-0.393177</td>\n",
       "      <td>0.000072</td>\n",
       "    </tr>\n",
       "    <tr>\n",
       "      <th>4</th>\n",
       "      <td>-0.388984</td>\n",
       "      <td>0.000110</td>\n",
       "    </tr>\n",
       "    <tr>\n",
       "      <th>...</th>\n",
       "      <td>...</td>\n",
       "      <td>...</td>\n",
       "    </tr>\n",
       "    <tr>\n",
       "      <th>195</th>\n",
       "      <td>0.411852</td>\n",
       "      <td>0.999769</td>\n",
       "    </tr>\n",
       "    <tr>\n",
       "      <th>196</th>\n",
       "      <td>0.416045</td>\n",
       "      <td>0.999799</td>\n",
       "    </tr>\n",
       "    <tr>\n",
       "      <th>197</th>\n",
       "      <td>0.420238</td>\n",
       "      <td>0.999825</td>\n",
       "    </tr>\n",
       "    <tr>\n",
       "      <th>198</th>\n",
       "      <td>0.424431</td>\n",
       "      <td>0.999847</td>\n",
       "    </tr>\n",
       "    <tr>\n",
       "      <th>199</th>\n",
       "      <td>0.428624</td>\n",
       "      <td>0.999866</td>\n",
       "    </tr>\n",
       "  </tbody>\n",
       "</table>\n",
       "<p>200 rows × 2 columns</p>\n",
       "</div>"
      ],
      "text/plain": [
       "     Left-Sided Demand Deviation  Probability\n",
       "0                      -0.405756     0.000000\n",
       "1                      -0.401563     0.000019\n",
       "2                      -0.397370     0.000043\n",
       "3                      -0.393177     0.000072\n",
       "4                      -0.388984     0.000110\n",
       "..                           ...          ...\n",
       "195                     0.411852     0.999769\n",
       "196                     0.416045     0.999799\n",
       "197                     0.420238     0.999825\n",
       "198                     0.424431     0.999847\n",
       "199                     0.428624     0.999866\n",
       "\n",
       "[200 rows x 2 columns]"
      ]
     },
     "execution_count": 28,
     "metadata": {},
     "output_type": "execute_result"
    },
    {
     "data": {
      "image/png": "[encoded data removed]",
      "text/plain": [
       "<Figure size 432x288 with 1 Axes>"
      ]
     },
     "metadata": {
      "needs_background": "light"
     },
     "output_type": "display_data"
    }
   ],
   "source": [
    "# get data from CDF\n",
    "df_g_subarchetype4_probabilities = pd.DataFrame(\n",
    "    np.transpose(\n",
    "        sns.histplot(data=g_subarchetype4_simulations, kde=True, stat='probability', cumulative = True)\n",
    "             .get_lines()[0].get_data()\n",
    "            )\n",
    ")\n",
    "\n",
    "df_g_subarchetype4_probabilities.rename(columns={0:'Left-Sided Demand Deviation',1:'Probability'}, inplace=True)\n",
    "df_g_subarchetype4_probabilities\n",
    "\n",
    "# note that there is 0 probability of -0.5 demand deviation"
   ]
  },
  {
   "cell_type": "code",
   "execution_count": 29,
   "id": "47e0705a",
   "metadata": {},
   "outputs": [
    {
     "data": {
      "text/html": [
       "<div>\n",
       "<style scoped>\n",
       "    .dataframe tbody tr th:only-of-type {\n",
       "        vertical-align: middle;\n",
       "    }\n",
       "\n",
       "    .dataframe tbody tr th {\n",
       "        vertical-align: top;\n",
       "    }\n",
       "\n",
       "    .dataframe thead th {\n",
       "        text-align: right;\n",
       "    }\n",
       "</style>\n",
       "<table border=\"1\" class=\"dataframe\">\n",
       "  <thead>\n",
       "    <tr style=\"text-align: right;\">\n",
       "      <th></th>\n",
       "      <th>Subarchetype</th>\n",
       "      <th>Below Rate of Return</th>\n",
       "      <th>Negative Operating Profit</th>\n",
       "      <th>40%</th>\n",
       "    </tr>\n",
       "  </thead>\n",
       "  <tbody>\n",
       "    <tr>\n",
       "      <th>0</th>\n",
       "      <td>1: Medium grid-sourced electrolytic producer: ...</td>\n",
       "      <td>0.002402</td>\n",
       "      <td>0.0</td>\n",
       "      <td>0.0</td>\n",
       "    </tr>\n",
       "    <tr>\n",
       "      <th>1</th>\n",
       "      <td>2: Medium grid-sourced electrolytic producer: ...</td>\n",
       "      <td>0.001834</td>\n",
       "      <td>0.0</td>\n",
       "      <td>0.0</td>\n",
       "    </tr>\n",
       "    <tr>\n",
       "      <th>2</th>\n",
       "      <td>3: CCUS-enabled producer serving a large indus...</td>\n",
       "      <td>0.028305</td>\n",
       "      <td>0.0</td>\n",
       "      <td>0.0</td>\n",
       "    </tr>\n",
       "    <tr>\n",
       "      <th>3</th>\n",
       "      <td>4: CCUS-enabled producer serving a large indus...</td>\n",
       "      <td>0.000767</td>\n",
       "      <td>0.0</td>\n",
       "      <td>0.0</td>\n",
       "    </tr>\n",
       "    <tr>\n",
       "      <th>4</th>\n",
       "      <td>5: CCUS-enabled producer serving a large indus...</td>\n",
       "      <td>NaN</td>\n",
       "      <td>NaN</td>\n",
       "      <td>NaN</td>\n",
       "    </tr>\n",
       "    <tr>\n",
       "      <th>5</th>\n",
       "      <td>6: Small co-developed renewable electrolytic s...</td>\n",
       "      <td>NaN</td>\n",
       "      <td>NaN</td>\n",
       "      <td>NaN</td>\n",
       "    </tr>\n",
       "  </tbody>\n",
       "</table>\n",
       "</div>"
      ],
      "text/plain": [
       "                                        Subarchetype  Below Rate of Return  \\\n",
       "0  1: Medium grid-sourced electrolytic producer: ...              0.002402   \n",
       "1  2: Medium grid-sourced electrolytic producer: ...              0.001834   \n",
       "2  3: CCUS-enabled producer serving a large indus...              0.028305   \n",
       "3  4: CCUS-enabled producer serving a large indus...              0.000767   \n",
       "4  5: CCUS-enabled producer serving a large indus...                   NaN   \n",
       "5  6: Small co-developed renewable electrolytic s...                   NaN   \n",
       "\n",
       "   Negative Operating Profit  40%  \n",
       "0                        0.0  0.0  \n",
       "1                        0.0  0.0  \n",
       "2                        0.0  0.0  \n",
       "3                        0.0  0.0  \n",
       "4                        NaN  NaN  \n",
       "5                        NaN  NaN  "
      ]
     },
     "execution_count": 29,
     "metadata": {},
     "output_type": "execute_result"
    }
   ],
   "source": [
    "# store results for subarchetype 4\n",
    "\n",
    "df_subarchetype_results.at[3,'Below Rate of Return']=df_g_subarchetype4_probabilities.loc[\n",
    "    find_neighbours(\n",
    "        BELOW_RATE_OF_RETURN_g4,df_g_subarchetype4_probabilities,'Left-Sided Demand Deviation')[1]\n",
    "][1]\n",
    "\n",
    "# if 0 probability, there will be an error. If so, then manually set probability to 0\n",
    "try:\n",
    "    df_subarchetype_results.at[3,'Negative Operating Profit']=df_g_subarchetype4_probabilities.loc[\n",
    "    find_neighbours(\n",
    "        NEG_OPER_PROFIT,df_g_subarchetype4_probabilities,'Left-Sided Demand Deviation')[1]\n",
    "][1]\n",
    "\n",
    "except ValueError:\n",
    "    df_subarchetype_results.at[3,'Negative Operating Profit']=0\n",
    "    \n",
    "    \n",
    "try:\n",
    "    df_subarchetype_results.at[3,'40%']=df_g_subarchetype4_probabilities.loc[\n",
    "    find_neighbours(\n",
    "        FOURTY_PERCENT_g4,df_g_subarchetype4_probabilities,'Left-Sided Demand Deviation')[1]\n",
    "][1]\n",
    "\n",
    "except ValueError:\n",
    "    df_subarchetype_results.at[3,'40%']=0    \n",
    "    \n",
    "    \n",
    "df_subarchetype_results"
   ]
  },
  {
   "cell_type": "markdown",
   "id": "a180d482",
   "metadata": {},
   "source": [
    "### 5) Simulate the fifth subarchetype: \"CCUS-enabled producer serving a large industrial cluster: Many off-takers\""
   ]
  },
  {
   "cell_type": "code",
   "execution_count": 30,
   "id": "4c709d48",
   "metadata": {},
   "outputs": [
    {
     "data": {
      "text/plain": [
       "0       0.120592\n",
       "1      -0.033265\n",
       "2       0.126241\n",
       "3      -0.013725\n",
       "4      -0.107706\n",
       "          ...   \n",
       "9995    0.167302\n",
       "9996   -0.152379\n",
       "9997   -0.061784\n",
       "9998    0.072868\n",
       "9999   -0.064043\n",
       "Length: 10000, dtype: float64"
      ]
     },
     "execution_count": 30,
     "metadata": {},
     "output_type": "execute_result"
    },
    {
     "data": {
      "text/plain": [
       "<AxesSubplot:>"
      ]
     },
     "execution_count": 30,
     "metadata": {},
     "output_type": "execute_result"
    },
    {
     "data": {
      "image/png": "[encoded data removed]",
      "text/plain": [
       "<Figure size 432x288 with 1 Axes>"
      ]
     },
     "metadata": {
      "needs_background": "light"
     },
     "output_type": "display_data"
    }
   ],
   "source": [
    "# simulate g(X) for \"CCUS-enabled producer serving a large industrial cluster: Many off-takers\"\n",
    "g_subarchetype5_simulations = (\n",
    " df_weights[\"subarchetype5\"][0]*df_simulations['x1'] #weight of x1 * observations of x1\n",
    " +df_weights[\"subarchetype5\"][1]*df_simulations['x2'] #weight of x2 * observations of x2\n",
    " +df_weights[\"subarchetype5\"][2]*df_simulations['x3'] #weight of x3 * observations of x3\n",
    " +df_weights[\"subarchetype5\"][3]*df_simulations['x4'] #weight of x4 * observations of x4\n",
    " +df_weights[\"subarchetype5\"][4]*df_simulations['x5'] #weight of x5 * observations of x5\n",
    " +df_weights[\"subarchetype5\"][5]*df_simulations['x6'] #weight of x6 * observations of x6\n",
    ")\n",
    "\n",
    "g_subarchetype5_simulations\n",
    "\n",
    "g_subarchetype5_simulations.hist()"
   ]
  },
  {
   "cell_type": "markdown",
   "id": "d973b053",
   "metadata": {},
   "source": [
    "#### Compute the left-sided probability of g distribution, for subarchetype 5"
   ]
  },
  {
   "cell_type": "code",
   "execution_count": 31,
   "id": "e9b10160",
   "metadata": {},
   "outputs": [
    {
     "data": {
      "text/plain": [
       "<AxesSubplot:ylabel='Probability'>"
      ]
     },
     "execution_count": 31,
     "metadata": {},
     "output_type": "execute_result"
    },
    {
     "data": {
      "text/plain": [
       "Text(0.5, 1.0, 'Subarchetype 5 Simulated Distribution - Normal x_i assumption')"
      ]
     },
     "execution_count": 31,
     "metadata": {},
     "output_type": "execute_result"
    },
    {
     "data": {
      "image/png": "[encoded data removed]",
      "text/plain": [
       "<Figure size 432x288 with 1 Axes>"
      ]
     },
     "metadata": {
      "needs_background": "light"
     },
     "output_type": "display_data"
    }
   ],
   "source": [
    "# let's create the empirical distribution of g archetype 5\n",
    "sns.histplot(data=g_subarchetype5_simulations, kde=True, stat='probability')\n",
    "plt.title(\"Subarchetype 5 Simulated Distribution - Normal x_i assumption\")\n",
    "\n",
    "\n",
    "plt.savefig('g_subarchetype5_distribution-NORMAL_UNDERLYING.png')"
   ]
  },
  {
   "cell_type": "code",
   "execution_count": 32,
   "id": "d31366a9",
   "metadata": {},
   "outputs": [
    {
     "data": {
      "text/html": [
       "<div>\n",
       "<style scoped>\n",
       "    .dataframe tbody tr th:only-of-type {\n",
       "        vertical-align: middle;\n",
       "    }\n",
       "\n",
       "    .dataframe tbody tr th {\n",
       "        vertical-align: top;\n",
       "    }\n",
       "\n",
       "    .dataframe thead th {\n",
       "        text-align: right;\n",
       "    }\n",
       "</style>\n",
       "<table border=\"1\" class=\"dataframe\">\n",
       "  <thead>\n",
       "    <tr style=\"text-align: right;\">\n",
       "      <th></th>\n",
       "      <th>Left-Sided Demand Deviation</th>\n",
       "      <th>Probability</th>\n",
       "    </tr>\n",
       "  </thead>\n",
       "  <tbody>\n",
       "    <tr>\n",
       "      <th>0</th>\n",
       "      <td>-0.384452</td>\n",
       "      <td>0.000000</td>\n",
       "    </tr>\n",
       "    <tr>\n",
       "      <th>1</th>\n",
       "      <td>-0.380640</td>\n",
       "      <td>0.000026</td>\n",
       "    </tr>\n",
       "    <tr>\n",
       "      <th>2</th>\n",
       "      <td>-0.376827</td>\n",
       "      <td>0.000058</td>\n",
       "    </tr>\n",
       "    <tr>\n",
       "      <th>3</th>\n",
       "      <td>-0.373015</td>\n",
       "      <td>0.000097</td>\n",
       "    </tr>\n",
       "    <tr>\n",
       "      <th>4</th>\n",
       "      <td>-0.369203</td>\n",
       "      <td>0.000144</td>\n",
       "    </tr>\n",
       "    <tr>\n",
       "      <th>...</th>\n",
       "      <td>...</td>\n",
       "      <td>...</td>\n",
       "    </tr>\n",
       "    <tr>\n",
       "      <th>195</th>\n",
       "      <td>0.358939</td>\n",
       "      <td>0.999801</td>\n",
       "    </tr>\n",
       "    <tr>\n",
       "      <th>196</th>\n",
       "      <td>0.362751</td>\n",
       "      <td>0.999820</td>\n",
       "    </tr>\n",
       "    <tr>\n",
       "      <th>197</th>\n",
       "      <td>0.366563</td>\n",
       "      <td>0.999837</td>\n",
       "    </tr>\n",
       "    <tr>\n",
       "      <th>198</th>\n",
       "      <td>0.370375</td>\n",
       "      <td>0.999852</td>\n",
       "    </tr>\n",
       "    <tr>\n",
       "      <th>199</th>\n",
       "      <td>0.374188</td>\n",
       "      <td>0.999865</td>\n",
       "    </tr>\n",
       "  </tbody>\n",
       "</table>\n",
       "<p>200 rows × 2 columns</p>\n",
       "</div>"
      ],
      "text/plain": [
       "     Left-Sided Demand Deviation  Probability\n",
       "0                      -0.384452     0.000000\n",
       "1                      -0.380640     0.000026\n",
       "2                      -0.376827     0.000058\n",
       "3                      -0.373015     0.000097\n",
       "4                      -0.369203     0.000144\n",
       "..                           ...          ...\n",
       "195                     0.358939     0.999801\n",
       "196                     0.362751     0.999820\n",
       "197                     0.366563     0.999837\n",
       "198                     0.370375     0.999852\n",
       "199                     0.374188     0.999865\n",
       "\n",
       "[200 rows x 2 columns]"
      ]
     },
     "execution_count": 32,
     "metadata": {},
     "output_type": "execute_result"
    },
    {
     "data": {
      "image/png": "[encoded data removed]",
      "text/plain": [
       "<Figure size 432x288 with 1 Axes>"
      ]
     },
     "metadata": {
      "needs_background": "light"
     },
     "output_type": "display_data"
    }
   ],
   "source": [
    "# get data from CDF\n",
    "df_g_subarchetype5_probabilities = pd.DataFrame(\n",
    "    np.transpose(\n",
    "        sns.histplot(data=g_subarchetype5_simulations, kde=True, stat='probability', cumulative = True)\n",
    "             .get_lines()[0].get_data()\n",
    "            )\n",
    ")\n",
    "\n",
    "df_g_subarchetype5_probabilities.rename(columns={0:'Left-Sided Demand Deviation',1:'Probability'}, inplace=True)\n",
    "df_g_subarchetype5_probabilities\n",
    "\n",
    "# note that there is 0 probability of -0.5 demand deviation"
   ]
  },
  {
   "cell_type": "code",
   "execution_count": 33,
   "id": "fc6aa6a4",
   "metadata": {},
   "outputs": [
    {
     "data": {
      "text/html": [
       "<div>\n",
       "<style scoped>\n",
       "    .dataframe tbody tr th:only-of-type {\n",
       "        vertical-align: middle;\n",
       "    }\n",
       "\n",
       "    .dataframe tbody tr th {\n",
       "        vertical-align: top;\n",
       "    }\n",
       "\n",
       "    .dataframe thead th {\n",
       "        text-align: right;\n",
       "    }\n",
       "</style>\n",
       "<table border=\"1\" class=\"dataframe\">\n",
       "  <thead>\n",
       "    <tr style=\"text-align: right;\">\n",
       "      <th></th>\n",
       "      <th>Subarchetype</th>\n",
       "      <th>Below Rate of Return</th>\n",
       "      <th>Negative Operating Profit</th>\n",
       "      <th>40%</th>\n",
       "    </tr>\n",
       "  </thead>\n",
       "  <tbody>\n",
       "    <tr>\n",
       "      <th>0</th>\n",
       "      <td>1: Medium grid-sourced electrolytic producer: ...</td>\n",
       "      <td>0.002402</td>\n",
       "      <td>0.0</td>\n",
       "      <td>0.0</td>\n",
       "    </tr>\n",
       "    <tr>\n",
       "      <th>1</th>\n",
       "      <td>2: Medium grid-sourced electrolytic producer: ...</td>\n",
       "      <td>0.001834</td>\n",
       "      <td>0.0</td>\n",
       "      <td>0.0</td>\n",
       "    </tr>\n",
       "    <tr>\n",
       "      <th>2</th>\n",
       "      <td>3: CCUS-enabled producer serving a large indus...</td>\n",
       "      <td>0.028305</td>\n",
       "      <td>0.0</td>\n",
       "      <td>0.0</td>\n",
       "    </tr>\n",
       "    <tr>\n",
       "      <th>3</th>\n",
       "      <td>4: CCUS-enabled producer serving a large indus...</td>\n",
       "      <td>0.000767</td>\n",
       "      <td>0.0</td>\n",
       "      <td>0.0</td>\n",
       "    </tr>\n",
       "    <tr>\n",
       "      <th>4</th>\n",
       "      <td>5: CCUS-enabled producer serving a large indus...</td>\n",
       "      <td>0.000267</td>\n",
       "      <td>0.0</td>\n",
       "      <td>0.0</td>\n",
       "    </tr>\n",
       "    <tr>\n",
       "      <th>5</th>\n",
       "      <td>6: Small co-developed renewable electrolytic s...</td>\n",
       "      <td>NaN</td>\n",
       "      <td>NaN</td>\n",
       "      <td>NaN</td>\n",
       "    </tr>\n",
       "  </tbody>\n",
       "</table>\n",
       "</div>"
      ],
      "text/plain": [
       "                                        Subarchetype  Below Rate of Return  \\\n",
       "0  1: Medium grid-sourced electrolytic producer: ...              0.002402   \n",
       "1  2: Medium grid-sourced electrolytic producer: ...              0.001834   \n",
       "2  3: CCUS-enabled producer serving a large indus...              0.028305   \n",
       "3  4: CCUS-enabled producer serving a large indus...              0.000767   \n",
       "4  5: CCUS-enabled producer serving a large indus...              0.000267   \n",
       "5  6: Small co-developed renewable electrolytic s...                   NaN   \n",
       "\n",
       "   Negative Operating Profit  40%  \n",
       "0                        0.0  0.0  \n",
       "1                        0.0  0.0  \n",
       "2                        0.0  0.0  \n",
       "3                        0.0  0.0  \n",
       "4                        0.0  0.0  \n",
       "5                        NaN  NaN  "
      ]
     },
     "execution_count": 33,
     "metadata": {},
     "output_type": "execute_result"
    }
   ],
   "source": [
    "# store results for subarchetype 5\n",
    "\n",
    "df_subarchetype_results.at[4,'Below Rate of Return']=df_g_subarchetype5_probabilities.loc[\n",
    "    find_neighbours(\n",
    "        BELOW_RATE_OF_RETURN_g5,df_g_subarchetype5_probabilities,'Left-Sided Demand Deviation')[1]\n",
    "][1]\n",
    "\n",
    "# if 0 probability, there will be an error. If so, then manually set probability to 0\n",
    "try:\n",
    "    df_subarchetype_results.at[4,'Negative Operating Profit']=df_g_subarchetype5_probabilities.loc[\n",
    "    find_neighbours(\n",
    "        NEG_OPER_PROFIT,df_g_subarchetype5_probabilities,'Left-Sided Demand Deviation')[1]\n",
    "][1]\n",
    "\n",
    "except ValueError:\n",
    "    df_subarchetype_results.at[4,'Negative Operating Profit']=0\n",
    "    \n",
    "    \n",
    "    \n",
    "try:\n",
    "    df_subarchetype_results.at[4,'40%']=df_g_subarchetype5_probabilities.loc[\n",
    "    find_neighbours(\n",
    "        FOURTY_PERCENT_g5,df_g_subarchetype5_probabilities,'Left-Sided Demand Deviation')[1]\n",
    "][1]\n",
    "\n",
    "except ValueError:\n",
    "    df_subarchetype_results.at[4,'40%']=0    \n",
    "    \n",
    "    \n",
    "df_subarchetype_results"
   ]
  },
  {
   "cell_type": "markdown",
   "id": "0601aad9",
   "metadata": {},
   "source": [
    "### 6) Simulate the sixth subarchetype: \"Small co-developed renewable electrolytic sites for assorted uses\""
   ]
  },
  {
   "cell_type": "code",
   "execution_count": 34,
   "id": "71718342",
   "metadata": {},
   "outputs": [
    {
     "data": {
      "text/plain": [
       "0       0.050899\n",
       "1       0.028454\n",
       "2       0.119002\n",
       "3      -0.102479\n",
       "4       0.009583\n",
       "          ...   \n",
       "9995    0.106639\n",
       "9996   -0.209212\n",
       "9997   -0.056896\n",
       "9998    0.019035\n",
       "9999   -0.124968\n",
       "Length: 10000, dtype: float64"
      ]
     },
     "execution_count": 34,
     "metadata": {},
     "output_type": "execute_result"
    },
    {
     "data": {
      "text/plain": [
       "<AxesSubplot:>"
      ]
     },
     "execution_count": 34,
     "metadata": {},
     "output_type": "execute_result"
    },
    {
     "data": {
      "image/png": "[encoded data removed]",
      "text/plain": [
       "<Figure size 432x288 with 1 Axes>"
      ]
     },
     "metadata": {
      "needs_background": "light"
     },
     "output_type": "display_data"
    }
   ],
   "source": [
    "# simulate g(X) for \"Small co-developed renewable electrolytic sites for assorted uses\"\n",
    "g_subarchetype6_simulations = (\n",
    " df_weights[\"subarchetype6\"][0]*df_simulations['x1'] #weight of x1 * observations of x1\n",
    " +df_weights[\"subarchetype6\"][1]*df_simulations['x2'] #weight of x2 * observations of x2\n",
    " +df_weights[\"subarchetype6\"][2]*df_simulations['x3'] #weight of x3 * observations of x3\n",
    " +df_weights[\"subarchetype6\"][3]*df_simulations['x4'] #weight of x4 * observations of x4\n",
    " +df_weights[\"subarchetype6\"][4]*df_simulations['x5'] #weight of x5 * observations of x5\n",
    " +df_weights[\"subarchetype6\"][5]*df_simulations['x6'] #weight of x6 * observations of x6\n",
    ")\n",
    "\n",
    "g_subarchetype6_simulations\n",
    "\n",
    "g_subarchetype6_simulations.hist()"
   ]
  },
  {
   "cell_type": "markdown",
   "id": "49bff2f8",
   "metadata": {},
   "source": [
    "#### Compute the left-sided probability of g distribution, for subarchetype 6"
   ]
  },
  {
   "cell_type": "code",
   "execution_count": 35,
   "id": "b7524720",
   "metadata": {},
   "outputs": [
    {
     "data": {
      "text/plain": [
       "<AxesSubplot:ylabel='Probability'>"
      ]
     },
     "execution_count": 35,
     "metadata": {},
     "output_type": "execute_result"
    },
    {
     "data": {
      "text/plain": [
       "Text(0.5, 1.0, 'Subarchetype 6 Simulated Distribution - Normal x_i assumption')"
      ]
     },
     "execution_count": 35,
     "metadata": {},
     "output_type": "execute_result"
    },
    {
     "data": {
      "image/png": "[encoded data removed]",
      "text/plain": [
       "<Figure size 432x288 with 1 Axes>"
      ]
     },
     "metadata": {
      "needs_background": "light"
     },
     "output_type": "display_data"
    }
   ],
   "source": [
    "# let's create the empirical distribution of g archetype 6\n",
    "sns.histplot(data=g_subarchetype6_simulations, kde=True, stat='probability')\n",
    "plt.title(\"Subarchetype 6 Simulated Distribution - Normal x_i assumption\")\n",
    "\n",
    "\n",
    "plt.savefig('g_subarchetype6_distribution-NORMAL_UNDERLYING.png')"
   ]
  },
  {
   "cell_type": "code",
   "execution_count": 36,
   "id": "3c55ea94",
   "metadata": {},
   "outputs": [
    {
     "data": {
      "text/html": [
       "<div>\n",
       "<style scoped>\n",
       "    .dataframe tbody tr th:only-of-type {\n",
       "        vertical-align: middle;\n",
       "    }\n",
       "\n",
       "    .dataframe tbody tr th {\n",
       "        vertical-align: top;\n",
       "    }\n",
       "\n",
       "    .dataframe thead th {\n",
       "        text-align: right;\n",
       "    }\n",
       "</style>\n",
       "<table border=\"1\" class=\"dataframe\">\n",
       "  <thead>\n",
       "    <tr style=\"text-align: right;\">\n",
       "      <th></th>\n",
       "      <th>Left-Sided Demand Deviation</th>\n",
       "      <th>Probability</th>\n",
       "    </tr>\n",
       "  </thead>\n",
       "  <tbody>\n",
       "    <tr>\n",
       "      <th>0</th>\n",
       "      <td>-0.468735</td>\n",
       "      <td>0.000000</td>\n",
       "    </tr>\n",
       "    <tr>\n",
       "      <th>1</th>\n",
       "      <td>-0.464241</td>\n",
       "      <td>0.000065</td>\n",
       "    </tr>\n",
       "    <tr>\n",
       "      <th>2</th>\n",
       "      <td>-0.459747</td>\n",
       "      <td>0.000140</td>\n",
       "    </tr>\n",
       "    <tr>\n",
       "      <th>3</th>\n",
       "      <td>-0.455253</td>\n",
       "      <td>0.000225</td>\n",
       "    </tr>\n",
       "    <tr>\n",
       "      <th>4</th>\n",
       "      <td>-0.450759</td>\n",
       "      <td>0.000318</td>\n",
       "    </tr>\n",
       "    <tr>\n",
       "      <th>...</th>\n",
       "      <td>...</td>\n",
       "      <td>...</td>\n",
       "    </tr>\n",
       "    <tr>\n",
       "      <th>195</th>\n",
       "      <td>0.407603</td>\n",
       "      <td>0.999258</td>\n",
       "    </tr>\n",
       "    <tr>\n",
       "      <th>196</th>\n",
       "      <td>0.412097</td>\n",
       "      <td>0.999352</td>\n",
       "    </tr>\n",
       "    <tr>\n",
       "      <th>197</th>\n",
       "      <td>0.416591</td>\n",
       "      <td>0.999435</td>\n",
       "    </tr>\n",
       "    <tr>\n",
       "      <th>198</th>\n",
       "      <td>0.421085</td>\n",
       "      <td>0.999506</td>\n",
       "    </tr>\n",
       "    <tr>\n",
       "      <th>199</th>\n",
       "      <td>0.425580</td>\n",
       "      <td>0.999567</td>\n",
       "    </tr>\n",
       "  </tbody>\n",
       "</table>\n",
       "<p>200 rows × 2 columns</p>\n",
       "</div>"
      ],
      "text/plain": [
       "     Left-Sided Demand Deviation  Probability\n",
       "0                      -0.468735     0.000000\n",
       "1                      -0.464241     0.000065\n",
       "2                      -0.459747     0.000140\n",
       "3                      -0.455253     0.000225\n",
       "4                      -0.450759     0.000318\n",
       "..                           ...          ...\n",
       "195                     0.407603     0.999258\n",
       "196                     0.412097     0.999352\n",
       "197                     0.416591     0.999435\n",
       "198                     0.421085     0.999506\n",
       "199                     0.425580     0.999567\n",
       "\n",
       "[200 rows x 2 columns]"
      ]
     },
     "execution_count": 36,
     "metadata": {},
     "output_type": "execute_result"
    },
    {
     "data": {
      "image/png": "[encoded data removed]",
      "text/plain": [
       "<Figure size 432x288 with 1 Axes>"
      ]
     },
     "metadata": {
      "needs_background": "light"
     },
     "output_type": "display_data"
    }
   ],
   "source": [
    "# get data from CDF\n",
    "df_g_subarchetype6_probabilities = pd.DataFrame(\n",
    "    np.transpose(\n",
    "        sns.histplot(data=g_subarchetype6_simulations, kde=True, stat='probability', cumulative = True)\n",
    "             .get_lines()[0].get_data()\n",
    "            )\n",
    ")\n",
    "\n",
    "df_g_subarchetype6_probabilities.rename(columns={0:'Left-Sided Demand Deviation',1:'Probability'}, inplace=True)\n",
    "df_g_subarchetype6_probabilities\n",
    "\n",
    "# note that there is 0 probability of -0.5 demand deviation"
   ]
  },
  {
   "cell_type": "code",
   "execution_count": 37,
   "id": "36c8f42b",
   "metadata": {},
   "outputs": [
    {
     "data": {
      "text/html": [
       "<div>\n",
       "<style scoped>\n",
       "    .dataframe tbody tr th:only-of-type {\n",
       "        vertical-align: middle;\n",
       "    }\n",
       "\n",
       "    .dataframe tbody tr th {\n",
       "        vertical-align: top;\n",
       "    }\n",
       "\n",
       "    .dataframe thead th {\n",
       "        text-align: right;\n",
       "    }\n",
       "</style>\n",
       "<table border=\"1\" class=\"dataframe\">\n",
       "  <thead>\n",
       "    <tr style=\"text-align: right;\">\n",
       "      <th></th>\n",
       "      <th>Subarchetype</th>\n",
       "      <th>Below Rate of Return</th>\n",
       "      <th>Negative Operating Profit</th>\n",
       "      <th>40%</th>\n",
       "    </tr>\n",
       "  </thead>\n",
       "  <tbody>\n",
       "    <tr>\n",
       "      <th>0</th>\n",
       "      <td>1: Medium grid-sourced electrolytic producer: ...</td>\n",
       "      <td>0.002402</td>\n",
       "      <td>0.0</td>\n",
       "      <td>0.0</td>\n",
       "    </tr>\n",
       "    <tr>\n",
       "      <th>1</th>\n",
       "      <td>2: Medium grid-sourced electrolytic producer: ...</td>\n",
       "      <td>0.001834</td>\n",
       "      <td>0.0</td>\n",
       "      <td>0.0</td>\n",
       "    </tr>\n",
       "    <tr>\n",
       "      <th>2</th>\n",
       "      <td>3: CCUS-enabled producer serving a large indus...</td>\n",
       "      <td>0.028305</td>\n",
       "      <td>0.0</td>\n",
       "      <td>0.0</td>\n",
       "    </tr>\n",
       "    <tr>\n",
       "      <th>3</th>\n",
       "      <td>4: CCUS-enabled producer serving a large indus...</td>\n",
       "      <td>0.000767</td>\n",
       "      <td>0.0</td>\n",
       "      <td>0.0</td>\n",
       "    </tr>\n",
       "    <tr>\n",
       "      <th>4</th>\n",
       "      <td>5: CCUS-enabled producer serving a large indus...</td>\n",
       "      <td>0.000267</td>\n",
       "      <td>0.0</td>\n",
       "      <td>0.0</td>\n",
       "    </tr>\n",
       "    <tr>\n",
       "      <th>5</th>\n",
       "      <td>6: Small co-developed renewable electrolytic s...</td>\n",
       "      <td>0.009830</td>\n",
       "      <td>0.0</td>\n",
       "      <td>0.0</td>\n",
       "    </tr>\n",
       "  </tbody>\n",
       "</table>\n",
       "</div>"
      ],
      "text/plain": [
       "                                        Subarchetype  Below Rate of Return  \\\n",
       "0  1: Medium grid-sourced electrolytic producer: ...              0.002402   \n",
       "1  2: Medium grid-sourced electrolytic producer: ...              0.001834   \n",
       "2  3: CCUS-enabled producer serving a large indus...              0.028305   \n",
       "3  4: CCUS-enabled producer serving a large indus...              0.000767   \n",
       "4  5: CCUS-enabled producer serving a large indus...              0.000267   \n",
       "5  6: Small co-developed renewable electrolytic s...              0.009830   \n",
       "\n",
       "   Negative Operating Profit  40%  \n",
       "0                        0.0  0.0  \n",
       "1                        0.0  0.0  \n",
       "2                        0.0  0.0  \n",
       "3                        0.0  0.0  \n",
       "4                        0.0  0.0  \n",
       "5                        0.0  0.0  "
      ]
     },
     "execution_count": 37,
     "metadata": {},
     "output_type": "execute_result"
    }
   ],
   "source": [
    "# store results for subarchetype 6\n",
    "\n",
    "df_subarchetype_results.at[5,'Below Rate of Return']=df_g_subarchetype6_probabilities.loc[\n",
    "    find_neighbours(\n",
    "        BELOW_RATE_OF_RETURN_g6,df_g_subarchetype6_probabilities,'Left-Sided Demand Deviation')[1]\n",
    "][1]\n",
    "\n",
    "# if 0 probability, there will be an error. If so, then manually set probability to 0\n",
    "try:\n",
    "    df_subarchetype_results.at[5,'Negative Operating Profit']=df_g_subarchetype6_probabilities.loc[\n",
    "    find_neighbours(\n",
    "        NEG_OPER_PROFIT,df_g_subarchetype6_probabilities,'Left-Sided Demand Deviation')[1]\n",
    "][1]\n",
    "\n",
    "except ValueError:\n",
    "    df_subarchetype_results.at[5,'Negative Operating Profit']=0\n",
    "    \n",
    "    \n",
    "try:\n",
    "    df_subarchetype_results.at[5,'40%']=df_g_subarchetype6_probabilities.loc[\n",
    "    find_neighbours(\n",
    "        FOURTY_PERCENT_g6,df_g_subarchetype6_probabilities,'Left-Sided Demand Deviation')[1]\n",
    "][1]\n",
    "\n",
    "except ValueError:\n",
    "    df_subarchetype_results.at[5,'40%']=0    \n",
    "    \n",
    "    \n",
    "df_subarchetype_results"
   ]
  },
  {
   "cell_type": "markdown",
   "id": "560ede0d",
   "metadata": {},
   "source": [
    "### STORE RESULTS"
   ]
  },
  {
   "cell_type": "code",
   "execution_count": 38,
   "id": "a14d374d",
   "metadata": {},
   "outputs": [],
   "source": [
    "# save to csv\n",
    "\n",
    "df_subarchetype_results.to_csv('subarchetype_results-normal_underlying.csv')"
   ]
  },
  {
   "cell_type": "markdown",
   "id": "bedb931d",
   "metadata": {},
   "source": [
    "# ---------------------------------------------------------------------------------------------------------------"
   ]
  },
  {
   "cell_type": "markdown",
   "id": "872c3d91",
   "metadata": {},
   "source": [
    "# ---- In the second step, we want to generate simulations from the 6 underlying RV, $ x_i $,  for i = 1,...,6, where simulations will come from the bootstrap, which does not place distributional assumptions on the underyling data generating process ----"
   ]
  },
  {
   "cell_type": "code",
   "execution_count": 39,
   "id": "ee0b9151",
   "metadata": {},
   "outputs": [],
   "source": [
    "from sklearn.utils import resample"
   ]
  },
  {
   "cell_type": "code",
   "execution_count": 40,
   "id": "336f89b5",
   "metadata": {},
   "outputs": [
    {
     "data": {
      "text/html": [
       "<div>\n",
       "<style scoped>\n",
       "    .dataframe tbody tr th:only-of-type {\n",
       "        vertical-align: middle;\n",
       "    }\n",
       "\n",
       "    .dataframe tbody tr th {\n",
       "        vertical-align: top;\n",
       "    }\n",
       "\n",
       "    .dataframe thead th {\n",
       "        text-align: right;\n",
       "    }\n",
       "</style>\n",
       "<table border=\"1\" class=\"dataframe\">\n",
       "  <thead>\n",
       "    <tr style=\"text-align: right;\">\n",
       "      <th></th>\n",
       "      <th>x1</th>\n",
       "      <th>x2</th>\n",
       "      <th>x3</th>\n",
       "      <th>x4</th>\n",
       "      <th>x5</th>\n",
       "      <th>x6</th>\n",
       "    </tr>\n",
       "  </thead>\n",
       "  <tbody>\n",
       "    <tr>\n",
       "      <th>0</th>\n",
       "      <td>0.183895</td>\n",
       "      <td>0.138603</td>\n",
       "      <td>0.095182</td>\n",
       "      <td>0.488166</td>\n",
       "      <td>NaN</td>\n",
       "      <td>0.050584</td>\n",
       "    </tr>\n",
       "    <tr>\n",
       "      <th>1</th>\n",
       "      <td>-0.229089</td>\n",
       "      <td>0.127632</td>\n",
       "      <td>0.007235</td>\n",
       "      <td>0.089415</td>\n",
       "      <td>NaN</td>\n",
       "      <td>-0.042802</td>\n",
       "    </tr>\n",
       "    <tr>\n",
       "      <th>2</th>\n",
       "      <td>-0.476099</td>\n",
       "      <td>0.160255</td>\n",
       "      <td>0.121134</td>\n",
       "      <td>0.038808</td>\n",
       "      <td>NaN</td>\n",
       "      <td>-0.019455</td>\n",
       "    </tr>\n",
       "    <tr>\n",
       "      <th>3</th>\n",
       "      <td>0.228002</td>\n",
       "      <td>-0.033193</td>\n",
       "      <td>0.034436</td>\n",
       "      <td>0.090117</td>\n",
       "      <td>NaN</td>\n",
       "      <td>0.091440</td>\n",
       "    </tr>\n",
       "    <tr>\n",
       "      <th>4</th>\n",
       "      <td>0.154953</td>\n",
       "      <td>0.215622</td>\n",
       "      <td>0.145104</td>\n",
       "      <td>0.084269</td>\n",
       "      <td>NaN</td>\n",
       "      <td>0.295720</td>\n",
       "    </tr>\n",
       "    <tr>\n",
       "      <th>5</th>\n",
       "      <td>-0.069609</td>\n",
       "      <td>-0.084052</td>\n",
       "      <td>0.044111</td>\n",
       "      <td>0.016009</td>\n",
       "      <td>NaN</td>\n",
       "      <td>0.225681</td>\n",
       "    </tr>\n",
       "    <tr>\n",
       "      <th>6</th>\n",
       "      <td>-0.015712</td>\n",
       "      <td>0.020585</td>\n",
       "      <td>0.139906</td>\n",
       "      <td>0.138137</td>\n",
       "      <td>NaN</td>\n",
       "      <td>0.295720</td>\n",
       "    </tr>\n",
       "    <tr>\n",
       "      <th>7</th>\n",
       "      <td>-0.417742</td>\n",
       "      <td>-0.199899</td>\n",
       "      <td>-0.015584</td>\n",
       "      <td>-0.165202</td>\n",
       "      <td>NaN</td>\n",
       "      <td>0.284047</td>\n",
       "    </tr>\n",
       "    <tr>\n",
       "      <th>8</th>\n",
       "      <td>0.151618</td>\n",
       "      <td>0.264910</td>\n",
       "      <td>0.094683</td>\n",
       "      <td>-0.140043</td>\n",
       "      <td>NaN</td>\n",
       "      <td>0.167315</td>\n",
       "    </tr>\n",
       "    <tr>\n",
       "      <th>9</th>\n",
       "      <td>0.075644</td>\n",
       "      <td>0.080213</td>\n",
       "      <td>0.183010</td>\n",
       "      <td>0.130201</td>\n",
       "      <td>NaN</td>\n",
       "      <td>0.097276</td>\n",
       "    </tr>\n",
       "    <tr>\n",
       "      <th>10</th>\n",
       "      <td>0.030262</td>\n",
       "      <td>0.084019</td>\n",
       "      <td>0.023342</td>\n",
       "      <td>0.212254</td>\n",
       "      <td>NaN</td>\n",
       "      <td>0.056420</td>\n",
       "    </tr>\n",
       "    <tr>\n",
       "      <th>11</th>\n",
       "      <td>0.119254</td>\n",
       "      <td>-0.003879</td>\n",
       "      <td>-0.145781</td>\n",
       "      <td>-0.009268</td>\n",
       "      <td>NaN</td>\n",
       "      <td>0.079767</td>\n",
       "    </tr>\n",
       "    <tr>\n",
       "      <th>12</th>\n",
       "      <td>0.262845</td>\n",
       "      <td>0.118179</td>\n",
       "      <td>-0.002881</td>\n",
       "      <td>-0.088924</td>\n",
       "      <td>NaN</td>\n",
       "      <td>-0.089494</td>\n",
       "    </tr>\n",
       "    <tr>\n",
       "      <th>13</th>\n",
       "      <td>0.145787</td>\n",
       "      <td>-0.089259</td>\n",
       "      <td>0.011115</td>\n",
       "      <td>-0.236291</td>\n",
       "      <td>0.141585</td>\n",
       "      <td>-0.136187</td>\n",
       "    </tr>\n",
       "    <tr>\n",
       "      <th>14</th>\n",
       "      <td>0.265878</td>\n",
       "      <td>0.196728</td>\n",
       "      <td>-0.107144</td>\n",
       "      <td>-0.047144</td>\n",
       "      <td>0.075673</td>\n",
       "      <td>-0.147860</td>\n",
       "    </tr>\n",
       "    <tr>\n",
       "      <th>15</th>\n",
       "      <td>0.119241</td>\n",
       "      <td>0.065709</td>\n",
       "      <td>-0.873352</td>\n",
       "      <td>-0.314329</td>\n",
       "      <td>-0.564038</td>\n",
       "      <td>-0.147860</td>\n",
       "    </tr>\n",
       "    <tr>\n",
       "      <th>16</th>\n",
       "      <td>0.106006</td>\n",
       "      <td>-0.006009</td>\n",
       "      <td>-0.592463</td>\n",
       "      <td>-0.380311</td>\n",
       "      <td>-0.316494</td>\n",
       "      <td>-0.048638</td>\n",
       "    </tr>\n",
       "    <tr>\n",
       "      <th>17</th>\n",
       "      <td>0.074683</td>\n",
       "      <td>0.050521</td>\n",
       "      <td>-0.020809</td>\n",
       "      <td>-0.195921</td>\n",
       "      <td>-0.127878</td>\n",
       "      <td>-0.200389</td>\n",
       "    </tr>\n",
       "    <tr>\n",
       "      <th>18</th>\n",
       "      <td>0.111586</td>\n",
       "      <td>-0.065689</td>\n",
       "      <td>-0.067493</td>\n",
       "      <td>-0.073284</td>\n",
       "      <td>0.043507</td>\n",
       "      <td>-0.083658</td>\n",
       "    </tr>\n",
       "    <tr>\n",
       "      <th>19</th>\n",
       "      <td>0.142272</td>\n",
       "      <td>0.283919</td>\n",
       "      <td>0.013547</td>\n",
       "      <td>0.008392</td>\n",
       "      <td>0.087288</td>\n",
       "      <td>-0.077821</td>\n",
       "    </tr>\n",
       "    <tr>\n",
       "      <th>20</th>\n",
       "      <td>0.084789</td>\n",
       "      <td>0.174740</td>\n",
       "      <td>0.116616</td>\n",
       "      <td>0.012769</td>\n",
       "      <td>0.093941</td>\n",
       "      <td>-0.013619</td>\n",
       "    </tr>\n",
       "    <tr>\n",
       "      <th>21</th>\n",
       "      <td>-0.129102</td>\n",
       "      <td>0.128217</td>\n",
       "      <td>0.113980</td>\n",
       "      <td>-0.040322</td>\n",
       "      <td>0.103777</td>\n",
       "      <td>-0.036965</td>\n",
       "    </tr>\n",
       "    <tr>\n",
       "      <th>22</th>\n",
       "      <td>0.103258</td>\n",
       "      <td>-0.015676</td>\n",
       "      <td>0.083171</td>\n",
       "      <td>-0.005405</td>\n",
       "      <td>-0.034982</td>\n",
       "      <td>0.068093</td>\n",
       "    </tr>\n",
       "    <tr>\n",
       "      <th>23</th>\n",
       "      <td>0.184134</td>\n",
       "      <td>0.117126</td>\n",
       "      <td>-0.248453</td>\n",
       "      <td>0.123000</td>\n",
       "      <td>-0.011364</td>\n",
       "      <td>-0.142023</td>\n",
       "    </tr>\n",
       "    <tr>\n",
       "      <th>24</th>\n",
       "      <td>0.060918</td>\n",
       "      <td>0.115015</td>\n",
       "      <td>-0.088564</td>\n",
       "      <td>0.255987</td>\n",
       "      <td>-0.215873</td>\n",
       "      <td>-0.217899</td>\n",
       "    </tr>\n",
       "    <tr>\n",
       "      <th>25</th>\n",
       "      <td>0.061392</td>\n",
       "      <td>0.005539</td>\n",
       "      <td>-0.088212</td>\n",
       "      <td>-0.096912</td>\n",
       "      <td>-0.169373</td>\n",
       "      <td>-0.194553</td>\n",
       "    </tr>\n",
       "    <tr>\n",
       "      <th>26</th>\n",
       "      <td>-0.001717</td>\n",
       "      <td>0.189165</td>\n",
       "      <td>0.166685</td>\n",
       "      <td>0.044283</td>\n",
       "      <td>0.010707</td>\n",
       "      <td>-0.182879</td>\n",
       "    </tr>\n",
       "    <tr>\n",
       "      <th>27</th>\n",
       "      <td>0.169921</td>\n",
       "      <td>0.100915</td>\n",
       "      <td>0.041892</td>\n",
       "      <td>0.172690</td>\n",
       "      <td>0.038302</td>\n",
       "      <td>-0.130350</td>\n",
       "    </tr>\n",
       "    <tr>\n",
       "      <th>28</th>\n",
       "      <td>0.055044</td>\n",
       "      <td>0.053303</td>\n",
       "      <td>0.102749</td>\n",
       "      <td>0.015483</td>\n",
       "      <td>0.112796</td>\n",
       "      <td>-0.025292</td>\n",
       "    </tr>\n",
       "    <tr>\n",
       "      <th>29</th>\n",
       "      <td>-0.770764</td>\n",
       "      <td>-0.047980</td>\n",
       "      <td>0.174248</td>\n",
       "      <td>-0.152449</td>\n",
       "      <td>0.110773</td>\n",
       "      <td>0.038911</td>\n",
       "    </tr>\n",
       "    <tr>\n",
       "      <th>30</th>\n",
       "      <td>-0.516905</td>\n",
       "      <td>-0.120411</td>\n",
       "      <td>0.144995</td>\n",
       "      <td>-0.013883</td>\n",
       "      <td>0.125160</td>\n",
       "      <td>0.033074</td>\n",
       "    </tr>\n",
       "    <tr>\n",
       "      <th>31</th>\n",
       "      <td>-0.024357</td>\n",
       "      <td>-0.531803</td>\n",
       "      <td>0.097208</td>\n",
       "      <td>-0.104548</td>\n",
       "      <td>0.115286</td>\n",
       "      <td>0.138132</td>\n",
       "    </tr>\n",
       "    <tr>\n",
       "      <th>32</th>\n",
       "      <td>-0.187217</td>\n",
       "      <td>-0.591875</td>\n",
       "      <td>0.184902</td>\n",
       "      <td>0.059801</td>\n",
       "      <td>0.131411</td>\n",
       "      <td>0.015564</td>\n",
       "    </tr>\n",
       "    <tr>\n",
       "      <th>33</th>\n",
       "      <td>0.015518</td>\n",
       "      <td>-0.303599</td>\n",
       "      <td>0.110779</td>\n",
       "      <td>-0.133897</td>\n",
       "      <td>0.134433</td>\n",
       "      <td>NaN</td>\n",
       "    </tr>\n",
       "    <tr>\n",
       "      <th>34</th>\n",
       "      <td>-0.068589</td>\n",
       "      <td>-0.320256</td>\n",
       "      <td>0.187946</td>\n",
       "      <td>0.071709</td>\n",
       "      <td>0.083695</td>\n",
       "      <td>NaN</td>\n",
       "    </tr>\n",
       "    <tr>\n",
       "      <th>35</th>\n",
       "      <td>NaN</td>\n",
       "      <td>-0.277336</td>\n",
       "      <td>-0.187241</td>\n",
       "      <td>0.146644</td>\n",
       "      <td>0.031668</td>\n",
       "      <td>NaN</td>\n",
       "    </tr>\n",
       "  </tbody>\n",
       "</table>\n",
       "</div>"
      ],
      "text/plain": [
       "          x1        x2        x3        x4        x5        x6\n",
       "0   0.183895  0.138603  0.095182  0.488166       NaN  0.050584\n",
       "1  -0.229089  0.127632  0.007235  0.089415       NaN -0.042802\n",
       "2  -0.476099  0.160255  0.121134  0.038808       NaN -0.019455\n",
       "3   0.228002 -0.033193  0.034436  0.090117       NaN  0.091440\n",
       "4   0.154953  0.215622  0.145104  0.084269       NaN  0.295720\n",
       "5  -0.069609 -0.084052  0.044111  0.016009       NaN  0.225681\n",
       "6  -0.015712  0.020585  0.139906  0.138137       NaN  0.295720\n",
       "7  -0.417742 -0.199899 -0.015584 -0.165202       NaN  0.284047\n",
       "8   0.151618  0.264910  0.094683 -0.140043       NaN  0.167315\n",
       "9   0.075644  0.080213  0.183010  0.130201       NaN  0.097276\n",
       "10  0.030262  0.084019  0.023342  0.212254       NaN  0.056420\n",
       "11  0.119254 -0.003879 -0.145781 -0.009268       NaN  0.079767\n",
       "12  0.262845  0.118179 -0.002881 -0.088924       NaN -0.089494\n",
       "13  0.145787 -0.089259  0.011115 -0.236291  0.141585 -0.136187\n",
       "14  0.265878  0.196728 -0.107144 -0.047144  0.075673 -0.147860\n",
       "15  0.119241  0.065709 -0.873352 -0.314329 -0.564038 -0.147860\n",
       "16  0.106006 -0.006009 -0.592463 -0.380311 -0.316494 -0.048638\n",
       "17  0.074683  0.050521 -0.020809 -0.195921 -0.127878 -0.200389\n",
       "18  0.111586 -0.065689 -0.067493 -0.073284  0.043507 -0.083658\n",
       "19  0.142272  0.283919  0.013547  0.008392  0.087288 -0.077821\n",
       "20  0.084789  0.174740  0.116616  0.012769  0.093941 -0.013619\n",
       "21 -0.129102  0.128217  0.113980 -0.040322  0.103777 -0.036965\n",
       "22  0.103258 -0.015676  0.083171 -0.005405 -0.034982  0.068093\n",
       "23  0.184134  0.117126 -0.248453  0.123000 -0.011364 -0.142023\n",
       "24  0.060918  0.115015 -0.088564  0.255987 -0.215873 -0.217899\n",
       "25  0.061392  0.005539 -0.088212 -0.096912 -0.169373 -0.194553\n",
       "26 -0.001717  0.189165  0.166685  0.044283  0.010707 -0.182879\n",
       "27  0.169921  0.100915  0.041892  0.172690  0.038302 -0.130350\n",
       "28  0.055044  0.053303  0.102749  0.015483  0.112796 -0.025292\n",
       "29 -0.770764 -0.047980  0.174248 -0.152449  0.110773  0.038911\n",
       "30 -0.516905 -0.120411  0.144995 -0.013883  0.125160  0.033074\n",
       "31 -0.024357 -0.531803  0.097208 -0.104548  0.115286  0.138132\n",
       "32 -0.187217 -0.591875  0.184902  0.059801  0.131411  0.015564\n",
       "33  0.015518 -0.303599  0.110779 -0.133897  0.134433       NaN\n",
       "34 -0.068589 -0.320256  0.187946  0.071709  0.083695       NaN\n",
       "35       NaN -0.277336 -0.187241  0.146644  0.031668       NaN"
      ]
     },
     "execution_count": 40,
     "metadata": {},
     "output_type": "execute_result"
    }
   ],
   "source": [
    "# import raw data to bootstrap with\n",
    "df_bootstrap_input = pd.read_excel(\"Variance Matrices.xlsx\", sheet_name = \"bootstrap_input\")\n",
    "df_bootstrap_input"
   ]
  },
  {
   "cell_type": "code",
   "execution_count": 41,
   "id": "f79660d6",
   "metadata": {},
   "outputs": [
    {
     "data": {
      "text/plain": [
       "12    0.262845\n",
       "8     0.151618\n",
       "9     0.075644\n",
       "11    0.119254\n",
       "5    -0.069609\n",
       "        ...   \n",
       "6    -0.015712\n",
       "16    0.106006\n",
       "2    -0.476099\n",
       "9     0.075644\n",
       "8     0.151618\n",
       "Name: x1, Length: 10000, dtype: float64"
      ]
     },
     "execution_count": 41,
     "metadata": {},
     "output_type": "execute_result"
    },
    {
     "data": {
      "text/plain": [
       "<AxesSubplot:xlabel='x1', ylabel='Count'>"
      ]
     },
     "execution_count": 41,
     "metadata": {},
     "output_type": "execute_result"
    },
    {
     "data": {
      "image/png": "[encoded data removed]",
      "text/plain": [
       "<Figure size 432x288 with 1 Axes>"
      ]
     },
     "metadata": {
      "needs_background": "light"
     },
     "output_type": "display_data"
    }
   ],
   "source": [
    "# create bootstrap samples for x1\n",
    "\n",
    "boot_x1 = resample(df_bootstrap_input['x1'].dropna(), replace=True, n_samples=NUM_SAMPLES, random_state=1)\n",
    "boot_x1\n",
    "\n",
    "sns.histplot(boot_x1, kde=True)"
   ]
  },
  {
   "cell_type": "code",
   "execution_count": 42,
   "id": "146412c4",
   "metadata": {},
   "outputs": [
    {
     "data": {
      "text/plain": [
       "12    0.118179\n",
       "8     0.264910\n",
       "9     0.080213\n",
       "11   -0.003879\n",
       "5    -0.084052\n",
       "        ...   \n",
       "21    0.128217\n",
       "25    0.005539\n",
       "21    0.128217\n",
       "4     0.215622\n",
       "9     0.080213\n",
       "Name: x2, Length: 10000, dtype: float64"
      ]
     },
     "execution_count": 42,
     "metadata": {},
     "output_type": "execute_result"
    },
    {
     "data": {
      "text/plain": [
       "<AxesSubplot:xlabel='x2', ylabel='Count'>"
      ]
     },
     "execution_count": 42,
     "metadata": {},
     "output_type": "execute_result"
    },
    {
     "data": {
      "image/png": "[encoded data removed]",
      "text/plain": [
       "<Figure size 432x288 with 1 Axes>"
      ]
     },
     "metadata": {
      "needs_background": "light"
     },
     "output_type": "display_data"
    }
   ],
   "source": [
    "# create bootstrap samples for x2\n",
    "\n",
    "boot_x2 = resample(df_bootstrap_input['x2'].dropna(), replace=True, n_samples=NUM_SAMPLES, random_state=1)\n",
    "boot_x2\n",
    "\n",
    "sns.histplot(boot_x2, kde=True)"
   ]
  },
  {
   "cell_type": "code",
   "execution_count": 43,
   "id": "149f75e6",
   "metadata": {},
   "outputs": [
    {
     "data": {
      "text/plain": [
       "12   -0.002881\n",
       "8     0.094683\n",
       "9     0.183010\n",
       "11   -0.145781\n",
       "5     0.044111\n",
       "        ...   \n",
       "21    0.113980\n",
       "25   -0.088212\n",
       "21    0.113980\n",
       "4     0.145104\n",
       "9     0.183010\n",
       "Name: x3, Length: 10000, dtype: float64"
      ]
     },
     "execution_count": 43,
     "metadata": {},
     "output_type": "execute_result"
    },
    {
     "data": {
      "text/plain": [
       "<AxesSubplot:xlabel='x3', ylabel='Count'>"
      ]
     },
     "execution_count": 43,
     "metadata": {},
     "output_type": "execute_result"
    },
    {
     "data": {
      "image/png": "[encoded data removed]",
      "text/plain": [
       "<Figure size 432x288 with 1 Axes>"
      ]
     },
     "metadata": {
      "needs_background": "light"
     },
     "output_type": "display_data"
    }
   ],
   "source": [
    "# create bootstrap samples for x3\n",
    "\n",
    "boot_x3 = resample(df_bootstrap_input['x3'].dropna(), replace=True, n_samples=NUM_SAMPLES, random_state=1)\n",
    "boot_x3\n",
    "\n",
    "sns.histplot(boot_x3, kde=True)"
   ]
  },
  {
   "cell_type": "code",
   "execution_count": 44,
   "id": "200acf98",
   "metadata": {},
   "outputs": [
    {
     "data": {
      "text/plain": [
       "12   -0.088924\n",
       "8    -0.140043\n",
       "9     0.130201\n",
       "11   -0.009268\n",
       "5     0.016009\n",
       "        ...   \n",
       "21   -0.040322\n",
       "25   -0.096912\n",
       "21   -0.040322\n",
       "4     0.084269\n",
       "9     0.130201\n",
       "Name: x4, Length: 10000, dtype: float64"
      ]
     },
     "execution_count": 44,
     "metadata": {},
     "output_type": "execute_result"
    },
    {
     "data": {
      "text/plain": [
       "<AxesSubplot:xlabel='x4', ylabel='Count'>"
      ]
     },
     "execution_count": 44,
     "metadata": {},
     "output_type": "execute_result"
    },
    {
     "data": {
      "image/png": "[encoded data removed]",
      "text/plain": [
       "<Figure size 432x288 with 1 Axes>"
      ]
     },
     "metadata": {
      "needs_background": "light"
     },
     "output_type": "display_data"
    }
   ],
   "source": [
    "# create bootstrap samples for x4\n",
    "\n",
    "boot_x4 = resample(df_bootstrap_input['x4'].dropna(), replace=True, n_samples=NUM_SAMPLES, random_state=1)\n",
    "boot_x4\n",
    "\n",
    "sns.histplot(boot_x4, kde=True)"
   ]
  },
  {
   "cell_type": "code",
   "execution_count": 45,
   "id": "fe1edd0c",
   "metadata": {},
   "outputs": [
    {
     "data": {
      "text/plain": [
       "18    0.043507\n",
       "24   -0.215873\n",
       "25   -0.169373\n",
       "21    0.103777\n",
       "22   -0.034982\n",
       "        ...   \n",
       "32    0.131411\n",
       "35    0.031668\n",
       "21    0.103777\n",
       "30    0.125160\n",
       "16   -0.316494\n",
       "Name: x5, Length: 10000, dtype: float64"
      ]
     },
     "execution_count": 45,
     "metadata": {},
     "output_type": "execute_result"
    },
    {
     "data": {
      "text/plain": [
       "<AxesSubplot:xlabel='x5', ylabel='Count'>"
      ]
     },
     "execution_count": 45,
     "metadata": {},
     "output_type": "execute_result"
    },
    {
     "data": {
      "image/png": "[encoded data removed]",
      "text/plain": [
       "<Figure size 432x288 with 1 Axes>"
      ]
     },
     "metadata": {
      "needs_background": "light"
     },
     "output_type": "display_data"
    }
   ],
   "source": [
    "# create bootstrap samples for x5\n",
    "\n",
    "boot_x5 = resample(df_bootstrap_input['x5'].dropna(), replace=True, n_samples=NUM_SAMPLES, random_state=1)\n",
    "boot_x5\n",
    "\n",
    "sns.histplot(boot_x5, kde=True)"
   ]
  },
  {
   "cell_type": "code",
   "execution_count": 46,
   "id": "0dcf9330",
   "metadata": {},
   "outputs": [
    {
     "data": {
      "text/plain": [
       "12   -0.089494\n",
       "8     0.167315\n",
       "9     0.097276\n",
       "11    0.079767\n",
       "5     0.225681\n",
       "        ...   \n",
       "32    0.015564\n",
       "21   -0.036965\n",
       "23   -0.142023\n",
       "14   -0.147860\n",
       "26   -0.182879\n",
       "Name: x6, Length: 10000, dtype: float64"
      ]
     },
     "execution_count": 46,
     "metadata": {},
     "output_type": "execute_result"
    },
    {
     "data": {
      "text/plain": [
       "<AxesSubplot:xlabel='x6', ylabel='Count'>"
      ]
     },
     "execution_count": 46,
     "metadata": {},
     "output_type": "execute_result"
    },
    {
     "data": {
      "image/png": "[encoded data removed]",
      "text/plain": [
       "<Figure size 432x288 with 1 Axes>"
      ]
     },
     "metadata": {
      "needs_background": "light"
     },
     "output_type": "display_data"
    }
   ],
   "source": [
    "# create bootstrap samples for x6\n",
    "\n",
    "boot_x6 = resample(df_bootstrap_input['x6'].dropna(), replace=True, n_samples=NUM_SAMPLES, random_state=1)\n",
    "boot_x6\n",
    "\n",
    "sns.histplot(boot_x6, kde=True)"
   ]
  },
  {
   "cell_type": "code",
   "execution_count": 47,
   "id": "25f67832",
   "metadata": {},
   "outputs": [
    {
     "data": {
      "text/plain": [
       "array([[ 0.26284494,  0.15161799,  0.0756438 , ..., -0.47609911,\n",
       "         0.0756438 ,  0.15161799],\n",
       "       [ 0.11817854,  0.26491035,  0.08021297, ...,  0.12821678,\n",
       "         0.2156215 ,  0.08021297],\n",
       "       [-0.0028811 ,  0.09468266,  0.18301016, ...,  0.11397965,\n",
       "         0.14510379,  0.18301016],\n",
       "       [-0.08892426, -0.14004285,  0.13020078, ..., -0.04032152,\n",
       "         0.08426904,  0.13020078],\n",
       "       [ 0.0435072 , -0.21587254, -0.16937345, ...,  0.10377732,\n",
       "         0.12516006, -0.31649383],\n",
       "       [-0.08949416,  0.16731518,  0.09727626, ..., -0.14202335,\n",
       "        -0.14785992, -0.18287938]])"
      ]
     },
     "execution_count": 47,
     "metadata": {},
     "output_type": "execute_result"
    }
   ],
   "source": [
    "bootstrap_array = np.array([\n",
    "    boot_x1,\n",
    "    boot_x2,\n",
    "    boot_x3,\n",
    "    boot_x4,\n",
    "    boot_x5,\n",
    "    boot_x6\n",
    "])\n",
    "bootstrap_array"
   ]
  },
  {
   "cell_type": "code",
   "execution_count": 48,
   "id": "1d50173f",
   "metadata": {},
   "outputs": [
    {
     "data": {
      "text/html": [
       "<div>\n",
       "<style scoped>\n",
       "    .dataframe tbody tr th:only-of-type {\n",
       "        vertical-align: middle;\n",
       "    }\n",
       "\n",
       "    .dataframe tbody tr th {\n",
       "        vertical-align: top;\n",
       "    }\n",
       "\n",
       "    .dataframe thead th {\n",
       "        text-align: right;\n",
       "    }\n",
       "</style>\n",
       "<table border=\"1\" class=\"dataframe\">\n",
       "  <thead>\n",
       "    <tr style=\"text-align: right;\">\n",
       "      <th></th>\n",
       "      <th>x1</th>\n",
       "      <th>x2</th>\n",
       "      <th>x3</th>\n",
       "      <th>x4</th>\n",
       "      <th>x5</th>\n",
       "      <th>x6</th>\n",
       "    </tr>\n",
       "  </thead>\n",
       "  <tbody>\n",
       "    <tr>\n",
       "      <th>0</th>\n",
       "      <td>0.262845</td>\n",
       "      <td>0.118179</td>\n",
       "      <td>-0.002881</td>\n",
       "      <td>-0.088924</td>\n",
       "      <td>0.043507</td>\n",
       "      <td>-0.089494</td>\n",
       "    </tr>\n",
       "    <tr>\n",
       "      <th>1</th>\n",
       "      <td>0.151618</td>\n",
       "      <td>0.264910</td>\n",
       "      <td>0.094683</td>\n",
       "      <td>-0.140043</td>\n",
       "      <td>-0.215873</td>\n",
       "      <td>0.167315</td>\n",
       "    </tr>\n",
       "    <tr>\n",
       "      <th>2</th>\n",
       "      <td>0.075644</td>\n",
       "      <td>0.080213</td>\n",
       "      <td>0.183010</td>\n",
       "      <td>0.130201</td>\n",
       "      <td>-0.169373</td>\n",
       "      <td>0.097276</td>\n",
       "    </tr>\n",
       "    <tr>\n",
       "      <th>3</th>\n",
       "      <td>0.119254</td>\n",
       "      <td>-0.003879</td>\n",
       "      <td>-0.145781</td>\n",
       "      <td>-0.009268</td>\n",
       "      <td>0.103777</td>\n",
       "      <td>0.079767</td>\n",
       "    </tr>\n",
       "    <tr>\n",
       "      <th>4</th>\n",
       "      <td>-0.069609</td>\n",
       "      <td>-0.084052</td>\n",
       "      <td>0.044111</td>\n",
       "      <td>0.016009</td>\n",
       "      <td>-0.034982</td>\n",
       "      <td>0.225681</td>\n",
       "    </tr>\n",
       "    <tr>\n",
       "      <th>...</th>\n",
       "      <td>...</td>\n",
       "      <td>...</td>\n",
       "      <td>...</td>\n",
       "      <td>...</td>\n",
       "      <td>...</td>\n",
       "      <td>...</td>\n",
       "    </tr>\n",
       "    <tr>\n",
       "      <th>9995</th>\n",
       "      <td>-0.015712</td>\n",
       "      <td>0.128217</td>\n",
       "      <td>0.113980</td>\n",
       "      <td>-0.040322</td>\n",
       "      <td>0.131411</td>\n",
       "      <td>0.015564</td>\n",
       "    </tr>\n",
       "    <tr>\n",
       "      <th>9996</th>\n",
       "      <td>0.106006</td>\n",
       "      <td>0.005539</td>\n",
       "      <td>-0.088212</td>\n",
       "      <td>-0.096912</td>\n",
       "      <td>0.031668</td>\n",
       "      <td>-0.036965</td>\n",
       "    </tr>\n",
       "    <tr>\n",
       "      <th>9997</th>\n",
       "      <td>-0.476099</td>\n",
       "      <td>0.128217</td>\n",
       "      <td>0.113980</td>\n",
       "      <td>-0.040322</td>\n",
       "      <td>0.103777</td>\n",
       "      <td>-0.142023</td>\n",
       "    </tr>\n",
       "    <tr>\n",
       "      <th>9998</th>\n",
       "      <td>0.075644</td>\n",
       "      <td>0.215622</td>\n",
       "      <td>0.145104</td>\n",
       "      <td>0.084269</td>\n",
       "      <td>0.125160</td>\n",
       "      <td>-0.147860</td>\n",
       "    </tr>\n",
       "    <tr>\n",
       "      <th>9999</th>\n",
       "      <td>0.151618</td>\n",
       "      <td>0.080213</td>\n",
       "      <td>0.183010</td>\n",
       "      <td>0.130201</td>\n",
       "      <td>-0.316494</td>\n",
       "      <td>-0.182879</td>\n",
       "    </tr>\n",
       "  </tbody>\n",
       "</table>\n",
       "<p>10000 rows × 6 columns</p>\n",
       "</div>"
      ],
      "text/plain": [
       "            x1        x2        x3        x4        x5        x6\n",
       "0     0.262845  0.118179 -0.002881 -0.088924  0.043507 -0.089494\n",
       "1     0.151618  0.264910  0.094683 -0.140043 -0.215873  0.167315\n",
       "2     0.075644  0.080213  0.183010  0.130201 -0.169373  0.097276\n",
       "3     0.119254 -0.003879 -0.145781 -0.009268  0.103777  0.079767\n",
       "4    -0.069609 -0.084052  0.044111  0.016009 -0.034982  0.225681\n",
       "...        ...       ...       ...       ...       ...       ...\n",
       "9995 -0.015712  0.128217  0.113980 -0.040322  0.131411  0.015564\n",
       "9996  0.106006  0.005539 -0.088212 -0.096912  0.031668 -0.036965\n",
       "9997 -0.476099  0.128217  0.113980 -0.040322  0.103777 -0.142023\n",
       "9998  0.075644  0.215622  0.145104  0.084269  0.125160 -0.147860\n",
       "9999  0.151618  0.080213  0.183010  0.130201 -0.316494 -0.182879\n",
       "\n",
       "[10000 rows x 6 columns]"
      ]
     },
     "execution_count": 48,
     "metadata": {},
     "output_type": "execute_result"
    }
   ],
   "source": [
    "# create a dataframe of all x_i bootstrap simulations\n",
    "\n",
    "df_bootstraps = pd.DataFrame(np.transpose(bootstrap_array))\n",
    "df_bootstraps.rename(columns = {0:'x1',1:'x2',2:'x3',3:'x4',4:'x5',5:'x6'}, inplace=True)\n",
    "df_bootstraps"
   ]
  },
  {
   "cell_type": "markdown",
   "id": "e48d4744",
   "metadata": {},
   "source": [
    "## So we have created our bootstrap simulations of $ x_i $ for i from 1 to 6. \n",
    "## Now we can generate subarchetype simulations: $ g_j(X) $ = weighted sum of $ x_i $, for j subarchetypes (j = 1,...,6)"
   ]
  },
  {
   "cell_type": "code",
   "execution_count": 49,
   "id": "de5c16aa",
   "metadata": {
    "scrolled": true
   },
   "outputs": [
    {
     "data": {
      "text/html": [
       "<div>\n",
       "<style scoped>\n",
       "    .dataframe tbody tr th:only-of-type {\n",
       "        vertical-align: middle;\n",
       "    }\n",
       "\n",
       "    .dataframe tbody tr th {\n",
       "        vertical-align: top;\n",
       "    }\n",
       "\n",
       "    .dataframe thead th {\n",
       "        text-align: right;\n",
       "    }\n",
       "</style>\n",
       "<table border=\"1\" class=\"dataframe\">\n",
       "  <thead>\n",
       "    <tr style=\"text-align: right;\">\n",
       "      <th></th>\n",
       "      <th>Subarchetype</th>\n",
       "      <th>Below Rate of Return</th>\n",
       "      <th>Negative Operating Profit</th>\n",
       "      <th>40%</th>\n",
       "    </tr>\n",
       "  </thead>\n",
       "  <tbody>\n",
       "    <tr>\n",
       "      <th>0</th>\n",
       "      <td>1: Medium grid-sourced electrolytic producer: ...</td>\n",
       "      <td>NaN</td>\n",
       "      <td>NaN</td>\n",
       "      <td>NaN</td>\n",
       "    </tr>\n",
       "    <tr>\n",
       "      <th>1</th>\n",
       "      <td>2: Medium grid-sourced electrolytic producer: ...</td>\n",
       "      <td>NaN</td>\n",
       "      <td>NaN</td>\n",
       "      <td>NaN</td>\n",
       "    </tr>\n",
       "    <tr>\n",
       "      <th>2</th>\n",
       "      <td>3: CCUS-enabled producer serving a large indus...</td>\n",
       "      <td>NaN</td>\n",
       "      <td>NaN</td>\n",
       "      <td>NaN</td>\n",
       "    </tr>\n",
       "    <tr>\n",
       "      <th>3</th>\n",
       "      <td>4: CCUS-enabled producer serving a large indus...</td>\n",
       "      <td>NaN</td>\n",
       "      <td>NaN</td>\n",
       "      <td>NaN</td>\n",
       "    </tr>\n",
       "    <tr>\n",
       "      <th>4</th>\n",
       "      <td>5: CCUS-enabled producer serving a large indus...</td>\n",
       "      <td>NaN</td>\n",
       "      <td>NaN</td>\n",
       "      <td>NaN</td>\n",
       "    </tr>\n",
       "    <tr>\n",
       "      <th>5</th>\n",
       "      <td>6: Small co-developed renewable electrolytic s...</td>\n",
       "      <td>NaN</td>\n",
       "      <td>NaN</td>\n",
       "      <td>NaN</td>\n",
       "    </tr>\n",
       "  </tbody>\n",
       "</table>\n",
       "</div>"
      ],
      "text/plain": [
       "                                        Subarchetype  Below Rate of Return  \\\n",
       "0  1: Medium grid-sourced electrolytic producer: ...                   NaN   \n",
       "1  2: Medium grid-sourced electrolytic producer: ...                   NaN   \n",
       "2  3: CCUS-enabled producer serving a large indus...                   NaN   \n",
       "3  4: CCUS-enabled producer serving a large indus...                   NaN   \n",
       "4  5: CCUS-enabled producer serving a large indus...                   NaN   \n",
       "5  6: Small co-developed renewable electrolytic s...                   NaN   \n",
       "\n",
       "   Negative Operating Profit  40%  \n",
       "0                        NaN  NaN  \n",
       "1                        NaN  NaN  \n",
       "2                        NaN  NaN  \n",
       "3                        NaN  NaN  \n",
       "4                        NaN  NaN  \n",
       "5                        NaN  NaN  "
      ]
     },
     "execution_count": 49,
     "metadata": {},
     "output_type": "execute_result"
    }
   ],
   "source": [
    "# create dataframe to store bootstrap_res\n",
    "df_subarchetype_bootstrap_res = pd.DataFrame(\n",
    "    {\n",
    "        \"Subarchetype\":[\n",
    "                        \"1: Medium grid-sourced electrolytic producer: Transport-focused\"\n",
    "                        ,\"2: Medium grid-sourced electrolytic producer: Variety of end-uses\"\n",
    "                        ,\"3: CCUS-enabled producer serving a large industrial cluster: Primary off-taker\"\n",
    "                        ,\"4: CCUS-enabled producer serving a large industrial cluster: Industry-specific mix\"\n",
    "                        ,\"5: CCUS-enabled producer serving a large industrial cluster: Many off-takers\"\n",
    "                        ,\"6: Small co-developed renewable electrolytic sites for assorted uses\"\n",
    "                        ],\n",
    "        \"Below Rate of Return\":np.nan,\n",
    "        \"Negative Operating Profit\":np.nan,\n",
    "        \"40%\":np.nan\n",
    "    }\n",
    ")\n",
    "\n",
    "df_subarchetype_bootstrap_res"
   ]
  },
  {
   "cell_type": "markdown",
   "id": "3a1f3383",
   "metadata": {},
   "source": [
    "### 1) Simulate the first subarchetype: \"Medium grid-sourced electrolytic producer: Transport-focused\""
   ]
  },
  {
   "cell_type": "code",
   "execution_count": 50,
   "id": "b0663f93",
   "metadata": {
    "scrolled": false
   },
   "outputs": [
    {
     "data": {
      "text/plain": [
       "0       0.016907\n",
       "1      -0.139235\n",
       "2      -0.116044\n",
       "3       0.098975\n",
       "4       0.017150\n",
       "          ...   \n",
       "9995    0.108241\n",
       "9996    0.017941\n",
       "9997    0.054617\n",
       "9998    0.070556\n",
       "9999   -0.289771\n",
       "Length: 10000, dtype: float64"
      ]
     },
     "execution_count": 50,
     "metadata": {},
     "output_type": "execute_result"
    },
    {
     "data": {
      "text/plain": [
       "<AxesSubplot:ylabel='Probability'>"
      ]
     },
     "execution_count": 50,
     "metadata": {},
     "output_type": "execute_result"
    },
    {
     "data": {
      "image/png": "[encoded data removed]",
      "text/plain": [
       "<Figure size 432x288 with 1 Axes>"
      ]
     },
     "metadata": {
      "needs_background": "light"
     },
     "output_type": "display_data"
    }
   ],
   "source": [
    "\n",
    "# In[ ]:\n",
    "\n",
    "\n",
    "# simulate g(X) for \"Medium grid-sourced electrolytic producer: Transport-focused\"\n",
    "\n",
    "g_subarchetype1_bootstraps = (\n",
    " df_weights[\"subarchetype1\"][0]*df_bootstraps['x1'] #weight of x1 * observations of x1\n",
    " +df_weights[\"subarchetype1\"][1]*df_bootstraps['x2'] #weight of x2 * observations of x2\n",
    " +df_weights[\"subarchetype1\"][2]*df_bootstraps['x3'] #weight of x3 * observations of x3\n",
    " +df_weights[\"subarchetype1\"][3]*df_bootstraps['x4'] #weight of x4 * observations of x4\n",
    " +df_weights[\"subarchetype1\"][4]*df_bootstraps['x5'] #weight of x5 * observations of x5\n",
    " +df_weights[\"subarchetype1\"][5]*df_bootstraps['x6'] #weight of x6 * observations of x6\n",
    ")\n",
    "\n",
    "g_subarchetype1_bootstraps\n",
    "\n",
    "\n",
    "# #### Compute the left-sided probability of g distribution, for subarchetype 1\n",
    "\n",
    "# In[ ]:\n",
    "\n",
    "\n",
    "# let's create the empirical distribution of g archetype 1 \n",
    "sns.histplot(data=g_subarchetype1_bootstraps, kde=True, stat='probability')\n"
   ]
  },
  {
   "cell_type": "code",
   "execution_count": 51,
   "id": "6cb02705",
   "metadata": {},
   "outputs": [
    {
     "data": {
      "text/plain": [
       "<AxesSubplot:ylabel='Density'>"
      ]
     },
     "execution_count": 51,
     "metadata": {},
     "output_type": "execute_result"
    },
    {
     "data": {
      "text/plain": [
       "Text(0.5, 1.0, 'Subarchetype 1 Simulated Distribution - Bootstrapped x_i')"
      ]
     },
     "execution_count": 51,
     "metadata": {},
     "output_type": "execute_result"
    },
    {
     "data": {
      "image/png": "[encoded data removed]",
      "text/plain": [
       "<Figure size 432x288 with 1 Axes>"
      ]
     },
     "metadata": {
      "needs_background": "light"
     },
     "output_type": "display_data"
    }
   ],
   "source": [
    "# instead of cutting off the distribution at the lowest empirical value, let's smooth it out\n",
    "\n",
    "sns.kdeplot(data=g_subarchetype1_bootstraps, shade = True)\n",
    "plt.title(\"Subarchetype 1 Simulated Distribution - Bootstrapped x_i\")\n",
    "\n",
    "plt.savefig('g_subarchetype1_distribution-BOOTSTRAP_UNDERLYING.png')"
   ]
  },
  {
   "cell_type": "code",
   "execution_count": 52,
   "id": "34ad0d2e",
   "metadata": {},
   "outputs": [
    {
     "data": {
      "text/html": [
       "<div>\n",
       "<style scoped>\n",
       "    .dataframe tbody tr th:only-of-type {\n",
       "        vertical-align: middle;\n",
       "    }\n",
       "\n",
       "    .dataframe tbody tr th {\n",
       "        vertical-align: top;\n",
       "    }\n",
       "\n",
       "    .dataframe thead th {\n",
       "        text-align: right;\n",
       "    }\n",
       "</style>\n",
       "<table border=\"1\" class=\"dataframe\">\n",
       "  <thead>\n",
       "    <tr style=\"text-align: right;\">\n",
       "      <th></th>\n",
       "      <th>Left-Sided Demand Deviation</th>\n",
       "      <th>Probability</th>\n",
       "    </tr>\n",
       "  </thead>\n",
       "  <tbody>\n",
       "    <tr>\n",
       "      <th>0</th>\n",
       "      <td>-0.560799</td>\n",
       "      <td>0.000000</td>\n",
       "    </tr>\n",
       "    <tr>\n",
       "      <th>1</th>\n",
       "      <td>-0.556783</td>\n",
       "      <td>0.000005</td>\n",
       "    </tr>\n",
       "    <tr>\n",
       "      <th>2</th>\n",
       "      <td>-0.552766</td>\n",
       "      <td>0.000014</td>\n",
       "    </tr>\n",
       "    <tr>\n",
       "      <th>3</th>\n",
       "      <td>-0.548750</td>\n",
       "      <td>0.000028</td>\n",
       "    </tr>\n",
       "    <tr>\n",
       "      <th>4</th>\n",
       "      <td>-0.544734</td>\n",
       "      <td>0.000052</td>\n",
       "    </tr>\n",
       "    <tr>\n",
       "      <th>...</th>\n",
       "      <td>...</td>\n",
       "      <td>...</td>\n",
       "    </tr>\n",
       "    <tr>\n",
       "      <th>195</th>\n",
       "      <td>0.222336</td>\n",
       "      <td>0.999899</td>\n",
       "    </tr>\n",
       "    <tr>\n",
       "      <th>196</th>\n",
       "      <td>0.226352</td>\n",
       "      <td>0.999939</td>\n",
       "    </tr>\n",
       "    <tr>\n",
       "      <th>197</th>\n",
       "      <td>0.230368</td>\n",
       "      <td>0.999963</td>\n",
       "    </tr>\n",
       "    <tr>\n",
       "      <th>198</th>\n",
       "      <td>0.234384</td>\n",
       "      <td>0.999977</td>\n",
       "    </tr>\n",
       "    <tr>\n",
       "      <th>199</th>\n",
       "      <td>0.238401</td>\n",
       "      <td>0.999985</td>\n",
       "    </tr>\n",
       "  </tbody>\n",
       "</table>\n",
       "<p>200 rows × 2 columns</p>\n",
       "</div>"
      ],
      "text/plain": [
       "     Left-Sided Demand Deviation  Probability\n",
       "0                      -0.560799     0.000000\n",
       "1                      -0.556783     0.000005\n",
       "2                      -0.552766     0.000014\n",
       "3                      -0.548750     0.000028\n",
       "4                      -0.544734     0.000052\n",
       "..                           ...          ...\n",
       "195                     0.222336     0.999899\n",
       "196                     0.226352     0.999939\n",
       "197                     0.230368     0.999963\n",
       "198                     0.234384     0.999977\n",
       "199                     0.238401     0.999985\n",
       "\n",
       "[200 rows x 2 columns]"
      ]
     },
     "execution_count": 52,
     "metadata": {},
     "output_type": "execute_result"
    },
    {
     "data": {
      "image/png": "[encoded data removed]",
      "text/plain": [
       "<Figure size 432x288 with 1 Axes>"
      ]
     },
     "metadata": {
      "needs_background": "light"
     },
     "output_type": "display_data"
    }
   ],
   "source": [
    "# get data from CDF\n",
    "kde_g1 = sns.kdeplot(data=g_subarchetype1_bootstraps, cumulative=True)\n",
    "\n",
    "line = kde_g1.lines[0]\n",
    "x, y = line.get_data()\n",
    "\n",
    "df_g_subarchetype1_bootstrap_probs = pd.DataFrame(\n",
    "    {\n",
    "        'Left-Sided Demand Deviation':x,\n",
    "        'Probability':y\n",
    "    }\n",
    ")\n",
    "\n",
    "df_g_subarchetype1_bootstrap_probs"
   ]
  },
  {
   "cell_type": "code",
   "execution_count": 53,
   "id": "ab31b1b7",
   "metadata": {
    "scrolled": true
   },
   "outputs": [
    {
     "data": {
      "text/html": [
       "<div>\n",
       "<style scoped>\n",
       "    .dataframe tbody tr th:only-of-type {\n",
       "        vertical-align: middle;\n",
       "    }\n",
       "\n",
       "    .dataframe tbody tr th {\n",
       "        vertical-align: top;\n",
       "    }\n",
       "\n",
       "    .dataframe thead th {\n",
       "        text-align: right;\n",
       "    }\n",
       "</style>\n",
       "<table border=\"1\" class=\"dataframe\">\n",
       "  <thead>\n",
       "    <tr style=\"text-align: right;\">\n",
       "      <th></th>\n",
       "      <th>Subarchetype</th>\n",
       "      <th>Below Rate of Return</th>\n",
       "      <th>Negative Operating Profit</th>\n",
       "      <th>40%</th>\n",
       "    </tr>\n",
       "  </thead>\n",
       "  <tbody>\n",
       "    <tr>\n",
       "      <th>0</th>\n",
       "      <td>1: Medium grid-sourced electrolytic producer: ...</td>\n",
       "      <td>0.017009</td>\n",
       "      <td>0.0</td>\n",
       "      <td>0.0</td>\n",
       "    </tr>\n",
       "    <tr>\n",
       "      <th>1</th>\n",
       "      <td>2: Medium grid-sourced electrolytic producer: ...</td>\n",
       "      <td>NaN</td>\n",
       "      <td>NaN</td>\n",
       "      <td>NaN</td>\n",
       "    </tr>\n",
       "    <tr>\n",
       "      <th>2</th>\n",
       "      <td>3: CCUS-enabled producer serving a large indus...</td>\n",
       "      <td>NaN</td>\n",
       "      <td>NaN</td>\n",
       "      <td>NaN</td>\n",
       "    </tr>\n",
       "    <tr>\n",
       "      <th>3</th>\n",
       "      <td>4: CCUS-enabled producer serving a large indus...</td>\n",
       "      <td>NaN</td>\n",
       "      <td>NaN</td>\n",
       "      <td>NaN</td>\n",
       "    </tr>\n",
       "    <tr>\n",
       "      <th>4</th>\n",
       "      <td>5: CCUS-enabled producer serving a large indus...</td>\n",
       "      <td>NaN</td>\n",
       "      <td>NaN</td>\n",
       "      <td>NaN</td>\n",
       "    </tr>\n",
       "    <tr>\n",
       "      <th>5</th>\n",
       "      <td>6: Small co-developed renewable electrolytic s...</td>\n",
       "      <td>NaN</td>\n",
       "      <td>NaN</td>\n",
       "      <td>NaN</td>\n",
       "    </tr>\n",
       "  </tbody>\n",
       "</table>\n",
       "</div>"
      ],
      "text/plain": [
       "                                        Subarchetype  Below Rate of Return  \\\n",
       "0  1: Medium grid-sourced electrolytic producer: ...              0.017009   \n",
       "1  2: Medium grid-sourced electrolytic producer: ...                   NaN   \n",
       "2  3: CCUS-enabled producer serving a large indus...                   NaN   \n",
       "3  4: CCUS-enabled producer serving a large indus...                   NaN   \n",
       "4  5: CCUS-enabled producer serving a large indus...                   NaN   \n",
       "5  6: Small co-developed renewable electrolytic s...                   NaN   \n",
       "\n",
       "   Negative Operating Profit  40%  \n",
       "0                        0.0  0.0  \n",
       "1                        NaN  NaN  \n",
       "2                        NaN  NaN  \n",
       "3                        NaN  NaN  \n",
       "4                        NaN  NaN  \n",
       "5                        NaN  NaN  "
      ]
     },
     "execution_count": 53,
     "metadata": {},
     "output_type": "execute_result"
    }
   ],
   "source": [
    "# store bootstrap_res for subarchetype 1\n",
    "\n",
    "df_subarchetype_bootstrap_res.at[0,'Below Rate of Return']=df_g_subarchetype1_bootstrap_probs.loc[\n",
    "    find_neighbours(\n",
    "        BELOW_RATE_OF_RETURN_g1,df_g_subarchetype1_bootstrap_probs,'Left-Sided Demand Deviation')[1]\n",
    "][1]\n",
    "\n",
    "try:\n",
    "    df_subarchetype_bootstrap_res.at[0,'Negative Operating Profit']=df_g_subarchetype1_bootstrap_probs.loc[\n",
    "        find_neighbours(\n",
    "            NEG_OPER_PROFIT,df_g_subarchetype1_bootstrap_probs,'Left-Sided Demand Deviation')[1]\n",
    "    ][1]\n",
    "except ValueError:\n",
    "    df_subarchetype_bootstrap_res.at[0,'Negative Operating Profit']=0\n",
    "    \n",
    "\n",
    "try:\n",
    "    df_subarchetype_bootstrap_res.at[0,'40%']=df_g_subarchetype1_bootstrap_probs.loc[\n",
    "        find_neighbours(\n",
    "            FOURTY_PERCENT_g1,df_g_subarchetype1_bootstrap_probs,'Left-Sided Demand Deviation')[1]\n",
    "    ][1]\n",
    "except ValueError:\n",
    "    df_subarchetype_bootstrap_res.at[0,'40%']=0\n",
    "    \n",
    "df_subarchetype_bootstrap_res"
   ]
  },
  {
   "cell_type": "markdown",
   "id": "03ca192d",
   "metadata": {},
   "source": [
    " ### 2) Simulate the second subarchetype: \"Medium grid-sourced electrolytic producer: Variety of end-uses\""
   ]
  },
  {
   "cell_type": "code",
   "execution_count": 54,
   "id": "e6eb009a",
   "metadata": {},
   "outputs": [
    {
     "data": {
      "text/plain": [
       "0      -0.014498\n",
       "1      -0.080958\n",
       "2       0.020281\n",
       "3       0.010725\n",
       "4       0.023605\n",
       "          ...   \n",
       "9995    0.072535\n",
       "9996   -0.037311\n",
       "9997    0.045723\n",
       "9998    0.092621\n",
       "9999   -0.066583\n",
       "Length: 10000, dtype: float64"
      ]
     },
     "execution_count": 54,
     "metadata": {},
     "output_type": "execute_result"
    },
    {
     "data": {
      "text/plain": [
       "<AxesSubplot:ylabel='Probability'>"
      ]
     },
     "execution_count": 54,
     "metadata": {},
     "output_type": "execute_result"
    },
    {
     "data": {
      "image/png": "[encoded data removed]",
      "text/plain": [
       "<Figure size 432x288 with 1 Axes>"
      ]
     },
     "metadata": {
      "needs_background": "light"
     },
     "output_type": "display_data"
    }
   ],
   "source": [
    "\n",
    "# In[ ]:\n",
    "\n",
    "\n",
    "# simulate g(X) for \"Medium grid-sourced electrolytic producer: Variety of end-uses\"\n",
    "g_subarchetype2_bootstraps = (\n",
    " df_weights[\"subarchetype2\"][0]*df_bootstraps['x1'] #weight of x1 * observations of x1\n",
    " +df_weights[\"subarchetype2\"][1]*df_bootstraps['x2'] #weight of x2 * observations of x2\n",
    " +df_weights[\"subarchetype2\"][2]*df_bootstraps['x3'] #weight of x3 * observations of x3\n",
    " +df_weights[\"subarchetype2\"][3]*df_bootstraps['x4'] #weight of x4 * observations of x4\n",
    " +df_weights[\"subarchetype2\"][4]*df_bootstraps['x5'] #weight of x5 * observations of x5\n",
    " +df_weights[\"subarchetype2\"][5]*df_bootstraps['x6'] #weight of x6 * observations of x6\n",
    ")\n",
    "\n",
    "g_subarchetype2_bootstraps\n",
    "\n",
    "\n",
    "# #### Compute the left-sided probability of g distribution, for subarchetype 2\n",
    "\n",
    "# In[ ]:\n",
    "\n",
    "\n",
    "# let's create the empirical distribution of g archetype 2\n",
    "sns.histplot(data=g_subarchetype2_bootstraps, kde=True, stat='probability')"
   ]
  },
  {
   "cell_type": "code",
   "execution_count": 55,
   "id": "27d62185",
   "metadata": {},
   "outputs": [
    {
     "data": {
      "text/plain": [
       "<AxesSubplot:ylabel='Density'>"
      ]
     },
     "execution_count": 55,
     "metadata": {},
     "output_type": "execute_result"
    },
    {
     "data": {
      "text/plain": [
       "Text(0.5, 1.0, 'Subarchetype 2 Simulated Distribution - Bootstrapped x_i')"
      ]
     },
     "execution_count": 55,
     "metadata": {},
     "output_type": "execute_result"
    },
    {
     "data": {
      "image/png": "[encoded data removed]",
      "text/plain": [
       "<Figure size 432x288 with 1 Axes>"
      ]
     },
     "metadata": {
      "needs_background": "light"
     },
     "output_type": "display_data"
    }
   ],
   "source": [
    "# instead of cutting off the distribution at the lowest empirical value, let's smooth it out\n",
    "\n",
    "sns.kdeplot(data=g_subarchetype2_bootstraps, shade = True)\n",
    "plt.title(\"Subarchetype 2 Simulated Distribution - Bootstrapped x_i\")\n",
    "\n",
    "plt.savefig('g_subarchetype2_distribution-BOOTSTRAP_UNDERLYING.png')"
   ]
  },
  {
   "cell_type": "code",
   "execution_count": 56,
   "id": "4d17a489",
   "metadata": {},
   "outputs": [
    {
     "data": {
      "text/html": [
       "<div>\n",
       "<style scoped>\n",
       "    .dataframe tbody tr th:only-of-type {\n",
       "        vertical-align: middle;\n",
       "    }\n",
       "\n",
       "    .dataframe tbody tr th {\n",
       "        vertical-align: top;\n",
       "    }\n",
       "\n",
       "    .dataframe thead th {\n",
       "        text-align: right;\n",
       "    }\n",
       "</style>\n",
       "<table border=\"1\" class=\"dataframe\">\n",
       "  <thead>\n",
       "    <tr style=\"text-align: right;\">\n",
       "      <th></th>\n",
       "      <th>Left-Sided Demand Deviation</th>\n",
       "      <th>Probability</th>\n",
       "    </tr>\n",
       "  </thead>\n",
       "  <tbody>\n",
       "    <tr>\n",
       "      <th>0</th>\n",
       "      <td>-0.592391</td>\n",
       "      <td>0.000000e+00</td>\n",
       "    </tr>\n",
       "    <tr>\n",
       "      <th>1</th>\n",
       "      <td>-0.588012</td>\n",
       "      <td>4.296605e-07</td>\n",
       "    </tr>\n",
       "    <tr>\n",
       "      <th>2</th>\n",
       "      <td>-0.583634</td>\n",
       "      <td>1.372113e-06</td>\n",
       "    </tr>\n",
       "    <tr>\n",
       "      <th>3</th>\n",
       "      <td>-0.579255</td>\n",
       "      <td>3.310221e-06</td>\n",
       "    </tr>\n",
       "    <tr>\n",
       "      <th>4</th>\n",
       "      <td>-0.574876</td>\n",
       "      <td>7.048533e-06</td>\n",
       "    </tr>\n",
       "    <tr>\n",
       "      <th>...</th>\n",
       "      <td>...</td>\n",
       "      <td>...</td>\n",
       "    </tr>\n",
       "    <tr>\n",
       "      <th>195</th>\n",
       "      <td>0.261484</td>\n",
       "      <td>9.999766e-01</td>\n",
       "    </tr>\n",
       "    <tr>\n",
       "      <th>196</th>\n",
       "      <td>0.265863</td>\n",
       "      <td>9.999884e-01</td>\n",
       "    </tr>\n",
       "    <tr>\n",
       "      <th>197</th>\n",
       "      <td>0.270242</td>\n",
       "      <td>9.999945e-01</td>\n",
       "    </tr>\n",
       "    <tr>\n",
       "      <th>198</th>\n",
       "      <td>0.274621</td>\n",
       "      <td>9.999974e-01</td>\n",
       "    </tr>\n",
       "    <tr>\n",
       "      <th>199</th>\n",
       "      <td>0.278999</td>\n",
       "      <td>9.999988e-01</td>\n",
       "    </tr>\n",
       "  </tbody>\n",
       "</table>\n",
       "<p>200 rows × 2 columns</p>\n",
       "</div>"
      ],
      "text/plain": [
       "     Left-Sided Demand Deviation   Probability\n",
       "0                      -0.592391  0.000000e+00\n",
       "1                      -0.588012  4.296605e-07\n",
       "2                      -0.583634  1.372113e-06\n",
       "3                      -0.579255  3.310221e-06\n",
       "4                      -0.574876  7.048533e-06\n",
       "..                           ...           ...\n",
       "195                     0.261484  9.999766e-01\n",
       "196                     0.265863  9.999884e-01\n",
       "197                     0.270242  9.999945e-01\n",
       "198                     0.274621  9.999974e-01\n",
       "199                     0.278999  9.999988e-01\n",
       "\n",
       "[200 rows x 2 columns]"
      ]
     },
     "execution_count": 56,
     "metadata": {},
     "output_type": "execute_result"
    },
    {
     "data": {
      "image/png": "[encoded data removed]",
      "text/plain": [
       "<Figure size 432x288 with 1 Axes>"
      ]
     },
     "metadata": {
      "needs_background": "light"
     },
     "output_type": "display_data"
    }
   ],
   "source": [
    "# get data from CDF\n",
    "kde_g2 = sns.kdeplot(data=g_subarchetype2_bootstraps, cumulative=True)\n",
    "\n",
    "line = kde_g2.lines[0]\n",
    "x, y = line.get_data()\n",
    "\n",
    "df_g_subarchetype2_bootstrap_probs = pd.DataFrame(\n",
    "    {\n",
    "        'Left-Sided Demand Deviation':x,\n",
    "        'Probability':y\n",
    "    }\n",
    ")\n",
    "\n",
    "df_g_subarchetype2_bootstrap_probs"
   ]
  },
  {
   "cell_type": "code",
   "execution_count": 57,
   "id": "5001cc83",
   "metadata": {
    "scrolled": true
   },
   "outputs": [
    {
     "data": {
      "text/html": [
       "<div>\n",
       "<style scoped>\n",
       "    .dataframe tbody tr th:only-of-type {\n",
       "        vertical-align: middle;\n",
       "    }\n",
       "\n",
       "    .dataframe tbody tr th {\n",
       "        vertical-align: top;\n",
       "    }\n",
       "\n",
       "    .dataframe thead th {\n",
       "        text-align: right;\n",
       "    }\n",
       "</style>\n",
       "<table border=\"1\" class=\"dataframe\">\n",
       "  <thead>\n",
       "    <tr style=\"text-align: right;\">\n",
       "      <th></th>\n",
       "      <th>Subarchetype</th>\n",
       "      <th>Below Rate of Return</th>\n",
       "      <th>Negative Operating Profit</th>\n",
       "      <th>40%</th>\n",
       "    </tr>\n",
       "  </thead>\n",
       "  <tbody>\n",
       "    <tr>\n",
       "      <th>0</th>\n",
       "      <td>1: Medium grid-sourced electrolytic producer: ...</td>\n",
       "      <td>0.017009</td>\n",
       "      <td>0.0</td>\n",
       "      <td>0.0</td>\n",
       "    </tr>\n",
       "    <tr>\n",
       "      <th>1</th>\n",
       "      <td>2: Medium grid-sourced electrolytic producer: ...</td>\n",
       "      <td>0.001902</td>\n",
       "      <td>0.0</td>\n",
       "      <td>0.0</td>\n",
       "    </tr>\n",
       "    <tr>\n",
       "      <th>2</th>\n",
       "      <td>3: CCUS-enabled producer serving a large indus...</td>\n",
       "      <td>NaN</td>\n",
       "      <td>NaN</td>\n",
       "      <td>NaN</td>\n",
       "    </tr>\n",
       "    <tr>\n",
       "      <th>3</th>\n",
       "      <td>4: CCUS-enabled producer serving a large indus...</td>\n",
       "      <td>NaN</td>\n",
       "      <td>NaN</td>\n",
       "      <td>NaN</td>\n",
       "    </tr>\n",
       "    <tr>\n",
       "      <th>4</th>\n",
       "      <td>5: CCUS-enabled producer serving a large indus...</td>\n",
       "      <td>NaN</td>\n",
       "      <td>NaN</td>\n",
       "      <td>NaN</td>\n",
       "    </tr>\n",
       "    <tr>\n",
       "      <th>5</th>\n",
       "      <td>6: Small co-developed renewable electrolytic s...</td>\n",
       "      <td>NaN</td>\n",
       "      <td>NaN</td>\n",
       "      <td>NaN</td>\n",
       "    </tr>\n",
       "  </tbody>\n",
       "</table>\n",
       "</div>"
      ],
      "text/plain": [
       "                                        Subarchetype  Below Rate of Return  \\\n",
       "0  1: Medium grid-sourced electrolytic producer: ...              0.017009   \n",
       "1  2: Medium grid-sourced electrolytic producer: ...              0.001902   \n",
       "2  3: CCUS-enabled producer serving a large indus...                   NaN   \n",
       "3  4: CCUS-enabled producer serving a large indus...                   NaN   \n",
       "4  5: CCUS-enabled producer serving a large indus...                   NaN   \n",
       "5  6: Small co-developed renewable electrolytic s...                   NaN   \n",
       "\n",
       "   Negative Operating Profit  40%  \n",
       "0                        0.0  0.0  \n",
       "1                        0.0  0.0  \n",
       "2                        NaN  NaN  \n",
       "3                        NaN  NaN  \n",
       "4                        NaN  NaN  \n",
       "5                        NaN  NaN  "
      ]
     },
     "execution_count": 57,
     "metadata": {},
     "output_type": "execute_result"
    }
   ],
   "source": [
    "# store bootstrap_res for subarchetype 2\n",
    "\n",
    "df_subarchetype_bootstrap_res.at[1,'Below Rate of Return']=df_g_subarchetype2_bootstrap_probs.loc[\n",
    "    find_neighbours(\n",
    "        BELOW_RATE_OF_RETURN_g2,df_g_subarchetype2_bootstrap_probs,'Left-Sided Demand Deviation')[1]\n",
    "][1]\n",
    "\n",
    "try:\n",
    "    df_subarchetype_bootstrap_res.at[1,'Negative Operating Profit']=df_g_subarchetype2_bootstrap_probs.loc[\n",
    "        find_neighbours(\n",
    "            NEG_OPER_PROFIT,df_g_subarchetype2_bootstrap_probs,'Left-Sided Demand Deviation')[1]\n",
    "    ][1]\n",
    "    \n",
    "except ValueError:\n",
    "    df_subarchetype_bootstrap_res.at[1,'Negative Operating Profit']=0\n",
    "    \n",
    "    \n",
    "    \n",
    "try:\n",
    "    df_subarchetype_bootstrap_res.at[1,'40%']=df_g_subarchetype2_bootstrap_probs.loc[\n",
    "        find_neighbours(\n",
    "            FOURTY_PERCENT_g2,df_g_subarchetype2_bootstrap_probs,'Left-Sided Demand Deviation')[1]\n",
    "    ][1]\n",
    "    \n",
    "except ValueError:\n",
    "    df_subarchetype_bootstrap_res.at[1,'40%']=0\n",
    "\n",
    "\n",
    "df_subarchetype_bootstrap_res\n"
   ]
  },
  {
   "cell_type": "markdown",
   "id": "5c5d3b39",
   "metadata": {},
   "source": [
    "### 3) Simulate the third subarchetype: \"CCUS-enabled producer serving a large industrial cluster: Primary off-taker\""
   ]
  },
  {
   "cell_type": "code",
   "execution_count": 58,
   "id": "289a6da2",
   "metadata": {},
   "outputs": [
    {
     "data": {
      "text/plain": [
       "0       0.201095\n",
       "1       0.116758\n",
       "2       0.091836\n",
       "3       0.079899\n",
       "4      -0.049675\n",
       "          ...   \n",
       "9995   -0.005204\n",
       "9996    0.066293\n",
       "9997   -0.373513\n",
       "9998    0.083452\n",
       "9999    0.152615\n",
       "Length: 10000, dtype: float64"
      ]
     },
     "execution_count": 58,
     "metadata": {},
     "output_type": "execute_result"
    },
    {
     "data": {
      "text/plain": [
       "<AxesSubplot:ylabel='Probability'>"
      ]
     },
     "execution_count": 58,
     "metadata": {},
     "output_type": "execute_result"
    },
    {
     "data": {
      "image/png": "[encoded data removed]",
      "text/plain": [
       "<Figure size 432x288 with 1 Axes>"
      ]
     },
     "metadata": {
      "needs_background": "light"
     },
     "output_type": "display_data"
    }
   ],
   "source": [
    "\n",
    "\n",
    "# In[ ]:\n",
    "\n",
    "\n",
    "# simulate g(X) for \"CCUS-enabled producer serving a large industrial cluster: Primary off-taker\"\n",
    "g_subarchetype3_bootstraps = (\n",
    " df_weights[\"subarchetype3\"][0]*df_bootstraps['x1'] #weight of x1 * observations of x1\n",
    " +df_weights[\"subarchetype3\"][1]*df_bootstraps['x2'] #weight of x2 * observations of x2\n",
    " +df_weights[\"subarchetype3\"][2]*df_bootstraps['x3'] #weight of x3 * observations of x3\n",
    " +df_weights[\"subarchetype3\"][3]*df_bootstraps['x4'] #weight of x4 * observations of x4\n",
    " +df_weights[\"subarchetype3\"][4]*df_bootstraps['x5'] #weight of x5 * observations of x5\n",
    " +df_weights[\"subarchetype3\"][5]*df_bootstraps['x6'] #weight of x6 * observations of x6\n",
    ")\n",
    "\n",
    "g_subarchetype3_bootstraps\n",
    "\n",
    "# #### Compute the left-sided probability of g distribution, for subarchetype 3\n",
    "\n",
    "# In[ ]:\n",
    "\n",
    "\n",
    "# let's create the empirical distribution of g archetype 3\n",
    "sns.histplot(data=g_subarchetype3_bootstraps, kde=True, stat='probability')"
   ]
  },
  {
   "cell_type": "code",
   "execution_count": 59,
   "id": "49d85a0a",
   "metadata": {},
   "outputs": [
    {
     "data": {
      "text/plain": [
       "<AxesSubplot:ylabel='Density'>"
      ]
     },
     "execution_count": 59,
     "metadata": {},
     "output_type": "execute_result"
    },
    {
     "data": {
      "text/plain": [
       "Text(0.5, 1.0, 'Subarchetype 3 Simulated Distribution - Bootstrapped x_i')"
      ]
     },
     "execution_count": 59,
     "metadata": {},
     "output_type": "execute_result"
    },
    {
     "data": {
      "image/png": "[encoded data removed]",
      "text/plain": [
       "<Figure size 432x288 with 1 Axes>"
      ]
     },
     "metadata": {
      "needs_background": "light"
     },
     "output_type": "display_data"
    }
   ],
   "source": [
    "# instead of cutting off the distribution at the lowest empirical value, let's smooth it out\n",
    "\n",
    "sns.kdeplot(data=g_subarchetype3_bootstraps, shade = True)\n",
    "plt.title(\"Subarchetype 3 Simulated Distribution - Bootstrapped x_i\")\n",
    "\n",
    "plt.savefig('g_subarchetype3_distribution-BOOTSTRAP_UNDERLYING.png')"
   ]
  },
  {
   "cell_type": "code",
   "execution_count": 60,
   "id": "e36ec34d",
   "metadata": {},
   "outputs": [
    {
     "data": {
      "text/html": [
       "<div>\n",
       "<style scoped>\n",
       "    .dataframe tbody tr th:only-of-type {\n",
       "        vertical-align: middle;\n",
       "    }\n",
       "\n",
       "    .dataframe tbody tr th {\n",
       "        vertical-align: top;\n",
       "    }\n",
       "\n",
       "    .dataframe thead th {\n",
       "        text-align: right;\n",
       "    }\n",
       "</style>\n",
       "<table border=\"1\" class=\"dataframe\">\n",
       "  <thead>\n",
       "    <tr style=\"text-align: right;\">\n",
       "      <th></th>\n",
       "      <th>Left-Sided Demand Deviation</th>\n",
       "      <th>Probability</th>\n",
       "    </tr>\n",
       "  </thead>\n",
       "  <tbody>\n",
       "    <tr>\n",
       "      <th>0</th>\n",
       "      <td>-0.824684</td>\n",
       "      <td>0.000000</td>\n",
       "    </tr>\n",
       "    <tr>\n",
       "      <th>1</th>\n",
       "      <td>-0.818729</td>\n",
       "      <td>0.000001</td>\n",
       "    </tr>\n",
       "    <tr>\n",
       "      <th>2</th>\n",
       "      <td>-0.812775</td>\n",
       "      <td>0.000003</td>\n",
       "    </tr>\n",
       "    <tr>\n",
       "      <th>3</th>\n",
       "      <td>-0.806820</td>\n",
       "      <td>0.000006</td>\n",
       "    </tr>\n",
       "    <tr>\n",
       "      <th>4</th>\n",
       "      <td>-0.800865</td>\n",
       "      <td>0.000011</td>\n",
       "    </tr>\n",
       "    <tr>\n",
       "      <th>...</th>\n",
       "      <td>...</td>\n",
       "      <td>...</td>\n",
       "    </tr>\n",
       "    <tr>\n",
       "      <th>195</th>\n",
       "      <td>0.336523</td>\n",
       "      <td>0.999960</td>\n",
       "    </tr>\n",
       "    <tr>\n",
       "      <th>196</th>\n",
       "      <td>0.342477</td>\n",
       "      <td>0.999977</td>\n",
       "    </tr>\n",
       "    <tr>\n",
       "      <th>197</th>\n",
       "      <td>0.348432</td>\n",
       "      <td>0.999987</td>\n",
       "    </tr>\n",
       "    <tr>\n",
       "      <th>198</th>\n",
       "      <td>0.354387</td>\n",
       "      <td>0.999993</td>\n",
       "    </tr>\n",
       "    <tr>\n",
       "      <th>199</th>\n",
       "      <td>0.360342</td>\n",
       "      <td>0.999996</td>\n",
       "    </tr>\n",
       "  </tbody>\n",
       "</table>\n",
       "<p>200 rows × 2 columns</p>\n",
       "</div>"
      ],
      "text/plain": [
       "     Left-Sided Demand Deviation  Probability\n",
       "0                      -0.824684     0.000000\n",
       "1                      -0.818729     0.000001\n",
       "2                      -0.812775     0.000003\n",
       "3                      -0.806820     0.000006\n",
       "4                      -0.800865     0.000011\n",
       "..                           ...          ...\n",
       "195                     0.336523     0.999960\n",
       "196                     0.342477     0.999977\n",
       "197                     0.348432     0.999987\n",
       "198                     0.354387     0.999993\n",
       "199                     0.360342     0.999996\n",
       "\n",
       "[200 rows x 2 columns]"
      ]
     },
     "execution_count": 60,
     "metadata": {},
     "output_type": "execute_result"
    },
    {
     "data": {
      "image/png": "[encoded data removed]",
      "text/plain": [
       "<Figure size 432x288 with 1 Axes>"
      ]
     },
     "metadata": {
      "needs_background": "light"
     },
     "output_type": "display_data"
    }
   ],
   "source": [
    "# get data from CDF\n",
    "kde_g3 = sns.kdeplot(data=g_subarchetype3_bootstraps, cumulative=True)\n",
    "\n",
    "line = kde_g3.lines[0]\n",
    "x, y = line.get_data()\n",
    "\n",
    "df_g_subarchetype3_bootstrap_probs = pd.DataFrame(\n",
    "    {\n",
    "        'Left-Sided Demand Deviation':x,\n",
    "        'Probability':y\n",
    "    }\n",
    ")\n",
    "\n",
    "df_g_subarchetype3_bootstrap_probs"
   ]
  },
  {
   "cell_type": "code",
   "execution_count": 61,
   "id": "6ce3b1e1",
   "metadata": {
    "scrolled": true
   },
   "outputs": [
    {
     "data": {
      "text/html": [
       "<div>\n",
       "<style scoped>\n",
       "    .dataframe tbody tr th:only-of-type {\n",
       "        vertical-align: middle;\n",
       "    }\n",
       "\n",
       "    .dataframe tbody tr th {\n",
       "        vertical-align: top;\n",
       "    }\n",
       "\n",
       "    .dataframe thead th {\n",
       "        text-align: right;\n",
       "    }\n",
       "</style>\n",
       "<table border=\"1\" class=\"dataframe\">\n",
       "  <thead>\n",
       "    <tr style=\"text-align: right;\">\n",
       "      <th></th>\n",
       "      <th>Subarchetype</th>\n",
       "      <th>Below Rate of Return</th>\n",
       "      <th>Negative Operating Profit</th>\n",
       "      <th>40%</th>\n",
       "    </tr>\n",
       "  </thead>\n",
       "  <tbody>\n",
       "    <tr>\n",
       "      <th>0</th>\n",
       "      <td>1: Medium grid-sourced electrolytic producer: ...</td>\n",
       "      <td>0.017009</td>\n",
       "      <td>0.0</td>\n",
       "      <td>0.000000</td>\n",
       "    </tr>\n",
       "    <tr>\n",
       "      <th>1</th>\n",
       "      <td>2: Medium grid-sourced electrolytic producer: ...</td>\n",
       "      <td>0.001902</td>\n",
       "      <td>0.0</td>\n",
       "      <td>0.000000</td>\n",
       "    </tr>\n",
       "    <tr>\n",
       "      <th>2</th>\n",
       "      <td>3: CCUS-enabled producer serving a large indus...</td>\n",
       "      <td>0.081694</td>\n",
       "      <td>0.0</td>\n",
       "      <td>0.000102</td>\n",
       "    </tr>\n",
       "    <tr>\n",
       "      <th>3</th>\n",
       "      <td>4: CCUS-enabled producer serving a large indus...</td>\n",
       "      <td>NaN</td>\n",
       "      <td>NaN</td>\n",
       "      <td>NaN</td>\n",
       "    </tr>\n",
       "    <tr>\n",
       "      <th>4</th>\n",
       "      <td>5: CCUS-enabled producer serving a large indus...</td>\n",
       "      <td>NaN</td>\n",
       "      <td>NaN</td>\n",
       "      <td>NaN</td>\n",
       "    </tr>\n",
       "    <tr>\n",
       "      <th>5</th>\n",
       "      <td>6: Small co-developed renewable electrolytic s...</td>\n",
       "      <td>NaN</td>\n",
       "      <td>NaN</td>\n",
       "      <td>NaN</td>\n",
       "    </tr>\n",
       "  </tbody>\n",
       "</table>\n",
       "</div>"
      ],
      "text/plain": [
       "                                        Subarchetype  Below Rate of Return  \\\n",
       "0  1: Medium grid-sourced electrolytic producer: ...              0.017009   \n",
       "1  2: Medium grid-sourced electrolytic producer: ...              0.001902   \n",
       "2  3: CCUS-enabled producer serving a large indus...              0.081694   \n",
       "3  4: CCUS-enabled producer serving a large indus...                   NaN   \n",
       "4  5: CCUS-enabled producer serving a large indus...                   NaN   \n",
       "5  6: Small co-developed renewable electrolytic s...                   NaN   \n",
       "\n",
       "   Negative Operating Profit       40%  \n",
       "0                        0.0  0.000000  \n",
       "1                        0.0  0.000000  \n",
       "2                        0.0  0.000102  \n",
       "3                        NaN       NaN  \n",
       "4                        NaN       NaN  \n",
       "5                        NaN       NaN  "
      ]
     },
     "execution_count": 61,
     "metadata": {},
     "output_type": "execute_result"
    }
   ],
   "source": [
    "\n",
    "# store bootstrap_res for subarchetype 3\n",
    "\n",
    "df_subarchetype_bootstrap_res.at[2,'Below Rate of Return']=df_g_subarchetype3_bootstrap_probs.loc[\n",
    "    find_neighbours(\n",
    "        BELOW_RATE_OF_RETURN_g3,df_g_subarchetype3_bootstrap_probs,'Left-Sided Demand Deviation')[1]\n",
    "][1]\n",
    "\n",
    "try:\n",
    "    df_subarchetype_bootstrap_res.at[2,'Negative Operating Profit']=df_g_subarchetype3_bootstrap_probs.loc[\n",
    "        find_neighbours(\n",
    "            NEG_OPER_PROFIT,df_g_subarchetype3_bootstrap_probs,'Left-Sided Demand Deviation')[1]\n",
    "    ][1]\n",
    "except ValueError:\n",
    "    df_subarchetype_bootstrap_res.at[2,'Negative Operating Profit']=0\n",
    "\n",
    "    \n",
    "try:\n",
    "    df_subarchetype_bootstrap_res.at[2,'40%']=df_g_subarchetype3_bootstrap_probs.loc[\n",
    "        find_neighbours(\n",
    "            FOURTY_PERCENT_g3,df_g_subarchetype3_bootstrap_probs,'Left-Sided Demand Deviation')[1]\n",
    "    ][1]\n",
    "except ValueError:\n",
    "    df_subarchetype_bootstrap_res.at[2,'40%']=0    \n",
    "    \n",
    "    \n",
    "df_subarchetype_bootstrap_res"
   ]
  },
  {
   "cell_type": "markdown",
   "id": "62cf5b56",
   "metadata": {},
   "source": [
    "### 4) Simulate the fourth subarchetype: \"CCUS-enabled producer serving a large industrial cluster: Industry-specific mix\""
   ]
  },
  {
   "cell_type": "code",
   "execution_count": 62,
   "id": "f1ac9f8d",
   "metadata": {},
   "outputs": [
    {
     "data": {
      "text/plain": [
       "0       0.072305\n",
       "1       0.092792\n",
       "2       0.117267\n",
       "3      -0.009918\n",
       "4      -0.023385\n",
       "          ...   \n",
       "9995    0.046541\n",
       "9996   -0.018395\n",
       "9997   -0.068556\n",
       "9998    0.130160\n",
       "9999    0.136260\n",
       "Length: 10000, dtype: float64"
      ]
     },
     "execution_count": 62,
     "metadata": {},
     "output_type": "execute_result"
    },
    {
     "data": {
      "text/plain": [
       "<AxesSubplot:ylabel='Probability'>"
      ]
     },
     "execution_count": 62,
     "metadata": {},
     "output_type": "execute_result"
    },
    {
     "data": {
      "image/png": "[encoded data removed]",
      "text/plain": [
       "<Figure size 432x288 with 1 Axes>"
      ]
     },
     "metadata": {
      "needs_background": "light"
     },
     "output_type": "display_data"
    }
   ],
   "source": [
    "\n",
    "\n",
    "# simulate g(X) for \"CCUS-enabled producer serving a large industrial cluster: Industry-specific mix\"\n",
    "g_subarchetype4_bootstraps = (\n",
    " df_weights[\"subarchetype4\"][0]*df_bootstraps['x1'] #weight of x1 * observations of x1\n",
    " +df_weights[\"subarchetype4\"][1]*df_bootstraps['x2'] #weight of x2 * observations of x2\n",
    " +df_weights[\"subarchetype4\"][2]*df_bootstraps['x3'] #weight of x3 * observations of x3\n",
    " +df_weights[\"subarchetype4\"][3]*df_bootstraps['x4'] #weight of x4 * observations of x4\n",
    " +df_weights[\"subarchetype4\"][4]*df_bootstraps['x5'] #weight of x5 * observations of x5\n",
    " +df_weights[\"subarchetype4\"][5]*df_bootstraps['x6'] #weight of x6 * observations of x6\n",
    ")\n",
    "\n",
    "g_subarchetype4_bootstraps\n",
    "\n",
    "\n",
    "# #### Compute the left-sided probability of g distribution, for subarchetype 4\n",
    "\n",
    "# In[ ]:\n",
    "\n",
    "\n",
    "# let's create the empirical distribution of g archetype 4\n",
    "sns.histplot(data=g_subarchetype4_bootstraps, kde=True, stat='probability')"
   ]
  },
  {
   "cell_type": "code",
   "execution_count": 63,
   "id": "d0a12863",
   "metadata": {},
   "outputs": [
    {
     "data": {
      "text/plain": [
       "<AxesSubplot:ylabel='Density'>"
      ]
     },
     "execution_count": 63,
     "metadata": {},
     "output_type": "execute_result"
    },
    {
     "data": {
      "text/plain": [
       "Text(0.5, 1.0, 'Subarchetype 4 Simulated Distribution - Bootstrapped x_i')"
      ]
     },
     "execution_count": 63,
     "metadata": {},
     "output_type": "execute_result"
    },
    {
     "data": {
      "image/png": "[encoded data removed]",
      "text/plain": [
       "<Figure size 432x288 with 1 Axes>"
      ]
     },
     "metadata": {
      "needs_background": "light"
     },
     "output_type": "display_data"
    }
   ],
   "source": [
    "# instead of cutting off the distribution at the lowest empirical value, let's smooth it out\n",
    "\n",
    "sns.kdeplot(data=g_subarchetype4_bootstraps, shade = True)\n",
    "plt.title(\"Subarchetype 4 Simulated Distribution - Bootstrapped x_i\")\n",
    "\n",
    "plt.savefig('g_subarchetype4_distribution-BOOTSTRAP_UNDERLYING.png')"
   ]
  },
  {
   "cell_type": "code",
   "execution_count": 64,
   "id": "a7905650",
   "metadata": {},
   "outputs": [
    {
     "data": {
      "text/html": [
       "<div>\n",
       "<style scoped>\n",
       "    .dataframe tbody tr th:only-of-type {\n",
       "        vertical-align: middle;\n",
       "    }\n",
       "\n",
       "    .dataframe tbody tr th {\n",
       "        vertical-align: top;\n",
       "    }\n",
       "\n",
       "    .dataframe thead th {\n",
       "        text-align: right;\n",
       "    }\n",
       "</style>\n",
       "<table border=\"1\" class=\"dataframe\">\n",
       "  <thead>\n",
       "    <tr style=\"text-align: right;\">\n",
       "      <th></th>\n",
       "      <th>Left-Sided Demand Deviation</th>\n",
       "      <th>Probability</th>\n",
       "    </tr>\n",
       "  </thead>\n",
       "  <tbody>\n",
       "    <tr>\n",
       "      <th>0</th>\n",
       "      <td>-0.525285</td>\n",
       "      <td>0.000000</td>\n",
       "    </tr>\n",
       "    <tr>\n",
       "      <th>1</th>\n",
       "      <td>-0.521143</td>\n",
       "      <td>0.000001</td>\n",
       "    </tr>\n",
       "    <tr>\n",
       "      <th>2</th>\n",
       "      <td>-0.517001</td>\n",
       "      <td>0.000004</td>\n",
       "    </tr>\n",
       "    <tr>\n",
       "      <th>3</th>\n",
       "      <td>-0.512858</td>\n",
       "      <td>0.000008</td>\n",
       "    </tr>\n",
       "    <tr>\n",
       "      <th>4</th>\n",
       "      <td>-0.508716</td>\n",
       "      <td>0.000015</td>\n",
       "    </tr>\n",
       "    <tr>\n",
       "      <th>...</th>\n",
       "      <td>...</td>\n",
       "      <td>...</td>\n",
       "    </tr>\n",
       "    <tr>\n",
       "      <th>195</th>\n",
       "      <td>0.282489</td>\n",
       "      <td>0.999947</td>\n",
       "    </tr>\n",
       "    <tr>\n",
       "      <th>196</th>\n",
       "      <td>0.286632</td>\n",
       "      <td>0.999971</td>\n",
       "    </tr>\n",
       "    <tr>\n",
       "      <th>197</th>\n",
       "      <td>0.290774</td>\n",
       "      <td>0.999985</td>\n",
       "    </tr>\n",
       "    <tr>\n",
       "      <th>198</th>\n",
       "      <td>0.294916</td>\n",
       "      <td>0.999992</td>\n",
       "    </tr>\n",
       "    <tr>\n",
       "      <th>199</th>\n",
       "      <td>0.299059</td>\n",
       "      <td>0.999996</td>\n",
       "    </tr>\n",
       "  </tbody>\n",
       "</table>\n",
       "<p>200 rows × 2 columns</p>\n",
       "</div>"
      ],
      "text/plain": [
       "     Left-Sided Demand Deviation  Probability\n",
       "0                      -0.525285     0.000000\n",
       "1                      -0.521143     0.000001\n",
       "2                      -0.517001     0.000004\n",
       "3                      -0.512858     0.000008\n",
       "4                      -0.508716     0.000015\n",
       "..                           ...          ...\n",
       "195                     0.282489     0.999947\n",
       "196                     0.286632     0.999971\n",
       "197                     0.290774     0.999985\n",
       "198                     0.294916     0.999992\n",
       "199                     0.299059     0.999996\n",
       "\n",
       "[200 rows x 2 columns]"
      ]
     },
     "execution_count": 64,
     "metadata": {},
     "output_type": "execute_result"
    },
    {
     "data": {
      "image/png": "[encoded data removed]",
      "text/plain": [
       "<Figure size 432x288 with 1 Axes>"
      ]
     },
     "metadata": {
      "needs_background": "light"
     },
     "output_type": "display_data"
    }
   ],
   "source": [
    "# get data from CDF\n",
    "kde_g4 = sns.kdeplot(data=g_subarchetype4_bootstraps, cumulative=True)\n",
    "\n",
    "line = kde_g4.lines[0]\n",
    "x, y = line.get_data()\n",
    "\n",
    "df_g_subarchetype4_bootstrap_probs = pd.DataFrame(\n",
    "    {\n",
    "        'Left-Sided Demand Deviation':x,\n",
    "        'Probability':y\n",
    "    }\n",
    ")\n",
    "\n",
    "df_g_subarchetype4_bootstrap_probs"
   ]
  },
  {
   "cell_type": "code",
   "execution_count": 65,
   "id": "5cdd5648",
   "metadata": {},
   "outputs": [
    {
     "data": {
      "text/html": [
       "<div>\n",
       "<style scoped>\n",
       "    .dataframe tbody tr th:only-of-type {\n",
       "        vertical-align: middle;\n",
       "    }\n",
       "\n",
       "    .dataframe tbody tr th {\n",
       "        vertical-align: top;\n",
       "    }\n",
       "\n",
       "    .dataframe thead th {\n",
       "        text-align: right;\n",
       "    }\n",
       "</style>\n",
       "<table border=\"1\" class=\"dataframe\">\n",
       "  <thead>\n",
       "    <tr style=\"text-align: right;\">\n",
       "      <th></th>\n",
       "      <th>Subarchetype</th>\n",
       "      <th>Below Rate of Return</th>\n",
       "      <th>Negative Operating Profit</th>\n",
       "      <th>40%</th>\n",
       "    </tr>\n",
       "  </thead>\n",
       "  <tbody>\n",
       "    <tr>\n",
       "      <th>0</th>\n",
       "      <td>1: Medium grid-sourced electrolytic producer: ...</td>\n",
       "      <td>0.017009</td>\n",
       "      <td>0.0</td>\n",
       "      <td>0.000000</td>\n",
       "    </tr>\n",
       "    <tr>\n",
       "      <th>1</th>\n",
       "      <td>2: Medium grid-sourced electrolytic producer: ...</td>\n",
       "      <td>0.001902</td>\n",
       "      <td>0.0</td>\n",
       "      <td>0.000000</td>\n",
       "    </tr>\n",
       "    <tr>\n",
       "      <th>2</th>\n",
       "      <td>3: CCUS-enabled producer serving a large indus...</td>\n",
       "      <td>0.081694</td>\n",
       "      <td>0.0</td>\n",
       "      <td>0.000102</td>\n",
       "    </tr>\n",
       "    <tr>\n",
       "      <th>3</th>\n",
       "      <td>4: CCUS-enabled producer serving a large indus...</td>\n",
       "      <td>0.004065</td>\n",
       "      <td>0.0</td>\n",
       "      <td>0.000000</td>\n",
       "    </tr>\n",
       "    <tr>\n",
       "      <th>4</th>\n",
       "      <td>5: CCUS-enabled producer serving a large indus...</td>\n",
       "      <td>NaN</td>\n",
       "      <td>NaN</td>\n",
       "      <td>NaN</td>\n",
       "    </tr>\n",
       "    <tr>\n",
       "      <th>5</th>\n",
       "      <td>6: Small co-developed renewable electrolytic s...</td>\n",
       "      <td>NaN</td>\n",
       "      <td>NaN</td>\n",
       "      <td>NaN</td>\n",
       "    </tr>\n",
       "  </tbody>\n",
       "</table>\n",
       "</div>"
      ],
      "text/plain": [
       "                                        Subarchetype  Below Rate of Return  \\\n",
       "0  1: Medium grid-sourced electrolytic producer: ...              0.017009   \n",
       "1  2: Medium grid-sourced electrolytic producer: ...              0.001902   \n",
       "2  3: CCUS-enabled producer serving a large indus...              0.081694   \n",
       "3  4: CCUS-enabled producer serving a large indus...              0.004065   \n",
       "4  5: CCUS-enabled producer serving a large indus...                   NaN   \n",
       "5  6: Small co-developed renewable electrolytic s...                   NaN   \n",
       "\n",
       "   Negative Operating Profit       40%  \n",
       "0                        0.0  0.000000  \n",
       "1                        0.0  0.000000  \n",
       "2                        0.0  0.000102  \n",
       "3                        0.0  0.000000  \n",
       "4                        NaN       NaN  \n",
       "5                        NaN       NaN  "
      ]
     },
     "execution_count": 65,
     "metadata": {},
     "output_type": "execute_result"
    }
   ],
   "source": [
    "\n",
    "# store bootstrap_res for subarchetype 4\n",
    "\n",
    "df_subarchetype_bootstrap_res.at[3,'Below Rate of Return']=df_g_subarchetype4_bootstrap_probs.loc[\n",
    "    find_neighbours(\n",
    "        BELOW_RATE_OF_RETURN_g4,df_g_subarchetype4_bootstrap_probs,'Left-Sided Demand Deviation')[1]\n",
    "][1]\n",
    "\n",
    "# if 0 probability, there will be an error. If so, then manually set probability to 0\n",
    "try:\n",
    "    df_subarchetype_bootstrap_res.at[3,'Negative Operating Profit']=df_g_subarchetype4_bootstrap_probs.loc[\n",
    "    find_neighbours(\n",
    "        NEG_OPER_PROFIT,df_g_subarchetype4_bootstrap_probs,'Left-Sided Demand Deviation')[1]\n",
    "][1]\n",
    "\n",
    "except ValueError:\n",
    "    df_subarchetype_bootstrap_res.at[3,'Negative Operating Profit']=0\n",
    "    \n",
    "    \n",
    "try:\n",
    "    df_subarchetype_bootstrap_res.at[3,'40%']=df_g_subarchetype4_bootstrap_probs.loc[\n",
    "    find_neighbours(\n",
    "        FOURTY_PERCENT_g4,df_g_subarchetype4_bootstrap_probs,'Left-Sided Demand Deviation')[1]\n",
    "][1]\n",
    "\n",
    "except ValueError:\n",
    "    df_subarchetype_bootstrap_res.at[3,'40%']=0    \n",
    "    \n",
    "    \n",
    "df_subarchetype_bootstrap_res"
   ]
  },
  {
   "cell_type": "markdown",
   "id": "89a45088",
   "metadata": {},
   "source": [
    "### 5) Simulate the fifth subarchetype: \"CCUS-enabled producer serving a large industrial cluster: Many off-takers\""
   ]
  },
  {
   "cell_type": "code",
   "execution_count": 66,
   "id": "022b8bdd",
   "metadata": {},
   "outputs": [
    {
     "data": {
      "text/plain": [
       "0       0.047485\n",
       "1       0.007645\n",
       "2       0.029276\n",
       "3       0.033159\n",
       "4      -0.001958\n",
       "          ...   \n",
       "9995    0.068904\n",
       "9996   -0.005233\n",
       "9997   -0.024203\n",
       "9998    0.100858\n",
       "9999   -0.031480\n",
       "Length: 10000, dtype: float64"
      ]
     },
     "execution_count": 66,
     "metadata": {},
     "output_type": "execute_result"
    },
    {
     "data": {
      "text/plain": [
       "<AxesSubplot:ylabel='Probability'>"
      ]
     },
     "execution_count": 66,
     "metadata": {},
     "output_type": "execute_result"
    },
    {
     "data": {
      "image/png": "[encoded data removed]",
      "text/plain": [
       "<Figure size 432x288 with 1 Axes>"
      ]
     },
     "metadata": {
      "needs_background": "light"
     },
     "output_type": "display_data"
    }
   ],
   "source": [
    "\n",
    "# simulate g(X) for \"CCUS-enabled producer serving a large industrial cluster: Many off-takers\"\n",
    "g_subarchetype5_bootstraps = (\n",
    " df_weights[\"subarchetype5\"][0]*df_bootstraps['x1'] #weight of x1 * observations of x1\n",
    " +df_weights[\"subarchetype5\"][1]*df_bootstraps['x2'] #weight of x2 * observations of x2\n",
    " +df_weights[\"subarchetype5\"][2]*df_bootstraps['x3'] #weight of x3 * observations of x3\n",
    " +df_weights[\"subarchetype5\"][3]*df_bootstraps['x4'] #weight of x4 * observations of x4\n",
    " +df_weights[\"subarchetype5\"][4]*df_bootstraps['x5'] #weight of x5 * observations of x5\n",
    " +df_weights[\"subarchetype5\"][5]*df_bootstraps['x6'] #weight of x6 * observations of x6\n",
    ")\n",
    "\n",
    "g_subarchetype5_bootstraps\n",
    "\n",
    "\n",
    "# #### Compute the left-sided probability of g distribution, for subarchetype 5\n",
    "\n",
    "# In[ ]:\n",
    "\n",
    "\n",
    "# let's create the empirical distribution of g archetype 5\n",
    "sns.histplot(data=g_subarchetype5_bootstraps, kde=True, stat='probability')"
   ]
  },
  {
   "cell_type": "code",
   "execution_count": 67,
   "id": "a32bbed9",
   "metadata": {},
   "outputs": [
    {
     "data": {
      "text/plain": [
       "<AxesSubplot:ylabel='Density'>"
      ]
     },
     "execution_count": 67,
     "metadata": {},
     "output_type": "execute_result"
    },
    {
     "data": {
      "text/plain": [
       "Text(0.5, 1.0, 'Subarchetype 5 Simulated Distribution - Bootstrapped x_i')"
      ]
     },
     "execution_count": 67,
     "metadata": {},
     "output_type": "execute_result"
    },
    {
     "data": {
      "image/png": "[encoded data removed]",
      "text/plain": [
       "<Figure size 432x288 with 1 Axes>"
      ]
     },
     "metadata": {
      "needs_background": "light"
     },
     "output_type": "display_data"
    }
   ],
   "source": [
    "# instead of cutting off the distribution at the lowest empirical value, let's smooth it out\n",
    "\n",
    "sns.kdeplot(data=g_subarchetype5_bootstraps, shade = True)\n",
    "plt.title(\"Subarchetype 5 Simulated Distribution - Bootstrapped x_i\")\n",
    "\n",
    "plt.savefig('g_subarchetype5_distribution-BOOTSTRAP_UNDERLYING.png')"
   ]
  },
  {
   "cell_type": "code",
   "execution_count": 68,
   "id": "33283717",
   "metadata": {},
   "outputs": [
    {
     "data": {
      "text/html": [
       "<div>\n",
       "<style scoped>\n",
       "    .dataframe tbody tr th:only-of-type {\n",
       "        vertical-align: middle;\n",
       "    }\n",
       "\n",
       "    .dataframe tbody tr th {\n",
       "        vertical-align: top;\n",
       "    }\n",
       "\n",
       "    .dataframe thead th {\n",
       "        text-align: right;\n",
       "    }\n",
       "</style>\n",
       "<table border=\"1\" class=\"dataframe\">\n",
       "  <thead>\n",
       "    <tr style=\"text-align: right;\">\n",
       "      <th></th>\n",
       "      <th>Left-Sided Demand Deviation</th>\n",
       "      <th>Probability</th>\n",
       "    </tr>\n",
       "  </thead>\n",
       "  <tbody>\n",
       "    <tr>\n",
       "      <th>0</th>\n",
       "      <td>-0.484682</td>\n",
       "      <td>0.000000e+00</td>\n",
       "    </tr>\n",
       "    <tr>\n",
       "      <th>1</th>\n",
       "      <td>-0.481015</td>\n",
       "      <td>1.864558e-07</td>\n",
       "    </tr>\n",
       "    <tr>\n",
       "      <th>2</th>\n",
       "      <td>-0.477349</td>\n",
       "      <td>5.790395e-07</td>\n",
       "    </tr>\n",
       "    <tr>\n",
       "      <th>3</th>\n",
       "      <td>-0.473683</td>\n",
       "      <td>1.345803e-06</td>\n",
       "    </tr>\n",
       "    <tr>\n",
       "      <th>4</th>\n",
       "      <td>-0.470017</td>\n",
       "      <td>2.735001e-06</td>\n",
       "    </tr>\n",
       "    <tr>\n",
       "      <th>...</th>\n",
       "      <td>...</td>\n",
       "      <td>...</td>\n",
       "    </tr>\n",
       "    <tr>\n",
       "      <th>195</th>\n",
       "      <td>0.230211</td>\n",
       "      <td>9.999934e-01</td>\n",
       "    </tr>\n",
       "    <tr>\n",
       "      <th>196</th>\n",
       "      <td>0.233877</td>\n",
       "      <td>9.999969e-01</td>\n",
       "    </tr>\n",
       "    <tr>\n",
       "      <th>197</th>\n",
       "      <td>0.237543</td>\n",
       "      <td>9.999985e-01</td>\n",
       "    </tr>\n",
       "    <tr>\n",
       "      <th>198</th>\n",
       "      <td>0.241209</td>\n",
       "      <td>9.999993e-01</td>\n",
       "    </tr>\n",
       "    <tr>\n",
       "      <th>199</th>\n",
       "      <td>0.244875</td>\n",
       "      <td>9.999996e-01</td>\n",
       "    </tr>\n",
       "  </tbody>\n",
       "</table>\n",
       "<p>200 rows × 2 columns</p>\n",
       "</div>"
      ],
      "text/plain": [
       "     Left-Sided Demand Deviation   Probability\n",
       "0                      -0.484682  0.000000e+00\n",
       "1                      -0.481015  1.864558e-07\n",
       "2                      -0.477349  5.790395e-07\n",
       "3                      -0.473683  1.345803e-06\n",
       "4                      -0.470017  2.735001e-06\n",
       "..                           ...           ...\n",
       "195                     0.230211  9.999934e-01\n",
       "196                     0.233877  9.999969e-01\n",
       "197                     0.237543  9.999985e-01\n",
       "198                     0.241209  9.999993e-01\n",
       "199                     0.244875  9.999996e-01\n",
       "\n",
       "[200 rows x 2 columns]"
      ]
     },
     "execution_count": 68,
     "metadata": {},
     "output_type": "execute_result"
    },
    {
     "data": {
      "image/png": "[encoded data removed]",
      "text/plain": [
       "<Figure size 432x288 with 1 Axes>"
      ]
     },
     "metadata": {
      "needs_background": "light"
     },
     "output_type": "display_data"
    }
   ],
   "source": [
    "# get data from CDF\n",
    "kde_g5 = sns.kdeplot(data=g_subarchetype5_bootstraps, cumulative=True)\n",
    "\n",
    "line = kde_g5.lines[0]\n",
    "x, y = line.get_data()\n",
    "\n",
    "df_g_subarchetype5_bootstrap_probs = pd.DataFrame(\n",
    "    {\n",
    "        'Left-Sided Demand Deviation':x,\n",
    "        'Probability':y\n",
    "    }\n",
    ")\n",
    "\n",
    "df_g_subarchetype5_bootstrap_probs"
   ]
  },
  {
   "cell_type": "code",
   "execution_count": 69,
   "id": "371c1a5b",
   "metadata": {},
   "outputs": [
    {
     "data": {
      "text/html": [
       "<div>\n",
       "<style scoped>\n",
       "    .dataframe tbody tr th:only-of-type {\n",
       "        vertical-align: middle;\n",
       "    }\n",
       "\n",
       "    .dataframe tbody tr th {\n",
       "        vertical-align: top;\n",
       "    }\n",
       "\n",
       "    .dataframe thead th {\n",
       "        text-align: right;\n",
       "    }\n",
       "</style>\n",
       "<table border=\"1\" class=\"dataframe\">\n",
       "  <thead>\n",
       "    <tr style=\"text-align: right;\">\n",
       "      <th></th>\n",
       "      <th>Subarchetype</th>\n",
       "      <th>Below Rate of Return</th>\n",
       "      <th>Negative Operating Profit</th>\n",
       "      <th>40%</th>\n",
       "    </tr>\n",
       "  </thead>\n",
       "  <tbody>\n",
       "    <tr>\n",
       "      <th>0</th>\n",
       "      <td>1: Medium grid-sourced electrolytic producer: ...</td>\n",
       "      <td>0.017009</td>\n",
       "      <td>0.0</td>\n",
       "      <td>0.000000</td>\n",
       "    </tr>\n",
       "    <tr>\n",
       "      <th>1</th>\n",
       "      <td>2: Medium grid-sourced electrolytic producer: ...</td>\n",
       "      <td>0.001902</td>\n",
       "      <td>0.0</td>\n",
       "      <td>0.000000</td>\n",
       "    </tr>\n",
       "    <tr>\n",
       "      <th>2</th>\n",
       "      <td>3: CCUS-enabled producer serving a large indus...</td>\n",
       "      <td>0.081694</td>\n",
       "      <td>0.0</td>\n",
       "      <td>0.000102</td>\n",
       "    </tr>\n",
       "    <tr>\n",
       "      <th>3</th>\n",
       "      <td>4: CCUS-enabled producer serving a large indus...</td>\n",
       "      <td>0.004065</td>\n",
       "      <td>0.0</td>\n",
       "      <td>0.000000</td>\n",
       "    </tr>\n",
       "    <tr>\n",
       "      <th>4</th>\n",
       "      <td>5: CCUS-enabled producer serving a large indus...</td>\n",
       "      <td>0.000456</td>\n",
       "      <td>0.0</td>\n",
       "      <td>0.000000</td>\n",
       "    </tr>\n",
       "    <tr>\n",
       "      <th>5</th>\n",
       "      <td>6: Small co-developed renewable electrolytic s...</td>\n",
       "      <td>NaN</td>\n",
       "      <td>NaN</td>\n",
       "      <td>NaN</td>\n",
       "    </tr>\n",
       "  </tbody>\n",
       "</table>\n",
       "</div>"
      ],
      "text/plain": [
       "                                        Subarchetype  Below Rate of Return  \\\n",
       "0  1: Medium grid-sourced electrolytic producer: ...              0.017009   \n",
       "1  2: Medium grid-sourced electrolytic producer: ...              0.001902   \n",
       "2  3: CCUS-enabled producer serving a large indus...              0.081694   \n",
       "3  4: CCUS-enabled producer serving a large indus...              0.004065   \n",
       "4  5: CCUS-enabled producer serving a large indus...              0.000456   \n",
       "5  6: Small co-developed renewable electrolytic s...                   NaN   \n",
       "\n",
       "   Negative Operating Profit       40%  \n",
       "0                        0.0  0.000000  \n",
       "1                        0.0  0.000000  \n",
       "2                        0.0  0.000102  \n",
       "3                        0.0  0.000000  \n",
       "4                        0.0  0.000000  \n",
       "5                        NaN       NaN  "
      ]
     },
     "execution_count": 69,
     "metadata": {},
     "output_type": "execute_result"
    }
   ],
   "source": [
    "\n",
    "# store bootstrap_res for subarchetype 5\n",
    "\n",
    "df_subarchetype_bootstrap_res.at[4,'Below Rate of Return']=df_g_subarchetype5_bootstrap_probs.loc[\n",
    "    find_neighbours(\n",
    "        BELOW_RATE_OF_RETURN_g5,df_g_subarchetype5_bootstrap_probs,'Left-Sided Demand Deviation')[1]\n",
    "][1]\n",
    "\n",
    "# if 0 probability, there will be an error. If so, then manually set probability to 0\n",
    "try:\n",
    "    df_subarchetype_bootstrap_res.at[4,'Negative Operating Profit']=df_g_subarchetype5_bootstrap_probs.loc[\n",
    "    find_neighbours(\n",
    "        NEG_OPER_PROFIT,df_g_subarchetype5_bootstrap_probs,'Left-Sided Demand Deviation')[1]\n",
    "][1]\n",
    "\n",
    "except ValueError:\n",
    "    df_subarchetype_bootstrap_res.at[4,'Negative Operating Profit']=0\n",
    "    \n",
    "    \n",
    "    \n",
    "# if 0 probability, there will be an error. If so, then manually set probability to 0\n",
    "try:\n",
    "    df_subarchetype_bootstrap_res.at[4,'40%']=df_g_subarchetype5_bootstrap_probs.loc[\n",
    "    find_neighbours(\n",
    "        FOURTY_PERCENT_g5,df_g_subarchetype5_bootstrap_probs,'Left-Sided Demand Deviation')[1]\n",
    "][1]\n",
    "\n",
    "except ValueError:\n",
    "    df_subarchetype_bootstrap_res.at[4,'40%']=0\n",
    "    \n",
    "df_subarchetype_bootstrap_res"
   ]
  },
  {
   "cell_type": "markdown",
   "id": "898397cd",
   "metadata": {},
   "source": [
    "### 6) Simulate the sixth subarchetype: \"Small co-developed renewable electrolytic sites for assorted uses\""
   ]
  },
  {
   "cell_type": "code",
   "execution_count": 70,
   "id": "94e5477f",
   "metadata": {},
   "outputs": [
    {
     "data": {
      "text/plain": [
       "0      -0.027461\n",
       "1      -0.085431\n",
       "2       0.009067\n",
       "3       0.040106\n",
       "4       0.040357\n",
       "          ...   \n",
       "9995    0.054979\n",
       "9996   -0.032621\n",
       "9997    0.012408\n",
       "9998    0.060283\n",
       "9999   -0.105812\n",
       "Length: 10000, dtype: float64"
      ]
     },
     "execution_count": 70,
     "metadata": {},
     "output_type": "execute_result"
    },
    {
     "data": {
      "text/plain": [
       "<AxesSubplot:ylabel='Probability'>"
      ]
     },
     "execution_count": 70,
     "metadata": {},
     "output_type": "execute_result"
    },
    {
     "data": {
      "image/png": "[encoded data removed]",
      "text/plain": [
       "<Figure size 432x288 with 1 Axes>"
      ]
     },
     "metadata": {
      "needs_background": "light"
     },
     "output_type": "display_data"
    }
   ],
   "source": [
    "\n",
    "# simulate g(X) for \"Small co-developed renewable electrolytic sites for assorted uses\"\n",
    "g_subarchetype6_bootstraps = (\n",
    " df_weights[\"subarchetype6\"][0]*df_bootstraps['x1'] #weight of x1 * observations of x1\n",
    " +df_weights[\"subarchetype6\"][1]*df_bootstraps['x2'] #weight of x2 * observations of x2\n",
    " +df_weights[\"subarchetype6\"][2]*df_bootstraps['x3'] #weight of x3 * observations of x3\n",
    " +df_weights[\"subarchetype6\"][3]*df_bootstraps['x4'] #weight of x4 * observations of x4\n",
    " +df_weights[\"subarchetype6\"][4]*df_bootstraps['x5'] #weight of x5 * observations of x5\n",
    " +df_weights[\"subarchetype6\"][5]*df_bootstraps['x6'] #weight of x6 * observations of x6\n",
    ")\n",
    "\n",
    "g_subarchetype6_bootstraps\n",
    "\n",
    "\n",
    "# #### Compute the left-sided probability of g distribution, for subarchetype 6\n",
    "\n",
    "# In[ ]:\n",
    "\n",
    "\n",
    "# let's create the empirical distribution of g archetype 6\n",
    "sns.histplot(data=g_subarchetype6_bootstraps, kde=True, stat='probability')\n"
   ]
  },
  {
   "cell_type": "code",
   "execution_count": 71,
   "id": "3d5d33a1",
   "metadata": {},
   "outputs": [
    {
     "data": {
      "text/plain": [
       "<AxesSubplot:ylabel='Density'>"
      ]
     },
     "execution_count": 71,
     "metadata": {},
     "output_type": "execute_result"
    },
    {
     "data": {
      "text/plain": [
       "Text(0.5, 1.0, 'Subarchetype 6 Simulated Distribution - Bootstrapped x_i')"
      ]
     },
     "execution_count": 71,
     "metadata": {},
     "output_type": "execute_result"
    },
    {
     "data": {
      "image/png": "[encoded data removed]",
      "text/plain": [
       "<Figure size 432x288 with 1 Axes>"
      ]
     },
     "metadata": {
      "needs_background": "light"
     },
     "output_type": "display_data"
    }
   ],
   "source": [
    "# instead of cutting off the distribution at the lowest empirical value, let's smooth it out\n",
    "\n",
    "sns.kdeplot(data=g_subarchetype6_bootstraps, shade = True)\n",
    "plt.title(\"Subarchetype 6 Simulated Distribution - Bootstrapped x_i\")\n",
    "\n",
    "plt.savefig('g_subarchetype6_distribution-BOOTSTRAP_UNDERLYING.png')"
   ]
  },
  {
   "cell_type": "code",
   "execution_count": 72,
   "id": "324692c1",
   "metadata": {},
   "outputs": [
    {
     "data": {
      "text/html": [
       "<div>\n",
       "<style scoped>\n",
       "    .dataframe tbody tr th:only-of-type {\n",
       "        vertical-align: middle;\n",
       "    }\n",
       "\n",
       "    .dataframe tbody tr th {\n",
       "        vertical-align: top;\n",
       "    }\n",
       "\n",
       "    .dataframe thead th {\n",
       "        text-align: right;\n",
       "    }\n",
       "</style>\n",
       "<table border=\"1\" class=\"dataframe\">\n",
       "  <thead>\n",
       "    <tr style=\"text-align: right;\">\n",
       "      <th></th>\n",
       "      <th>Left-Sided Demand Deviation</th>\n",
       "      <th>Probability</th>\n",
       "    </tr>\n",
       "  </thead>\n",
       "  <tbody>\n",
       "    <tr>\n",
       "      <th>0</th>\n",
       "      <td>-0.492779</td>\n",
       "      <td>0.000000e+00</td>\n",
       "    </tr>\n",
       "    <tr>\n",
       "      <th>1</th>\n",
       "      <td>-0.488724</td>\n",
       "      <td>3.343024e-07</td>\n",
       "    </tr>\n",
       "    <tr>\n",
       "      <th>2</th>\n",
       "      <td>-0.484668</td>\n",
       "      <td>1.075830e-06</td>\n",
       "    </tr>\n",
       "    <tr>\n",
       "      <th>3</th>\n",
       "      <td>-0.480612</td>\n",
       "      <td>2.619120e-06</td>\n",
       "    </tr>\n",
       "    <tr>\n",
       "      <th>4</th>\n",
       "      <td>-0.476556</td>\n",
       "      <td>5.634766e-06</td>\n",
       "    </tr>\n",
       "    <tr>\n",
       "      <th>...</th>\n",
       "      <td>...</td>\n",
       "      <td>...</td>\n",
       "    </tr>\n",
       "    <tr>\n",
       "      <th>195</th>\n",
       "      <td>0.298115</td>\n",
       "      <td>9.999832e-01</td>\n",
       "    </tr>\n",
       "    <tr>\n",
       "      <th>196</th>\n",
       "      <td>0.302170</td>\n",
       "      <td>9.999916e-01</td>\n",
       "    </tr>\n",
       "    <tr>\n",
       "      <th>197</th>\n",
       "      <td>0.306226</td>\n",
       "      <td>9.999960e-01</td>\n",
       "    </tr>\n",
       "    <tr>\n",
       "      <th>198</th>\n",
       "      <td>0.310282</td>\n",
       "      <td>9.999981e-01</td>\n",
       "    </tr>\n",
       "    <tr>\n",
       "      <th>199</th>\n",
       "      <td>0.314338</td>\n",
       "      <td>9.999991e-01</td>\n",
       "    </tr>\n",
       "  </tbody>\n",
       "</table>\n",
       "<p>200 rows × 2 columns</p>\n",
       "</div>"
      ],
      "text/plain": [
       "     Left-Sided Demand Deviation   Probability\n",
       "0                      -0.492779  0.000000e+00\n",
       "1                      -0.488724  3.343024e-07\n",
       "2                      -0.484668  1.075830e-06\n",
       "3                      -0.480612  2.619120e-06\n",
       "4                      -0.476556  5.634766e-06\n",
       "..                           ...           ...\n",
       "195                     0.298115  9.999832e-01\n",
       "196                     0.302170  9.999916e-01\n",
       "197                     0.306226  9.999960e-01\n",
       "198                     0.310282  9.999981e-01\n",
       "199                     0.314338  9.999991e-01\n",
       "\n",
       "[200 rows x 2 columns]"
      ]
     },
     "execution_count": 72,
     "metadata": {},
     "output_type": "execute_result"
    },
    {
     "data": {
      "image/png": "[encoded data removed]",
      "text/plain": [
       "<Figure size 432x288 with 1 Axes>"
      ]
     },
     "metadata": {
      "needs_background": "light"
     },
     "output_type": "display_data"
    }
   ],
   "source": [
    "# get data from CDF\n",
    "kde_g6 = sns.kdeplot(data=g_subarchetype6_bootstraps, cumulative=True)\n",
    "\n",
    "line = kde_g6.lines[0]\n",
    "x, y = line.get_data()\n",
    "\n",
    "df_g_subarchetype6_bootstrap_probs = pd.DataFrame(\n",
    "    {\n",
    "        'Left-Sided Demand Deviation':x,\n",
    "        'Probability':y\n",
    "    }\n",
    ")\n",
    "\n",
    "df_g_subarchetype6_bootstrap_probs"
   ]
  },
  {
   "cell_type": "code",
   "execution_count": 73,
   "id": "18b4e8b4",
   "metadata": {
    "scrolled": true
   },
   "outputs": [
    {
     "data": {
      "text/html": [
       "<div>\n",
       "<style scoped>\n",
       "    .dataframe tbody tr th:only-of-type {\n",
       "        vertical-align: middle;\n",
       "    }\n",
       "\n",
       "    .dataframe tbody tr th {\n",
       "        vertical-align: top;\n",
       "    }\n",
       "\n",
       "    .dataframe thead th {\n",
       "        text-align: right;\n",
       "    }\n",
       "</style>\n",
       "<table border=\"1\" class=\"dataframe\">\n",
       "  <thead>\n",
       "    <tr style=\"text-align: right;\">\n",
       "      <th></th>\n",
       "      <th>Subarchetype</th>\n",
       "      <th>Below Rate of Return</th>\n",
       "      <th>Negative Operating Profit</th>\n",
       "      <th>40%</th>\n",
       "    </tr>\n",
       "  </thead>\n",
       "  <tbody>\n",
       "    <tr>\n",
       "      <th>0</th>\n",
       "      <td>1: Medium grid-sourced electrolytic producer: ...</td>\n",
       "      <td>0.017009</td>\n",
       "      <td>0.0</td>\n",
       "      <td>0.000000</td>\n",
       "    </tr>\n",
       "    <tr>\n",
       "      <th>1</th>\n",
       "      <td>2: Medium grid-sourced electrolytic producer: ...</td>\n",
       "      <td>0.001902</td>\n",
       "      <td>0.0</td>\n",
       "      <td>0.000000</td>\n",
       "    </tr>\n",
       "    <tr>\n",
       "      <th>2</th>\n",
       "      <td>3: CCUS-enabled producer serving a large indus...</td>\n",
       "      <td>0.081694</td>\n",
       "      <td>0.0</td>\n",
       "      <td>0.000102</td>\n",
       "    </tr>\n",
       "    <tr>\n",
       "      <th>3</th>\n",
       "      <td>4: CCUS-enabled producer serving a large indus...</td>\n",
       "      <td>0.004065</td>\n",
       "      <td>0.0</td>\n",
       "      <td>0.000000</td>\n",
       "    </tr>\n",
       "    <tr>\n",
       "      <th>4</th>\n",
       "      <td>5: CCUS-enabled producer serving a large indus...</td>\n",
       "      <td>0.000456</td>\n",
       "      <td>0.0</td>\n",
       "      <td>0.000000</td>\n",
       "    </tr>\n",
       "    <tr>\n",
       "      <th>5</th>\n",
       "      <td>6: Small co-developed renewable electrolytic s...</td>\n",
       "      <td>0.003685</td>\n",
       "      <td>0.0</td>\n",
       "      <td>0.000000</td>\n",
       "    </tr>\n",
       "  </tbody>\n",
       "</table>\n",
       "</div>"
      ],
      "text/plain": [
       "                                        Subarchetype  Below Rate of Return  \\\n",
       "0  1: Medium grid-sourced electrolytic producer: ...              0.017009   \n",
       "1  2: Medium grid-sourced electrolytic producer: ...              0.001902   \n",
       "2  3: CCUS-enabled producer serving a large indus...              0.081694   \n",
       "3  4: CCUS-enabled producer serving a large indus...              0.004065   \n",
       "4  5: CCUS-enabled producer serving a large indus...              0.000456   \n",
       "5  6: Small co-developed renewable electrolytic s...              0.003685   \n",
       "\n",
       "   Negative Operating Profit       40%  \n",
       "0                        0.0  0.000000  \n",
       "1                        0.0  0.000000  \n",
       "2                        0.0  0.000102  \n",
       "3                        0.0  0.000000  \n",
       "4                        0.0  0.000000  \n",
       "5                        0.0  0.000000  "
      ]
     },
     "execution_count": 73,
     "metadata": {},
     "output_type": "execute_result"
    }
   ],
   "source": [
    "\n",
    "# store bootstrap_res for subarchetype 6\n",
    "\n",
    "df_subarchetype_bootstrap_res.at[5,'Below Rate of Return']=df_g_subarchetype6_bootstrap_probs.loc[\n",
    "    find_neighbours(\n",
    "        BELOW_RATE_OF_RETURN_g6,df_g_subarchetype6_bootstrap_probs,'Left-Sided Demand Deviation')[1]\n",
    "][1]\n",
    "\n",
    "# if 0 probability, there will be an error. If so, then manually set probability to 0\n",
    "try:\n",
    "    df_subarchetype_bootstrap_res.at[5,'Negative Operating Profit']=df_g_subarchetype6_bootstrap_probs.loc[\n",
    "    find_neighbours(\n",
    "        NEG_OPER_PROFIT,df_g_subarchetype6_bootstrap_probs,'Left-Sided Demand Deviation')[1]\n",
    "][1]\n",
    "\n",
    "except ValueError:\n",
    "    df_subarchetype_bootstrap_res.at[5,'Negative Operating Profit']=0\n",
    "    \n",
    "    \n",
    "# if 0 probability, there will be an error. If so, then manually set probability to 0\n",
    "try:\n",
    "    df_subarchetype_bootstrap_res.at[5,'40%']=df_g_subarchetype6_bootstrap_probs.loc[\n",
    "    find_neighbours(\n",
    "        FOURTY_PERCENT_g6,df_g_subarchetype6_bootstrap_probs,'Left-Sided Demand Deviation')[1]\n",
    "][1]\n",
    "\n",
    "except ValueError:\n",
    "    df_subarchetype_bootstrap_res.at[5,'40%']=0\n",
    "    \n",
    "df_subarchetype_bootstrap_res"
   ]
  },
  {
   "cell_type": "markdown",
   "id": "626f159a",
   "metadata": {},
   "source": [
    "### STORE RESULTS"
   ]
  },
  {
   "cell_type": "code",
   "execution_count": 74,
   "id": "9e7e344f",
   "metadata": {},
   "outputs": [],
   "source": [
    "# save to csv\n",
    "\n",
    "df_subarchetype_bootstrap_res.to_csv('subarchetype_results-bootstrapped_underlying.csv')"
   ]
  }
 ],
 "metadata": {
  "kernelspec": {
   "display_name": "Python 3",
   "language": "python",
   "name": "python3"
  },
  "language_info": {
   "codemirror_mode": {
    "name": "ipython",
    "version": 3
   },
   "file_extension": ".py",
   "mimetype": "text/x-python",
   "name": "python",
   "nbconvert_exporter": "python",
   "pygments_lexer": "ipython3",
   "version": "3.8.8"
  }
 },
 "nbformat": 4,
 "nbformat_minor": 5
}
